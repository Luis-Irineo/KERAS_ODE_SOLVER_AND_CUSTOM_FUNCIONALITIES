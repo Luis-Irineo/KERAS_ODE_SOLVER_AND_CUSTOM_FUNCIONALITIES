{
 "cells": [
  {
   "cell_type": "code",
   "execution_count": 270,
   "id": "6000af8f-c6e8-4742-8a0d-37d3d9158ea7",
   "metadata": {},
   "outputs": [],
   "source": [
    "import warnings\n",
    "warnings.filterwarnings('ignore')\n",
    "import tensorflow as tf\n",
    "import numpy as np\n",
    "import matplotlib.pyplot as plt\n",
    "from matplotlib.image import imread\n",
    "import sklearn\n",
    "import os\n",
    "import time"
   ]
  },
  {
   "cell_type": "code",
   "execution_count": 271,
   "id": "7c7e90ef-7bfc-41b4-8aab-e8af9656ff5a",
   "metadata": {},
   "outputs": [],
   "source": [
    "from tensorflow import keras\n",
    "from tensorflow.keras.models import Sequential\n",
    "from keras import layers\n",
    "from keras import initializers\n",
    "from tensorflow.keras.layers import Dense, Dropout, Activation\n",
    "from tensorflow.keras.optimizers import RMSprop, SGD, Adam\n",
    "from tensorflow.keras import regularizers\n",
    "from tensorflow.keras.models import load_model\n",
    "from sklearn.model_selection import train_test_split\n",
    "from sklearn.model_selection import train_test_split\n",
    "from sklearn.preprocessing import StandardScaler\n",
    "from tensorflow.keras.callbacks import EarlyStopping"
   ]
  },
  {
   "cell_type": "code",
   "execution_count": 285,
   "id": "94fee6e6-8f48-40a6-8b59-7a5b10d87270",
   "metadata": {},
   "outputs": [
    {
     "name": "stdout",
     "output_type": "stream",
     "text": [
      "Requirement already satisfied: wandb in /usr/local/lib/python3.11/dist-packages (0.22.0)\n",
      "Requirement already satisfied: click>=8.0.1 in /usr/local/lib/python3.11/dist-packages (from wandb) (8.3.0)\n",
      "Requirement already satisfied: gitpython!=3.1.29,>=1.0.0 in /usr/local/lib/python3.11/dist-packages (from wandb) (3.1.45)\n",
      "Requirement already satisfied: packaging in /usr/local/lib/python3.11/dist-packages (from wandb) (25.0)\n",
      "Requirement already satisfied: platformdirs in /usr/local/lib/python3.11/dist-packages (from wandb) (4.3.8)\n",
      "Requirement already satisfied: protobuf!=4.21.0,!=5.28.0,<7,>=3.19.0 in /usr/local/lib/python3.11/dist-packages (from wandb) (6.31.1)\n",
      "Requirement already satisfied: pydantic<3 in /usr/local/lib/python3.11/dist-packages (from wandb) (2.11.9)\n",
      "Requirement already satisfied: pyyaml in /usr/local/lib/python3.11/dist-packages (from wandb) (6.0.2)\n",
      "Requirement already satisfied: requests<3,>=2.0.0 in /usr/local/lib/python3.11/dist-packages (from wandb) (2.32.4)\n",
      "Requirement already satisfied: sentry-sdk>=2.0.0 in /usr/local/lib/python3.11/dist-packages (from wandb) (2.38.0)\n",
      "Requirement already satisfied: typing-extensions<5,>=4.8 in /usr/local/lib/python3.11/dist-packages (from wandb) (4.14.1)\n",
      "Requirement already satisfied: annotated-types>=0.6.0 in /usr/local/lib/python3.11/dist-packages (from pydantic<3->wandb) (0.7.0)\n",
      "Requirement already satisfied: pydantic-core==2.33.2 in /usr/local/lib/python3.11/dist-packages (from pydantic<3->wandb) (2.33.2)\n",
      "Requirement already satisfied: typing-inspection>=0.4.0 in /usr/local/lib/python3.11/dist-packages (from pydantic<3->wandb) (0.4.1)\n",
      "Requirement already satisfied: charset_normalizer<4,>=2 in /usr/local/lib/python3.11/dist-packages (from requests<3,>=2.0.0->wandb) (3.4.3)\n",
      "Requirement already satisfied: idna<4,>=2.5 in /usr/local/lib/python3.11/dist-packages (from requests<3,>=2.0.0->wandb) (3.10)\n",
      "Requirement already satisfied: urllib3<3,>=1.21.1 in /usr/local/lib/python3.11/dist-packages (from requests<3,>=2.0.0->wandb) (2.5.0)\n",
      "Requirement already satisfied: certifi>=2017.4.17 in /usr/local/lib/python3.11/dist-packages (from requests<3,>=2.0.0->wandb) (2025.8.3)\n",
      "Requirement already satisfied: gitdb<5,>=4.0.1 in /usr/local/lib/python3.11/dist-packages (from gitpython!=3.1.29,>=1.0.0->wandb) (4.0.12)\n",
      "Requirement already satisfied: smmap<6,>=3.0.1 in /usr/local/lib/python3.11/dist-packages (from gitdb<5,>=4.0.1->gitpython!=3.1.29,>=1.0.0->wandb) (5.0.2)\n",
      "\u001b[33mWARNING: Running pip as the 'root' user can result in broken permissions and conflicting behaviour with the system package manager, possibly rendering your system unusable. It is recommended to use a virtual environment instead: https://pip.pypa.io/warnings/venv. Use the --root-user-action option if you know what you are doing and want to suppress this warning.\u001b[0m\u001b[33m\n",
      "\u001b[0mRequirement already satisfied: scikit-learn in /usr/local/lib/python3.11/dist-packages (1.7.2)\n",
      "Requirement already satisfied: numpy>=1.22.0 in /usr/local/lib/python3.11/dist-packages (from scikit-learn) (2.3.2)\n",
      "Requirement already satisfied: scipy>=1.8.0 in /usr/local/lib/python3.11/dist-packages (from scikit-learn) (1.16.2)\n",
      "Requirement already satisfied: joblib>=1.2.0 in /usr/local/lib/python3.11/dist-packages (from scikit-learn) (1.5.2)\n",
      "Requirement already satisfied: threadpoolctl>=3.1.0 in /usr/local/lib/python3.11/dist-packages (from scikit-learn) (3.6.0)\n",
      "\u001b[33mWARNING: Running pip as the 'root' user can result in broken permissions and conflicting behaviour with the system package manager, possibly rendering your system unusable. It is recommended to use a virtual environment instead: https://pip.pypa.io/warnings/venv. Use the --root-user-action option if you know what you are doing and want to suppress this warning.\u001b[0m\u001b[33m\n",
      "\u001b[0m"
     ]
    }
   ],
   "source": [
    "# !pip3 install --upgrade wandb\n",
    "# !pip install scikit-learn"
   ]
  },
  {
   "cell_type": "code",
   "execution_count": 273,
   "id": "1131ba22-536e-4866-bcad-4072da7dbcb8",
   "metadata": {},
   "outputs": [],
   "source": [
    "import wandb\n",
    "from wandb.integration.keras import WandbMetricsLogger, WandbModelCheckpoint\n",
    "wandb.login()"
   ]
  },
  {
   "cell_type": "code",
   "execution_count": 274,
   "id": "87b0fe70-8c08-4386-bedf-b747b62aa7b0",
   "metadata": {},
   "outputs": [],
   "source": [
    "lr = 0.005 #Learning rate\n",
    "epochs = 50\n",
    "bs = 120 #batch size\n",
    "loss = \"mse\"\n",
    "optimizer = \"ADAM\"\n",
    "regularizer = \"L2\""
   ]
  },
  {
   "cell_type": "code",
   "execution_count": 275,
   "id": "a886925e-2051-4dc7-a50d-5013104ce67b",
   "metadata": {},
   "outputs": [],
   "source": [
    "run = wandb.init(\n",
    "    settings=wandb.Settings(x_disable_stats=False, x_stats_sampling_interval = 1.0),\n",
    "    # set the wandb project where this run will be logged\n",
    "    name = \"Intento_intento_con_DO_L1L2_adam_more_data\",\n",
    "    project = \"Creacion_de_regresion_lineal\",\n",
    "    group = \"Pol\",\n",
    "\n",
    "    # track hyperparameters and run metadata with wandb.config\n",
    "    config = {\n",
    "        \"layer_1\": 512,\n",
    "        \"activation\": \"relu\",\n",
    "        \"w_initializer\": \"He Initialization\",\n",
    "        \"optimizer\": optimizer,\n",
    "        \"loss\": loss,\n",
    "        \"metric\": \"mse\",\n",
    "        \"epoch\": epochs,\n",
    "        \"batch_size\": bs,\n",
    "        \"layer_quantity\": 1,\n",
    "        \"regularizer\": regularizer,\n",
    "        \"Modelo\": \"Pol\"\n",
    "    }\n",
    ")\n",
    "time.sleep(3.0)"
   ]
  },
  {
   "cell_type": "markdown",
   "id": "5cb222f2-a406-4a77-b113-a9901cd14200",
   "metadata": {},
   "source": [
    "# Preparando la red neuronal (Recolección de datos y preprocesamiento)"
   ]
  },
  {
   "cell_type": "markdown",
   "id": "e3221333-e459-4472-b957-77046a6dd66e",
   "metadata": {},
   "source": [
    "## Definimos las funciones que queremos usar"
   ]
  },
  {
   "cell_type": "code",
   "execution_count": 276,
   "id": "baa9eab5-e670-4675-9196-2f4bca871820",
   "metadata": {},
   "outputs": [],
   "source": [
    "domain = np.linspace(-1,1,20000)\n",
    "\n",
    "def function_1(domain):\n",
    "    return 3*np.sin(np.pi * domain)\n",
    "\n",
    "def function_2(domain):\n",
    "    return 1 + 2*domain + 4*(domain**3)\n",
    "\n",
    "codomain_sin = function_1(domain)\n",
    "codomain_pol = function_2(domain)\n",
    "\n",
    "#Transformamos los arreglos de numpy en vectores para que keras los reconozca\n",
    "domain = domain.reshape(-1,1)\n",
    "codomain_sin = codomain_sin.reshape(-1,1)\n",
    "codomain_pol = codomain_pol.reshape(-1,1)"
   ]
  },
  {
   "cell_type": "markdown",
   "id": "4b062981-5b16-4e9d-b3c1-de380d5be1c6",
   "metadata": {},
   "source": [
    "## Creamos los datos que va a recibir la red neuronal"
   ]
  },
  {
   "cell_type": "code",
   "execution_count": 277,
   "id": "343c274e-3fd5-43c0-be99-f3edf427c36c",
   "metadata": {},
   "outputs": [],
   "source": [
    "#Se dividen los datos en train y test de tipo 80:20 (train:test) y se deja el random state fijo para replicabilidad\n",
    "\n",
    "X_train_sin, X_test_sin, y_train_sin, y_test_sin = train_test_split(domain, codomain_sin, test_size=0.2, random_state=42)\n",
    "\n",
    "X_train_pol, X_test_pol, y_train_pol, y_test_pol = train_test_split(domain, codomain_pol, test_size=0.2, random_state=57) "
   ]
  },
  {
   "cell_type": "markdown",
   "id": "d0a91af0-3cd7-4597-a28f-761948fa66d5",
   "metadata": {},
   "source": [
    "## Escalamos los datos (estandarización)"
   ]
  },
  {
   "cell_type": "code",
   "execution_count": 278,
   "id": "6bdab2aa-8e23-4cd3-b2fc-5958a4875b5f",
   "metadata": {},
   "outputs": [],
   "source": [
    "scale_x_sin = StandardScaler()\n",
    "scale_y_sin = StandardScaler()\n",
    "X_train_sin, y_train_sin = scale_x_sin.fit_transform(X_train_sin), scale_y_sin.fit_transform(y_train_sin)\n",
    "X_test_sin, y_test_sin = scale_x_sin.transform(X_test_sin), scale_y_sin.transform(y_test_sin)\n",
    "\n",
    "scale_x_pol = StandardScaler()\n",
    "scale_y_pol = StandardScaler()\n",
    "X_train_pol, y_train_pol = scale_x_pol.fit_transform(X_train_pol), scale_y_pol.fit_transform(y_train_pol)\n",
    "X_train_pol, y_train_pol = scale_x_pol.transform(X_train_pol), scale_y_pol.transform(y_train_pol)"
   ]
  },
  {
   "cell_type": "markdown",
   "id": "5c012c6a-6e90-484f-8d24-2062ea51bc51",
   "metadata": {},
   "source": [
    "# Creación de la red neuronal"
   ]
  },
  {
   "cell_type": "code",
   "execution_count": 279,
   "id": "1f9a96ee-cb63-49b9-945e-52ac0940af63",
   "metadata": {},
   "outputs": [
    {
     "data": {
      "text/html": [
       "<pre style=\"white-space:pre;overflow-x:auto;line-height:normal;font-family:Menlo,'DejaVu Sans Mono',consolas,'Courier New',monospace\"><span style=\"font-weight: bold\">Model: \"sequential_18\"</span>\n",
       "</pre>\n"
      ],
      "text/plain": [
       "\u001b[1mModel: \"sequential_18\"\u001b[0m\n"
      ]
     },
     "metadata": {},
     "output_type": "display_data"
    },
    {
     "data": {
      "text/html": [
       "<pre style=\"white-space:pre;overflow-x:auto;line-height:normal;font-family:Menlo,'DejaVu Sans Mono',consolas,'Courier New',monospace\">┏━━━━━━━━━━━━━━━━━━━━━━━━━━━━━━━━━┳━━━━━━━━━━━━━━━━━━━━━━━━┳━━━━━━━━━━━━━━━┓\n",
       "┃<span style=\"font-weight: bold\"> Layer (type)                    </span>┃<span style=\"font-weight: bold\"> Output Shape           </span>┃<span style=\"font-weight: bold\">       Param # </span>┃\n",
       "┡━━━━━━━━━━━━━━━━━━━━━━━━━━━━━━━━━╇━━━━━━━━━━━━━━━━━━━━━━━━╇━━━━━━━━━━━━━━━┩\n",
       "│ layer1 (<span style=\"color: #0087ff; text-decoration-color: #0087ff\">Dense</span>)                  │ (<span style=\"color: #00d7ff; text-decoration-color: #00d7ff\">None</span>, <span style=\"color: #00af00; text-decoration-color: #00af00\">64</span>)             │           <span style=\"color: #00af00; text-decoration-color: #00af00\">128</span> │\n",
       "├─────────────────────────────────┼────────────────────────┼───────────────┤\n",
       "│ dense_18 (<span style=\"color: #0087ff; text-decoration-color: #0087ff\">Dense</span>)                │ (<span style=\"color: #00d7ff; text-decoration-color: #00d7ff\">None</span>, <span style=\"color: #00af00; text-decoration-color: #00af00\">1</span>)              │            <span style=\"color: #00af00; text-decoration-color: #00af00\">65</span> │\n",
       "└─────────────────────────────────┴────────────────────────┴───────────────┘\n",
       "</pre>\n"
      ],
      "text/plain": [
       "┏━━━━━━━━━━━━━━━━━━━━━━━━━━━━━━━━━┳━━━━━━━━━━━━━━━━━━━━━━━━┳━━━━━━━━━━━━━━━┓\n",
       "┃\u001b[1m \u001b[0m\u001b[1mLayer (type)                   \u001b[0m\u001b[1m \u001b[0m┃\u001b[1m \u001b[0m\u001b[1mOutput Shape          \u001b[0m\u001b[1m \u001b[0m┃\u001b[1m \u001b[0m\u001b[1m      Param #\u001b[0m\u001b[1m \u001b[0m┃\n",
       "┡━━━━━━━━━━━━━━━━━━━━━━━━━━━━━━━━━╇━━━━━━━━━━━━━━━━━━━━━━━━╇━━━━━━━━━━━━━━━┩\n",
       "│ layer1 (\u001b[38;5;33mDense\u001b[0m)                  │ (\u001b[38;5;45mNone\u001b[0m, \u001b[38;5;34m64\u001b[0m)             │           \u001b[38;5;34m128\u001b[0m │\n",
       "├─────────────────────────────────┼────────────────────────┼───────────────┤\n",
       "│ dense_18 (\u001b[38;5;33mDense\u001b[0m)                │ (\u001b[38;5;45mNone\u001b[0m, \u001b[38;5;34m1\u001b[0m)              │            \u001b[38;5;34m65\u001b[0m │\n",
       "└─────────────────────────────────┴────────────────────────┴───────────────┘\n"
      ]
     },
     "metadata": {},
     "output_type": "display_data"
    },
    {
     "data": {
      "text/html": [
       "<pre style=\"white-space:pre;overflow-x:auto;line-height:normal;font-family:Menlo,'DejaVu Sans Mono',consolas,'Courier New',monospace\"><span style=\"font-weight: bold\"> Total params: </span><span style=\"color: #00af00; text-decoration-color: #00af00\">193</span> (772.00 B)\n",
       "</pre>\n"
      ],
      "text/plain": [
       "\u001b[1m Total params: \u001b[0m\u001b[38;5;34m193\u001b[0m (772.00 B)\n"
      ]
     },
     "metadata": {},
     "output_type": "display_data"
    },
    {
     "data": {
      "text/html": [
       "<pre style=\"white-space:pre;overflow-x:auto;line-height:normal;font-family:Menlo,'DejaVu Sans Mono',consolas,'Courier New',monospace\"><span style=\"font-weight: bold\"> Trainable params: </span><span style=\"color: #00af00; text-decoration-color: #00af00\">193</span> (772.00 B)\n",
       "</pre>\n"
      ],
      "text/plain": [
       "\u001b[1m Trainable params: \u001b[0m\u001b[38;5;34m193\u001b[0m (772.00 B)\n"
      ]
     },
     "metadata": {},
     "output_type": "display_data"
    },
    {
     "data": {
      "text/html": [
       "<pre style=\"white-space:pre;overflow-x:auto;line-height:normal;font-family:Menlo,'DejaVu Sans Mono',consolas,'Courier New',monospace\"><span style=\"font-weight: bold\"> Non-trainable params: </span><span style=\"color: #00af00; text-decoration-color: #00af00\">0</span> (0.00 B)\n",
       "</pre>\n"
      ],
      "text/plain": [
       "\u001b[1m Non-trainable params: \u001b[0m\u001b[38;5;34m0\u001b[0m (0.00 B)\n"
      ]
     },
     "metadata": {},
     "output_type": "display_data"
    }
   ],
   "source": [
    "entrada = 1\n",
    "stddev1 = np.sqrt(2/entrada)\n",
    "stddev2 = np.sqrt(2/256)\n",
    "stddev3 = np.sqrt(2/128)\n",
    "stddev4 = np.sqrt(2/64)\n",
    "\n",
    "model_pol_data = keras.Sequential(\n",
    "    [\n",
    "        layers.Dense(256, activation = \"relu\", name = \"layer1\", \n",
    "                     kernel_initializer=initializers.RandomNormal(stddev = stddev1),\n",
    "                     kernel_regularizer=regularizers.L2(l2=1e-5),\n",
    "                    ),\n",
    "        Dropout(0.2),        \n",
    "        layers.Dense(128, activation = \"relu\", name = \"layer2\", \n",
    "                     kernel_initializer=initializers.RandomNormal(stddev = stddev2),\n",
    "                     kernel_regularizer=regularizers.L2(l2=1e-5),\n",
    "                    ),\n",
    "        Dropout(0.2),\n",
    "        layers.Dense(64, activation = \"relu\", name = \"layer3\", \n",
    "                     kernel_initializer=initializers.RandomNormal(stddev = stddev3),\n",
    "                     kernel_regularizer=regularizers.L2(l2=1e-5),\n",
    "                    ),\n",
    "        Dropout(0.2),\n",
    "        layers.Dense(32, activation = \"relu\", name = \"layer4\", \n",
    "                     kernel_initializer=initializers.RandomNormal(stddev = stddev3),\n",
    "                     kernel_regularizer=regularizers.L2(l2=1e-5),\n",
    "                    ),\n",
    "        Dropout(0.2),\n",
    "        #layers.Dense(16, activation=\"tanh\", name=\"layer5\"),\n",
    "        layers.Dense(1) #Garantizamos una F(x) = y ya que solo queremos un valor posible para y\n",
    "    ]\n",
    ") #Arquitectura de la red neuronal\n",
    "\n",
    "model_pol_data.build(input_shape=(None, entrada))\n",
    "model_pol_data.compile(loss = loss, optimizer = Adam(learning_rate = lr),metrics = [\"mse\"]) #Función de costo\n",
    "model_pol_data.summary()"
   ]
  },
  {
   "cell_type": "markdown",
   "id": "edca4b61-faf4-4ffc-8ee9-883a1eee9dd8",
   "metadata": {},
   "source": [
    "## Reset ANN if needed"
   ]
  },
  {
   "cell_type": "code",
   "execution_count": 284,
   "id": "c2912e6a-a482-4d78-b873-cb08668a7122",
   "metadata": {},
   "outputs": [],
   "source": [
    "# for layer in model_pol_data.layers:\n",
    "#    if hasattr(layer, 'kernel_initializer'):\n",
    "#        new_weights = layer.kernel_initializer(layer.kernel.shape)\n",
    "#        layer.kernel.assign(new_weights)\n",
    "#    if hasattr(layer, 'bias_initializer') and layer.bias is not None:\n",
    "#        new_bias = layer.bias_initializer(layer.bias.shape)\n",
    "#        layer.bias.assign(new_bias)"
   ]
  },
  {
   "cell_type": "markdown",
   "id": "50d77d68-26ba-4372-be00-c862c69b5b64",
   "metadata": {},
   "source": [
    "## Model History"
   ]
  },
  {
   "cell_type": "code",
   "execution_count": 281,
   "id": "a850491a-355a-4769-b00c-233db1d4341e",
   "metadata": {},
   "outputs": [
    {
     "name": "stdout",
     "output_type": "stream",
     "text": [
      "Epoch 1/50\n",
      "\u001b[1m134/134\u001b[0m \u001b[32m━━━━━━━━━━━━━━━━━━━━\u001b[0m\u001b[37m\u001b[0m \u001b[1m1s\u001b[0m 2ms/step - loss: 0.2327 - mse: 0.2318 - val_loss: 8.5191 - val_mse: 8.5182\n",
      "Epoch 2/50\n",
      "\u001b[1m134/134\u001b[0m \u001b[32m━━━━━━━━━━━━━━━━━━━━\u001b[0m\u001b[37m\u001b[0m \u001b[1m0s\u001b[0m 1ms/step - loss: 0.0040 - mse: 0.0031 - val_loss: 8.5166 - val_mse: 8.5157\n",
      "Epoch 3/50\n",
      "\u001b[1m134/134\u001b[0m \u001b[32m━━━━━━━━━━━━━━━━━━━━\u001b[0m\u001b[37m\u001b[0m \u001b[1m0s\u001b[0m 1ms/step - loss: 0.0032 - mse: 0.0024 - val_loss: 8.5240 - val_mse: 8.5232\n",
      "Epoch 4/50\n",
      "\u001b[1m134/134\u001b[0m \u001b[32m━━━━━━━━━━━━━━━━━━━━\u001b[0m\u001b[37m\u001b[0m \u001b[1m0s\u001b[0m 1ms/step - loss: 0.0024 - mse: 0.0015 - val_loss: 8.4856 - val_mse: 8.4847\n",
      "Epoch 5/50\n",
      "\u001b[1m134/134\u001b[0m \u001b[32m━━━━━━━━━━━━━━━━━━━━\u001b[0m\u001b[37m\u001b[0m \u001b[1m0s\u001b[0m 1ms/step - loss: 0.0019 - mse: 0.0010 - val_loss: 8.4460 - val_mse: 8.4451\n",
      "Epoch 6/50\n",
      "\u001b[1m134/134\u001b[0m \u001b[32m━━━━━━━━━━━━━━━━━━━━\u001b[0m\u001b[37m\u001b[0m \u001b[1m0s\u001b[0m 1ms/step - loss: 0.0015 - mse: 6.6993e-04 - val_loss: 8.4856 - val_mse: 8.4848\n",
      "Epoch 7/50\n",
      "\u001b[1m134/134\u001b[0m \u001b[32m━━━━━━━━━━━━━━━━━━━━\u001b[0m\u001b[37m\u001b[0m \u001b[1m0s\u001b[0m 1ms/step - loss: 0.0014 - mse: 5.0249e-04 - val_loss: 8.4701 - val_mse: 8.4692\n",
      "Epoch 8/50\n",
      "\u001b[1m134/134\u001b[0m \u001b[32m━━━━━━━━━━━━━━━━━━━━\u001b[0m\u001b[37m\u001b[0m \u001b[1m0s\u001b[0m 1ms/step - loss: 0.0012 - mse: 3.7257e-04 - val_loss: 8.4829 - val_mse: 8.4820\n",
      "Epoch 9/50\n",
      "\u001b[1m134/134\u001b[0m \u001b[32m━━━━━━━━━━━━━━━━━━━━\u001b[0m\u001b[37m\u001b[0m \u001b[1m0s\u001b[0m 1ms/step - loss: 0.0011 - mse: 2.7688e-04 - val_loss: 8.4693 - val_mse: 8.4684\n",
      "Epoch 10/50\n",
      "\u001b[1m134/134\u001b[0m \u001b[32m━━━━━━━━━━━━━━━━━━━━\u001b[0m\u001b[37m\u001b[0m \u001b[1m0s\u001b[0m 1ms/step - loss: 0.0011 - mse: 2.1797e-04 - val_loss: 8.4650 - val_mse: 8.4642\n",
      "Epoch 11/50\n",
      "\u001b[1m134/134\u001b[0m \u001b[32m━━━━━━━━━━━━━━━━━━━━\u001b[0m\u001b[37m\u001b[0m \u001b[1m0s\u001b[0m 1ms/step - loss: 0.0010 - mse: 1.7398e-04 - val_loss: 8.4619 - val_mse: 8.4611\n",
      "Epoch 12/50\n",
      "\u001b[1m134/134\u001b[0m \u001b[32m━━━━━━━━━━━━━━━━━━━━\u001b[0m\u001b[37m\u001b[0m \u001b[1m0s\u001b[0m 1ms/step - loss: 0.0010 - mse: 1.4602e-04 - val_loss: 8.4567 - val_mse: 8.4559\n",
      "Epoch 13/50\n",
      "\u001b[1m134/134\u001b[0m \u001b[32m━━━━━━━━━━━━━━━━━━━━\u001b[0m\u001b[37m\u001b[0m \u001b[1m0s\u001b[0m 1ms/step - loss: 9.7412e-04 - mse: 1.2279e-04 - val_loss: 8.4693 - val_mse: 8.4684\n",
      "Epoch 14/50\n",
      "\u001b[1m134/134\u001b[0m \u001b[32m━━━━━━━━━━━━━━━━━━━━\u001b[0m\u001b[37m\u001b[0m \u001b[1m0s\u001b[0m 1ms/step - loss: 9.4625e-04 - mse: 9.8655e-05 - val_loss: 8.4738 - val_mse: 8.4730\n",
      "Epoch 15/50\n",
      "\u001b[1m134/134\u001b[0m \u001b[32m━━━━━━━━━━━━━━━━━━━━\u001b[0m\u001b[37m\u001b[0m \u001b[1m0s\u001b[0m 1ms/step - loss: 9.2941e-04 - mse: 8.5826e-05 - val_loss: 8.4568 - val_mse: 8.4560\n",
      "Epoch 16/50\n",
      "\u001b[1m134/134\u001b[0m \u001b[32m━━━━━━━━━━━━━━━━━━━━\u001b[0m\u001b[37m\u001b[0m \u001b[1m0s\u001b[0m 1ms/step - loss: 9.0929e-04 - mse: 6.9955e-05 - val_loss: 8.4611 - val_mse: 8.4603\n",
      "Epoch 17/50\n",
      "\u001b[1m134/134\u001b[0m \u001b[32m━━━━━━━━━━━━━━━━━━━━\u001b[0m\u001b[37m\u001b[0m \u001b[1m0s\u001b[0m 1ms/step - loss: 8.9461e-04 - mse: 5.9779e-05 - val_loss: 8.4627 - val_mse: 8.4618\n",
      "Epoch 18/50\n",
      "\u001b[1m134/134\u001b[0m \u001b[32m━━━━━━━━━━━━━━━━━━━━\u001b[0m\u001b[37m\u001b[0m \u001b[1m0s\u001b[0m 1ms/step - loss: 8.9827e-04 - mse: 6.8236e-05 - val_loss: 8.4639 - val_mse: 8.4630\n",
      "Epoch 19/50\n",
      "\u001b[1m134/134\u001b[0m \u001b[32m━━━━━━━━━━━━━━━━━━━━\u001b[0m\u001b[37m\u001b[0m \u001b[1m0s\u001b[0m 1ms/step - loss: 8.7704e-04 - mse: 5.2143e-05 - val_loss: 8.4556 - val_mse: 8.4548\n",
      "Epoch 20/50\n",
      "\u001b[1m134/134\u001b[0m \u001b[32m━━━━━━━━━━━━━━━━━━━━\u001b[0m\u001b[37m\u001b[0m \u001b[1m0s\u001b[0m 1ms/step - loss: 9.0436e-04 - mse: 8.4900e-05 - val_loss: 8.4562 - val_mse: 8.4554\n",
      "Epoch 21/50\n",
      "\u001b[1m134/134\u001b[0m \u001b[32m━━━━━━━━━━━━━━━━━━━━\u001b[0m\u001b[37m\u001b[0m \u001b[1m0s\u001b[0m 1ms/step - loss: 8.6639e-04 - mse: 5.2519e-05 - val_loss: 8.4814 - val_mse: 8.4806\n",
      "Epoch 22/50\n",
      "\u001b[1m134/134\u001b[0m \u001b[32m━━━━━━━━━━━━━━━━━━━━\u001b[0m\u001b[37m\u001b[0m \u001b[1m0s\u001b[0m 1ms/step - loss: 0.0010 - mse: 2.0441e-04 - val_loss: 8.4768 - val_mse: 8.4760\n",
      "Epoch 23/50\n",
      "\u001b[1m134/134\u001b[0m \u001b[32m━━━━━━━━━━━━━━━━━━━━\u001b[0m\u001b[37m\u001b[0m \u001b[1m0s\u001b[0m 1ms/step - loss: 9.2949e-04 - mse: 1.2776e-04 - val_loss: 8.4006 - val_mse: 8.3998\n",
      "Epoch 24/50\n",
      "\u001b[1m134/134\u001b[0m \u001b[32m━━━━━━━━━━━━━━━━━━━━\u001b[0m\u001b[37m\u001b[0m \u001b[1m0s\u001b[0m 1ms/step - loss: 8.4834e-04 - mse: 5.2658e-05 - val_loss: 8.4867 - val_mse: 8.4859\n",
      "Epoch 25/50\n",
      "\u001b[1m134/134\u001b[0m \u001b[32m━━━━━━━━━━━━━━━━━━━━\u001b[0m\u001b[37m\u001b[0m \u001b[1m0s\u001b[0m 1ms/step - loss: 8.2012e-04 - mse: 2.9933e-05 - val_loss: 8.4562 - val_mse: 8.4554\n",
      "Epoch 26/50\n",
      "\u001b[1m134/134\u001b[0m \u001b[32m━━━━━━━━━━━━━━━━━━━━\u001b[0m\u001b[37m\u001b[0m \u001b[1m0s\u001b[0m 1ms/step - loss: 8.5819e-04 - mse: 7.3789e-05 - val_loss: 8.4689 - val_mse: 8.4681\n",
      "Epoch 27/50\n",
      "\u001b[1m134/134\u001b[0m \u001b[32m━━━━━━━━━━━━━━━━━━━━\u001b[0m\u001b[37m\u001b[0m \u001b[1m0s\u001b[0m 1ms/step - loss: 8.0119e-04 - mse: 2.2894e-05 - val_loss: 8.4824 - val_mse: 8.4817\n",
      "Epoch 28/50\n",
      "\u001b[1m134/134\u001b[0m \u001b[32m━━━━━━━━━━━━━━━━━━━━\u001b[0m\u001b[37m\u001b[0m \u001b[1m0s\u001b[0m 1ms/step - loss: 8.0473e-04 - mse: 3.2578e-05 - val_loss: 8.4574 - val_mse: 8.4566\n",
      "Epoch 29/50\n",
      "\u001b[1m134/134\u001b[0m \u001b[32m━━━━━━━━━━━━━━━━━━━━\u001b[0m\u001b[37m\u001b[0m \u001b[1m0s\u001b[0m 1ms/step - loss: 7.9651e-04 - mse: 3.0728e-05 - val_loss: 8.4634 - val_mse: 8.4627\n",
      "Epoch 30/50\n",
      "\u001b[1m134/134\u001b[0m \u001b[32m━━━━━━━━━━━━━━━━━━━━\u001b[0m\u001b[37m\u001b[0m \u001b[1m0s\u001b[0m 1ms/step - loss: 8.0129e-04 - mse: 4.2118e-05 - val_loss: 8.4462 - val_mse: 8.4455\n",
      "Epoch 31/50\n",
      "\u001b[1m134/134\u001b[0m \u001b[32m━━━━━━━━━━━━━━━━━━━━\u001b[0m\u001b[37m\u001b[0m \u001b[1m0s\u001b[0m 1ms/step - loss: 8.5946e-04 - mse: 1.0734e-04 - val_loss: 8.4638 - val_mse: 8.4630\n",
      "Epoch 32/50\n",
      "\u001b[1m134/134\u001b[0m \u001b[32m━━━━━━━━━━━━━━━━━━━━\u001b[0m\u001b[37m\u001b[0m \u001b[1m0s\u001b[0m 1ms/step - loss: 7.6972e-04 - mse: 2.4584e-05 - val_loss: 8.4752 - val_mse: 8.4744\n",
      "Epoch 33/50\n",
      "\u001b[1m134/134\u001b[0m \u001b[32m━━━━━━━━━━━━━━━━━━━━\u001b[0m\u001b[37m\u001b[0m \u001b[1m0s\u001b[0m 1ms/step - loss: 8.9939e-04 - mse: 1.6153e-04 - val_loss: 8.4656 - val_mse: 8.4648\n",
      "Epoch 34/50\n",
      "\u001b[1m134/134\u001b[0m \u001b[32m━━━━━━━━━━━━━━━━━━━━\u001b[0m\u001b[37m\u001b[0m \u001b[1m0s\u001b[0m 1ms/step - loss: 7.4855e-04 - mse: 1.7291e-05 - val_loss: 8.4623 - val_mse: 8.4616\n",
      "Epoch 35/50\n",
      "\u001b[1m134/134\u001b[0m \u001b[32m━━━━━━━━━━━━━━━━━━━━\u001b[0m\u001b[37m\u001b[0m \u001b[1m0s\u001b[0m 1ms/step - loss: 7.5118e-04 - mse: 2.6557e-05 - val_loss: 8.4648 - val_mse: 8.4641\n",
      "Epoch 36/50\n",
      "\u001b[1m134/134\u001b[0m \u001b[32m━━━━━━━━━━━━━━━━━━━━\u001b[0m\u001b[37m\u001b[0m \u001b[1m0s\u001b[0m 1ms/step - loss: 7.3222e-04 - mse: 1.4428e-05 - val_loss: 8.4661 - val_mse: 8.4654\n",
      "Epoch 37/50\n",
      "\u001b[1m134/134\u001b[0m \u001b[32m━━━━━━━━━━━━━━━━━━━━\u001b[0m\u001b[37m\u001b[0m \u001b[1m0s\u001b[0m 1ms/step - loss: 7.7618e-04 - mse: 6.5578e-05 - val_loss: 8.4620 - val_mse: 8.4613\n",
      "Epoch 38/50\n",
      "\u001b[1m134/134\u001b[0m \u001b[32m━━━━━━━━━━━━━━━━━━━━\u001b[0m\u001b[37m\u001b[0m \u001b[1m0s\u001b[0m 1ms/step - loss: 8.5908e-04 - mse: 1.5653e-04 - val_loss: 8.4725 - val_mse: 8.4718\n",
      "Epoch 39/50\n",
      "\u001b[1m134/134\u001b[0m \u001b[32m━━━━━━━━━━━━━━━━━━━━\u001b[0m\u001b[37m\u001b[0m \u001b[1m0s\u001b[0m 1ms/step - loss: 7.1025e-04 - mse: 1.4826e-05 - val_loss: 8.4552 - val_mse: 8.4545\n",
      "Epoch 40/50\n",
      "\u001b[1m134/134\u001b[0m \u001b[32m━━━━━━━━━━━━━━━━━━━━\u001b[0m\u001b[37m\u001b[0m \u001b[1m0s\u001b[0m 1ms/step - loss: 7.7118e-04 - mse: 8.2814e-05 - val_loss: 8.4831 - val_mse: 8.4824\n",
      "Epoch 41/50\n",
      "\u001b[1m134/134\u001b[0m \u001b[32m━━━━━━━━━━━━━━━━━━━━\u001b[0m\u001b[37m\u001b[0m \u001b[1m0s\u001b[0m 1ms/step - loss: 7.3877e-04 - mse: 5.8208e-05 - val_loss: 8.4710 - val_mse: 8.4703\n",
      "Epoch 42/50\n",
      "\u001b[1m134/134\u001b[0m \u001b[32m━━━━━━━━━━━━━━━━━━━━\u001b[0m\u001b[37m\u001b[0m \u001b[1m0s\u001b[0m 1ms/step - loss: 0.0011 - mse: 4.3133e-04 - val_loss: 8.4668 - val_mse: 8.4662\n",
      "Epoch 43/50\n",
      "\u001b[1m134/134\u001b[0m \u001b[32m━━━━━━━━━━━━━━━━━━━━\u001b[0m\u001b[37m\u001b[0m \u001b[1m0s\u001b[0m 1ms/step - loss: 6.7721e-04 - mse: 1.2770e-05 - val_loss: 8.4663 - val_mse: 8.4656\n",
      "Epoch 44/50\n",
      "\u001b[1m134/134\u001b[0m \u001b[32m━━━━━━━━━━━━━━━━━━━━\u001b[0m\u001b[37m\u001b[0m \u001b[1m0s\u001b[0m 1ms/step - loss: 6.6665e-04 - mse: 8.8281e-06 - val_loss: 8.4613 - val_mse: 8.4606\n",
      "Epoch 45/50\n",
      "\u001b[1m134/134\u001b[0m \u001b[32m━━━━━━━━━━━━━━━━━━━━\u001b[0m\u001b[37m\u001b[0m \u001b[1m0s\u001b[0m 1ms/step - loss: 6.6213e-04 - mse: 1.1230e-05 - val_loss: 8.4528 - val_mse: 8.4521\n",
      "Epoch 46/50\n",
      "\u001b[1m134/134\u001b[0m \u001b[32m━━━━━━━━━━━━━━━━━━━━\u001b[0m\u001b[37m\u001b[0m \u001b[1m0s\u001b[0m 1ms/step - loss: 6.5614e-04 - mse: 1.2482e-05 - val_loss: 8.4628 - val_mse: 8.4621\n",
      "Epoch 47/50\n",
      "\u001b[1m134/134\u001b[0m \u001b[32m━━━━━━━━━━━━━━━━━━━━\u001b[0m\u001b[37m\u001b[0m \u001b[1m0s\u001b[0m 1ms/step - loss: 6.6448e-04 - mse: 2.8385e-05 - val_loss: 8.4601 - val_mse: 8.4594\n",
      "Epoch 48/50\n",
      "\u001b[1m134/134\u001b[0m \u001b[32m━━━━━━━━━━━━━━━━━━━━\u001b[0m\u001b[37m\u001b[0m \u001b[1m0s\u001b[0m 1ms/step - loss: 6.4187e-04 - mse: 1.3673e-05 - val_loss: 8.4561 - val_mse: 8.4555\n",
      "Epoch 49/50\n",
      "\u001b[1m134/134\u001b[0m \u001b[32m━━━━━━━━━━━━━━━━━━━━\u001b[0m\u001b[37m\u001b[0m \u001b[1m0s\u001b[0m 1ms/step - loss: 6.3084e-04 - mse: 1.0710e-05 - val_loss: 8.4525 - val_mse: 8.4519\n",
      "Epoch 50/50\n",
      "\u001b[1m134/134\u001b[0m \u001b[32m━━━━━━━━━━━━━━━━━━━━\u001b[0m\u001b[37m\u001b[0m \u001b[1m0s\u001b[0m 1ms/step - loss: 6.6521e-04 - mse: 5.3518e-05 - val_loss: 8.4394 - val_mse: 8.4388\n"
     ]
    }
   ],
   "source": [
    "early_stopping = EarlyStopping(monitor='val_loss', patience=5, restore_best_weights=True)\n",
    "\n",
    "history = model_pol_data.fit(X_train_pol, y_train_pol,\n",
    "                    batch_size = bs,\n",
    "                    epochs = epochs,\n",
    "                    verbose = 1,\n",
    "                    validation_data = (X_test_pol, y_test_pol),\n",
    "                    callbacks=[\n",
    "                        WandbMetricsLogger(log_freq=1),\n",
    "                        WandbModelCheckpoint(\"models/model_pol_data.keras\")\n",
    "                    ]\n",
    "                            )\n",
    "run.finish()"
   ]
  },
  {
   "cell_type": "markdown",
   "id": "6033ec52-0a90-487a-9a59-feb691465f84",
   "metadata": {},
   "source": [
    "# Graficamos las funciones"
   ]
  },
  {
   "cell_type": "code",
   "execution_count": 282,
   "id": "9ee10147-5ee1-4fe2-b3cf-ef237bb915ee",
   "metadata": {},
   "outputs": [],
   "source": [
    "# Value = np.linspace(-1,1, 2000).reshape(-1,1)\n",
    "# a = model_sin.predict(Value)\n",
    "# a = scale_y_sin.inverse_transform(a)\n",
    "\n",
    "# plt.plot(Value, a, label = \"Prediccón\")\n",
    "# plt.plot(Value, function_1(Value), label = \"3sin(pi * x)\")\n",
    "# plt.legend()\n",
    "# plt.show"
   ]
  },
  {
   "cell_type": "code",
   "execution_count": 283,
   "id": "9b6ba143-4aed-465e-b497-e35a1dd763b6",
   "metadata": {},
   "outputs": [
    {
     "name": "stdout",
     "output_type": "stream",
     "text": [
      "\u001b[1m32/32\u001b[0m \u001b[32m━━━━━━━━━━━━━━━━━━━━\u001b[0m\u001b[37m\u001b[0m \u001b[1m0s\u001b[0m 1ms/step \n"
     ]
    },
    {
     "data": {
      "text/plain": [
       "<function matplotlib.pyplot.show(close=None, block=None)>"
      ]
     },
     "execution_count": 283,
     "metadata": {},
     "output_type": "execute_result"
    },
    {
     "data": {
      "image/png": "[encoded data removed]",
      "text/plain": [
       "<Figure size 640x480 with 1 Axes>"
      ]
     },
     "metadata": {},
     "output_type": "display_data"
    }
   ],
   "source": [
    "Value = np.linspace(-1,1, 1000).reshape(-1,1)\n",
    "b = model_pol_data.predict(Value)\n",
    "b = scale_y_pol.inverse_transform(b)\n",
    "\n",
    "plt.plot(Value, b, label = \"Prediccón\")\n",
    "plt.plot(domain, codomain_pol, label = \"1 + 2x + 4x^2\")\n",
    "plt.legend()\n",
    "plt.show"
   ]
  }
 ],
 "metadata": {
  "kernelspec": {
   "display_name": "Python 3 (ipykernel)",
   "language": "python",
   "name": "python3"
  },
  "language_info": {
   "codemirror_mode": {
    "name": "ipython",
    "version": 3
   },
   "file_extension": ".py",
   "mimetype": "text/x-python",
   "name": "python",
   "nbconvert_exporter": "python",
   "pygments_lexer": "ipython3",
   "version": "3.11.13"
  }
 },
 "nbformat": 4,
 "nbformat_minor": 5
}
