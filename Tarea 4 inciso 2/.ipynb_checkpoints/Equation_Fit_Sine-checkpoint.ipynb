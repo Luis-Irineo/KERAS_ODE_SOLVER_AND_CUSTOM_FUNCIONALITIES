{
 "cells": [
  {
   "cell_type": "markdown",
   "id": "bb047645-ea92-4679-aa7a-68fa52b47cf8",
   "metadata": {},
   "source": [
    "# Librerias a importar"
   ]
  },
  {
   "cell_type": "markdown",
   "id": "0c0c243c-e7bf-4b67-92f9-92a3b041ed69",
   "metadata": {},
   "source": [
    "## Se instalan las dependecias si no las tenemos"
   ]
  },
  {
   "cell_type": "code",
   "execution_count": 93,
   "id": "94fee6e6-8f48-40a6-8b59-7a5b10d87270",
   "metadata": {},
   "outputs": [
    {
     "name": "stdout",
     "output_type": "stream",
     "text": [
      "Requirement already satisfied: wandb in /usr/local/lib/python3.11/dist-packages (0.22.0)\n",
      "Requirement already satisfied: click>=8.0.1 in /usr/local/lib/python3.11/dist-packages (from wandb) (8.3.0)\n",
      "Requirement already satisfied: gitpython!=3.1.29,>=1.0.0 in /usr/local/lib/python3.11/dist-packages (from wandb) (3.1.45)\n",
      "Requirement already satisfied: packaging in /usr/local/lib/python3.11/dist-packages (from wandb) (25.0)\n",
      "Requirement already satisfied: platformdirs in /usr/local/lib/python3.11/dist-packages (from wandb) (4.3.8)\n",
      "Requirement already satisfied: protobuf!=4.21.0,!=5.28.0,<7,>=3.19.0 in /usr/local/lib/python3.11/dist-packages (from wandb) (6.31.1)\n",
      "Requirement already satisfied: pydantic<3 in /usr/local/lib/python3.11/dist-packages (from wandb) (2.11.9)\n",
      "Requirement already satisfied: pyyaml in /usr/local/lib/python3.11/dist-packages (from wandb) (6.0.2)\n",
      "Requirement already satisfied: requests<3,>=2.0.0 in /usr/local/lib/python3.11/dist-packages (from wandb) (2.32.4)\n",
      "Requirement already satisfied: sentry-sdk>=2.0.0 in /usr/local/lib/python3.11/dist-packages (from wandb) (2.39.0)\n",
      "Requirement already satisfied: typing-extensions<5,>=4.8 in /usr/local/lib/python3.11/dist-packages (from wandb) (4.14.1)\n",
      "Requirement already satisfied: annotated-types>=0.6.0 in /usr/local/lib/python3.11/dist-packages (from pydantic<3->wandb) (0.7.0)\n",
      "Requirement already satisfied: pydantic-core==2.33.2 in /usr/local/lib/python3.11/dist-packages (from pydantic<3->wandb) (2.33.2)\n",
      "Requirement already satisfied: typing-inspection>=0.4.0 in /usr/local/lib/python3.11/dist-packages (from pydantic<3->wandb) (0.4.1)\n",
      "Requirement already satisfied: charset_normalizer<4,>=2 in /usr/local/lib/python3.11/dist-packages (from requests<3,>=2.0.0->wandb) (3.4.3)\n",
      "Requirement already satisfied: idna<4,>=2.5 in /usr/local/lib/python3.11/dist-packages (from requests<3,>=2.0.0->wandb) (3.10)\n",
      "Requirement already satisfied: urllib3<3,>=1.21.1 in /usr/local/lib/python3.11/dist-packages (from requests<3,>=2.0.0->wandb) (2.5.0)\n",
      "Requirement already satisfied: certifi>=2017.4.17 in /usr/local/lib/python3.11/dist-packages (from requests<3,>=2.0.0->wandb) (2025.8.3)\n",
      "Requirement already satisfied: gitdb<5,>=4.0.1 in /usr/local/lib/python3.11/dist-packages (from gitpython!=3.1.29,>=1.0.0->wandb) (4.0.12)\n",
      "Requirement already satisfied: smmap<6,>=3.0.1 in /usr/local/lib/python3.11/dist-packages (from gitdb<5,>=4.0.1->gitpython!=3.1.29,>=1.0.0->wandb) (5.0.2)\n",
      "\u001b[33mWARNING: Running pip as the 'root' user can result in broken permissions and conflicting behaviour with the system package manager, possibly rendering your system unusable. It is recommended to use a virtual environment instead: https://pip.pypa.io/warnings/venv. Use the --root-user-action option if you know what you are doing and want to suppress this warning.\u001b[0m\u001b[33m\n",
      "\u001b[0mRequirement already satisfied: scikit-learn in /usr/local/lib/python3.11/dist-packages (1.7.2)\n",
      "Requirement already satisfied: numpy>=1.22.0 in /usr/local/lib/python3.11/dist-packages (from scikit-learn) (2.3.2)\n",
      "Requirement already satisfied: scipy>=1.8.0 in /usr/local/lib/python3.11/dist-packages (from scikit-learn) (1.16.2)\n",
      "Requirement already satisfied: joblib>=1.2.0 in /usr/local/lib/python3.11/dist-packages (from scikit-learn) (1.5.2)\n",
      "Requirement already satisfied: threadpoolctl>=3.1.0 in /usr/local/lib/python3.11/dist-packages (from scikit-learn) (3.6.0)\n",
      "\u001b[33mWARNING: Running pip as the 'root' user can result in broken permissions and conflicting behaviour with the system package manager, possibly rendering your system unusable. It is recommended to use a virtual environment instead: https://pip.pypa.io/warnings/venv. Use the --root-user-action option if you know what you are doing and want to suppress this warning.\u001b[0m\u001b[33m\n",
      "\u001b[0m"
     ]
    }
   ],
   "source": [
    "!pip3 install --upgrade wandb\n",
    "!pip install scikit-learn"
   ]
  },
  {
   "cell_type": "code",
   "execution_count": 94,
   "id": "6000af8f-c6e8-4742-8a0d-37d3d9158ea7",
   "metadata": {},
   "outputs": [],
   "source": [
    "import warnings\n",
    "warnings.filterwarnings('ignore')\n",
    "import tensorflow as tf\n",
    "import numpy as np\n",
    "import matplotlib.pyplot as plt\n",
    "from matplotlib.image import imread\n",
    "import sklearn\n",
    "import os\n",
    "import time"
   ]
  },
  {
   "cell_type": "code",
   "execution_count": 95,
   "id": "7c7e90ef-7bfc-41b4-8aab-e8af9656ff5a",
   "metadata": {},
   "outputs": [],
   "source": [
    "from tensorflow import keras\n",
    "from tensorflow.keras.models import Sequential\n",
    "from keras import layers\n",
    "from keras import initializers\n",
    "from tensorflow.keras.layers import Dense, Dropout, Activation\n",
    "from tensorflow.keras.optimizers import RMSprop, SGD, Adam\n",
    "from tensorflow.keras import regularizers\n",
    "from tensorflow.keras.models import load_model\n",
    "from sklearn.model_selection import train_test_split\n",
    "from sklearn.model_selection import train_test_split\n",
    "from sklearn.preprocessing import StandardScaler\n",
    "from tensorflow.keras.callbacks import EarlyStopping"
   ]
  },
  {
   "cell_type": "markdown",
   "id": "c7a97527-0b12-40de-8f80-586f9f97375c",
   "metadata": {},
   "source": [
    "## Nos registramos en WANDB para guardar los experimentos"
   ]
  },
  {
   "cell_type": "code",
   "execution_count": 96,
   "id": "1131ba22-536e-4866-bcad-4072da7dbcb8",
   "metadata": {},
   "outputs": [
    {
     "data": {
      "text/plain": [
       "True"
      ]
     },
     "execution_count": 96,
     "metadata": {},
     "output_type": "execute_result"
    }
   ],
   "source": [
    "import wandb\n",
    "from wandb.integration.keras import WandbMetricsLogger, WandbModelCheckpoint\n",
    "wandb.login()"
   ]
  },
  {
   "cell_type": "markdown",
   "id": "e6cd5313-21e0-4f82-9265-d4639aadc065",
   "metadata": {},
   "source": [
    "## Se definen los híper.parámetros a usar"
   ]
  },
  {
   "cell_type": "code",
   "execution_count": 97,
   "id": "87b0fe70-8c08-4386-bedf-b747b62aa7b0",
   "metadata": {},
   "outputs": [],
   "source": [
    "lr = 0.005 #Learning rate\n",
    "epochs = 50\n",
    "bs = 120 #batch size\n",
    "loss = \"mse\"\n",
    "optimizer = \"ADAM\"\n",
    "regularizer = \"L2\"\n",
    "### \n",
    "NNL1 = 256 "
   ]
  },
  {
   "cell_type": "code",
   "execution_count": 98,
   "id": "a886925e-2051-4dc7-a50d-5013104ce67b",
   "metadata": {},
   "outputs": [
    {
     "data": {
      "text/html": [],
      "text/plain": [
       "<IPython.core.display.HTML object>"
      ]
     },
     "metadata": {},
     "output_type": "display_data"
    },
    {
     "data": {
      "text/html": [
       "Tracking run with wandb version 0.22.0"
      ],
      "text/plain": [
       "<IPython.core.display.HTML object>"
      ]
     },
     "metadata": {},
     "output_type": "display_data"
    },
    {
     "data": {
      "text/html": [
       "Run data is saved locally in <code>/tf/Tarea_4/Tarea 4 inciso 2/wandb/run-20250927_214715-oh9bq4li</code>"
      ],
      "text/plain": [
       "<IPython.core.display.HTML object>"
      ]
     },
     "metadata": {},
     "output_type": "display_data"
    },
    {
     "data": {
      "text/html": [
       "Syncing run <strong><a href='https://wandb.ai/luisedu04-buap/Creacion_de_regresion_lineal/runs/oh9bq4li' target=\"_blank\">Mejor_Intento_3</a></strong> to <a href='https://wandb.ai/luisedu04-buap/Creacion_de_regresion_lineal' target=\"_blank\">Weights & Biases</a> (<a href='https://wandb.me/developer-guide' target=\"_blank\">docs</a>)<br>"
      ],
      "text/plain": [
       "<IPython.core.display.HTML object>"
      ]
     },
     "metadata": {},
     "output_type": "display_data"
    },
    {
     "data": {
      "text/html": [
       " View project at <a href='https://wandb.ai/luisedu04-buap/Creacion_de_regresion_lineal' target=\"_blank\">https://wandb.ai/luisedu04-buap/Creacion_de_regresion_lineal</a>"
      ],
      "text/plain": [
       "<IPython.core.display.HTML object>"
      ]
     },
     "metadata": {},
     "output_type": "display_data"
    },
    {
     "data": {
      "text/html": [
       " View run at <a href='https://wandb.ai/luisedu04-buap/Creacion_de_regresion_lineal/runs/oh9bq4li' target=\"_blank\">https://wandb.ai/luisedu04-buap/Creacion_de_regresion_lineal/runs/oh9bq4li</a>"
      ],
      "text/plain": [
       "<IPython.core.display.HTML object>"
      ]
     },
     "metadata": {},
     "output_type": "display_data"
    }
   ],
   "source": [
    "run = wandb.init(\n",
    "    settings=wandb.Settings(x_disable_stats=False, x_stats_sampling_interval = 1.0),\n",
    "    # set the wandb project where this run will be logged\n",
    "    name = \"Mejor_Intento_3\",\n",
    "    project = \"Creacion_de_regresion_lineal\",\n",
    "    group = \"Sin\",\n",
    "\n",
    "    # track hyperparameters and run metadata with wandb.config\n",
    "    config = {\n",
    "        \"layer_1\": NNL1,\n",
    "        \"activation\": \"relu\",\n",
    "        \"w_initializer\": \"He Initialization\",\n",
    "        \"optimizer\": optimizer,\n",
    "        \"loss\": loss,\n",
    "        \"metric\": \"mse\",\n",
    "        \"epoch\": epochs,\n",
    "        \"batch_size\": bs,\n",
    "        \"layer_quantity\": 1,\n",
    "        \"regularizer\": regularizer,\n",
    "        \"Modelo\": \"Pol\"\n",
    "    }\n",
    ")\n",
    "time.sleep(3.0)"
   ]
  },
  {
   "cell_type": "markdown",
   "id": "5cb222f2-a406-4a77-b113-a9901cd14200",
   "metadata": {},
   "source": [
    "# Preparando la red neuronal (Recolección de datos y preprocesamiento)"
   ]
  },
  {
   "cell_type": "markdown",
   "id": "e3221333-e459-4472-b957-77046a6dd66e",
   "metadata": {},
   "source": [
    "## Definimos las funciones que queremos usar"
   ]
  },
  {
   "cell_type": "code",
   "execution_count": 99,
   "id": "baa9eab5-e670-4675-9196-2f4bca871820",
   "metadata": {},
   "outputs": [],
   "source": [
    "domain = np.linspace(-1,1,20000)\n",
    "def function_1(domain):\n",
    "    return 3*np.sin(np.pi * domain)\n",
    "codomain_sin = function_1(domain)\n",
    "\n",
    "#Transformamos los arreglos de numpy en vectores para que keras los reconozca\n",
    "domain = domain.reshape(-1,1)\n",
    "codomain_sin = codomain_sin.reshape(-1,1)"
   ]
  },
  {
   "cell_type": "markdown",
   "id": "4b062981-5b16-4e9d-b3c1-de380d5be1c6",
   "metadata": {},
   "source": [
    "## Creamos los datos que va a recibir la red neuronal"
   ]
  },
  {
   "cell_type": "code",
   "execution_count": 100,
   "id": "343c274e-3fd5-43c0-be99-f3edf427c36c",
   "metadata": {},
   "outputs": [],
   "source": [
    "#Se dividen los datos en train y test de tipo 80:20 (train:test) y se deja el random state fijo para replicabilidad\n",
    "X_train_sin, X_test_sin, y_train_sin, y_test_sin = train_test_split(domain, codomain_sin, test_size=0.2, random_state=42)"
   ]
  },
  {
   "cell_type": "markdown",
   "id": "d0a91af0-3cd7-4597-a28f-761948fa66d5",
   "metadata": {},
   "source": [
    "## Escalamos los datos (estandarización)"
   ]
  },
  {
   "cell_type": "code",
   "execution_count": 101,
   "id": "6bdab2aa-8e23-4cd3-b2fc-5958a4875b5f",
   "metadata": {},
   "outputs": [],
   "source": [
    "scale_x_sin = StandardScaler()\n",
    "scale_y_sin = StandardScaler()\n",
    "X_train_sin, y_train_sin = scale_x_sin.fit_transform(X_train_sin), scale_y_sin.fit_transform(y_train_sin)\n",
    "X_test_sin, y_test_sin = scale_x_sin.transform(X_test_sin), scale_y_sin.transform(y_test_sin)"
   ]
  },
  {
   "cell_type": "markdown",
   "id": "5c012c6a-6e90-484f-8d24-2062ea51bc51",
   "metadata": {},
   "source": [
    "# Creación de la red neuronal"
   ]
  },
  {
   "cell_type": "code",
   "execution_count": 102,
   "id": "1f9a96ee-cb63-49b9-945e-52ac0940af63",
   "metadata": {},
   "outputs": [
    {
     "data": {
      "text/html": [
       "<pre style=\"white-space:pre;overflow-x:auto;line-height:normal;font-family:Menlo,'DejaVu Sans Mono',consolas,'Courier New',monospace\"><span style=\"font-weight: bold\">Model: \"sequential_7\"</span>\n",
       "</pre>\n"
      ],
      "text/plain": [
       "\u001b[1mModel: \"sequential_7\"\u001b[0m\n"
      ]
     },
     "metadata": {},
     "output_type": "display_data"
    },
    {
     "data": {
      "text/html": [
       "<pre style=\"white-space:pre;overflow-x:auto;line-height:normal;font-family:Menlo,'DejaVu Sans Mono',consolas,'Courier New',monospace\">┏━━━━━━━━━━━━━━━━━━━━━━━━━━━━━━━━━┳━━━━━━━━━━━━━━━━━━━━━━━━┳━━━━━━━━━━━━━━━┓\n",
       "┃<span style=\"font-weight: bold\"> Layer (type)                    </span>┃<span style=\"font-weight: bold\"> Output Shape           </span>┃<span style=\"font-weight: bold\">       Param # </span>┃\n",
       "┡━━━━━━━━━━━━━━━━━━━━━━━━━━━━━━━━━╇━━━━━━━━━━━━━━━━━━━━━━━━╇━━━━━━━━━━━━━━━┩\n",
       "│ layer1 (<span style=\"color: #0087ff; text-decoration-color: #0087ff\">Dense</span>)                  │ (<span style=\"color: #00d7ff; text-decoration-color: #00d7ff\">None</span>, <span style=\"color: #00af00; text-decoration-color: #00af00\">256</span>)            │           <span style=\"color: #00af00; text-decoration-color: #00af00\">512</span> │\n",
       "├─────────────────────────────────┼────────────────────────┼───────────────┤\n",
       "│ dense_7 (<span style=\"color: #0087ff; text-decoration-color: #0087ff\">Dense</span>)                 │ (<span style=\"color: #00d7ff; text-decoration-color: #00d7ff\">None</span>, <span style=\"color: #00af00; text-decoration-color: #00af00\">1</span>)              │           <span style=\"color: #00af00; text-decoration-color: #00af00\">257</span> │\n",
       "└─────────────────────────────────┴────────────────────────┴───────────────┘\n",
       "</pre>\n"
      ],
      "text/plain": [
       "┏━━━━━━━━━━━━━━━━━━━━━━━━━━━━━━━━━┳━━━━━━━━━━━━━━━━━━━━━━━━┳━━━━━━━━━━━━━━━┓\n",
       "┃\u001b[1m \u001b[0m\u001b[1mLayer (type)                   \u001b[0m\u001b[1m \u001b[0m┃\u001b[1m \u001b[0m\u001b[1mOutput Shape          \u001b[0m\u001b[1m \u001b[0m┃\u001b[1m \u001b[0m\u001b[1m      Param #\u001b[0m\u001b[1m \u001b[0m┃\n",
       "┡━━━━━━━━━━━━━━━━━━━━━━━━━━━━━━━━━╇━━━━━━━━━━━━━━━━━━━━━━━━╇━━━━━━━━━━━━━━━┩\n",
       "│ layer1 (\u001b[38;5;33mDense\u001b[0m)                  │ (\u001b[38;5;45mNone\u001b[0m, \u001b[38;5;34m256\u001b[0m)            │           \u001b[38;5;34m512\u001b[0m │\n",
       "├─────────────────────────────────┼────────────────────────┼───────────────┤\n",
       "│ dense_7 (\u001b[38;5;33mDense\u001b[0m)                 │ (\u001b[38;5;45mNone\u001b[0m, \u001b[38;5;34m1\u001b[0m)              │           \u001b[38;5;34m257\u001b[0m │\n",
       "└─────────────────────────────────┴────────────────────────┴───────────────┘\n"
      ]
     },
     "metadata": {},
     "output_type": "display_data"
    },
    {
     "data": {
      "text/html": [
       "<pre style=\"white-space:pre;overflow-x:auto;line-height:normal;font-family:Menlo,'DejaVu Sans Mono',consolas,'Courier New',monospace\"><span style=\"font-weight: bold\"> Total params: </span><span style=\"color: #00af00; text-decoration-color: #00af00\">769</span> (3.00 KB)\n",
       "</pre>\n"
      ],
      "text/plain": [
       "\u001b[1m Total params: \u001b[0m\u001b[38;5;34m769\u001b[0m (3.00 KB)\n"
      ]
     },
     "metadata": {},
     "output_type": "display_data"
    },
    {
     "data": {
      "text/html": [
       "<pre style=\"white-space:pre;overflow-x:auto;line-height:normal;font-family:Menlo,'DejaVu Sans Mono',consolas,'Courier New',monospace\"><span style=\"font-weight: bold\"> Trainable params: </span><span style=\"color: #00af00; text-decoration-color: #00af00\">769</span> (3.00 KB)\n",
       "</pre>\n"
      ],
      "text/plain": [
       "\u001b[1m Trainable params: \u001b[0m\u001b[38;5;34m769\u001b[0m (3.00 KB)\n"
      ]
     },
     "metadata": {},
     "output_type": "display_data"
    },
    {
     "data": {
      "text/html": [
       "<pre style=\"white-space:pre;overflow-x:auto;line-height:normal;font-family:Menlo,'DejaVu Sans Mono',consolas,'Courier New',monospace\"><span style=\"font-weight: bold\"> Non-trainable params: </span><span style=\"color: #00af00; text-decoration-color: #00af00\">0</span> (0.00 B)\n",
       "</pre>\n"
      ],
      "text/plain": [
       "\u001b[1m Non-trainable params: \u001b[0m\u001b[38;5;34m0\u001b[0m (0.00 B)\n"
      ]
     },
     "metadata": {},
     "output_type": "display_data"
    }
   ],
   "source": [
    "entrada = 1\n",
    "\n",
    "model_sin = keras.Sequential(\n",
    "    [\n",
    "        layers.Dense(NNL1, activation = \"tanh\", name = \"layer1\", \n",
    "                     #kernel_initializer=initializers.RandomNormal(stddev = stddev1),\n",
    "                     kernel_regularizer=regularizers.L2(l2=1e-5),\n",
    "                    ),\n",
    "        #Dropout(0.2),        \n",
    "        # layers.Dense(128, activation = \"tanh\", name = \"layer2\", \n",
    "        #              kernel_initializer=initializers.RandomNormal(stddev = stddev2),\n",
    "        #              kernel_regularizer=regularizers.L2(l2=1e-5),\n",
    "        #             ),\n",
    "        layers.Dense(1) #Garantizamos una F(x) = y ya que solo queremos un valor posible para y\n",
    "    ]\n",
    ") #Arquitectura de la red neuronal\n",
    "\n",
    "model_sin.build(input_shape=(None, entrada))\n",
    "model_sin.compile(loss = loss, optimizer = Adam(learning_rate = lr),metrics = [\"mse\"]) #Función de costo\n",
    "model_sin.summary()"
   ]
  },
  {
   "cell_type": "markdown",
   "id": "edca4b61-faf4-4ffc-8ee9-883a1eee9dd8",
   "metadata": {},
   "source": [
    "## Reset ANN if needed"
   ]
  },
  {
   "cell_type": "code",
   "execution_count": 103,
   "id": "c2912e6a-a482-4d78-b873-cb08668a7122",
   "metadata": {},
   "outputs": [],
   "source": [
    "# for layer in model_sin.layers:\n",
    "#    if hasattr(layer, 'kernel_initializer'):\n",
    "#        new_weights = layer.kernel_initializer(layer.kernel.shape)\n",
    "#        layer.kernel.assign(new_weights)\n",
    "#    if hasattr(layer, 'bias_initializer') and layer.bias is not None:\n",
    "#        new_bias = layer.bias_initializer(layer.bias.shape)\n",
    "#        layer.bias.assign(new_bias)"
   ]
  },
  {
   "cell_type": "markdown",
   "id": "50d77d68-26ba-4372-be00-c862c69b5b64",
   "metadata": {},
   "source": [
    "## Model History"
   ]
  },
  {
   "cell_type": "code",
   "execution_count": 104,
   "id": "a850491a-355a-4769-b00c-233db1d4341e",
   "metadata": {},
   "outputs": [
    {
     "name": "stdout",
     "output_type": "stream",
     "text": [
      "Epoch 1/50\n",
      "\u001b[1m134/134\u001b[0m \u001b[32m━━━━━━━━━━━━━━━━━━━━\u001b[0m\u001b[37m\u001b[0m \u001b[1m1s\u001b[0m 7ms/step - loss: 0.4059 - mse: 0.4058 - val_loss: 0.0706 - val_mse: 0.0705\n",
      "Epoch 2/50\n",
      "\u001b[1m134/134\u001b[0m \u001b[32m━━━━━━━━━━━━━━━━━━━━\u001b[0m\u001b[37m\u001b[0m \u001b[1m1s\u001b[0m 5ms/step - loss: 0.3844 - mse: 0.3844 - val_loss: 0.0609 - val_mse: 0.0608\n",
      "Epoch 3/50\n",
      "\u001b[1m134/134\u001b[0m \u001b[32m━━━━━━━━━━━━━━━━━━━━\u001b[0m\u001b[37m\u001b[0m \u001b[1m1s\u001b[0m 4ms/step - loss: 0.2365 - mse: 0.2364 - val_loss: 0.2851 - val_mse: 0.2849\n",
      "Epoch 4/50\n",
      "\u001b[1m134/134\u001b[0m \u001b[32m━━━━━━━━━━━━━━━━━━━━\u001b[0m\u001b[37m\u001b[0m \u001b[1m1s\u001b[0m 4ms/step - loss: 0.0047 - mse: 0.0045 - val_loss: 0.4134 - val_mse: 0.4132\n",
      "Epoch 5/50\n",
      "\u001b[1m134/134\u001b[0m \u001b[32m━━━━━━━━━━━━━━━━━━━━\u001b[0m\u001b[37m\u001b[0m \u001b[1m1s\u001b[0m 5ms/step - loss: 0.0033 - mse: 0.0031 - val_loss: 0.4226 - val_mse: 0.4224\n",
      "Epoch 6/50\n",
      "\u001b[1m134/134\u001b[0m \u001b[32m━━━━━━━━━━━━━━━━━━━━\u001b[0m\u001b[37m\u001b[0m \u001b[1m1s\u001b[0m 4ms/step - loss: 0.0027 - mse: 0.0025 - val_loss: 0.4110 - val_mse: 0.4108\n",
      "Epoch 7/50\n",
      "\u001b[1m134/134\u001b[0m \u001b[32m━━━━━━━━━━━━━━━━━━━━\u001b[0m\u001b[37m\u001b[0m \u001b[1m-1s\u001b[0m -9332us/step - loss: 0.0023 - mse: 0.0021 - val_loss: 0.4211 - val_mse: 0.4209\n",
      "Epoch 8/50\n",
      "\u001b[1m134/134\u001b[0m \u001b[32m━━━━━━━━━━━━━━━━━━━━\u001b[0m\u001b[37m\u001b[0m \u001b[1m1s\u001b[0m 5ms/step - loss: 0.0018 - mse: 0.0016 - val_loss: 0.4196 - val_mse: 0.4195\n",
      "Epoch 9/50\n",
      "\u001b[1m134/134\u001b[0m \u001b[32m━━━━━━━━━━━━━━━━━━━━\u001b[0m\u001b[37m\u001b[0m \u001b[1m1s\u001b[0m 4ms/step - loss: 0.0015 - mse: 0.0014 - val_loss: 0.4232 - val_mse: 0.4230\n",
      "Epoch 10/50\n",
      "\u001b[1m134/134\u001b[0m \u001b[32m━━━━━━━━━━━━━━━━━━━━\u001b[0m\u001b[37m\u001b[0m \u001b[1m1s\u001b[0m 4ms/step - loss: 0.0014 - mse: 0.0012 - val_loss: 0.4143 - val_mse: 0.4141\n",
      "Epoch 11/50\n",
      "\u001b[1m134/134\u001b[0m \u001b[32m━━━━━━━━━━━━━━━━━━━━\u001b[0m\u001b[37m\u001b[0m \u001b[1m1s\u001b[0m 4ms/step - loss: 0.0012 - mse: 0.0010 - val_loss: 0.4177 - val_mse: 0.4176\n",
      "Epoch 12/50\n",
      "\u001b[1m134/134\u001b[0m \u001b[32m━━━━━━━━━━━━━━━━━━━━\u001b[0m\u001b[37m\u001b[0m \u001b[1m1s\u001b[0m 4ms/step - loss: 9.9367e-04 - mse: 8.2825e-04 - val_loss: 0.4226 - val_mse: 0.4224\n",
      "Epoch 13/50\n",
      "\u001b[1m134/134\u001b[0m \u001b[32m━━━━━━━━━━━━━━━━━━━━\u001b[0m\u001b[37m\u001b[0m \u001b[1m1s\u001b[0m 4ms/step - loss: 8.4888e-04 - mse: 6.8490e-04 - val_loss: 0.4194 - val_mse: 0.4193\n",
      "Epoch 14/50\n",
      "\u001b[1m134/134\u001b[0m \u001b[32m━━━━━━━━━━━━━━━━━━━━\u001b[0m\u001b[37m\u001b[0m \u001b[1m2s\u001b[0m 12ms/step - loss: 7.4672e-04 - mse: 5.8417e-04 - val_loss: 0.4233 - val_mse: 0.4231\n",
      "Epoch 15/50\n",
      "\u001b[1m134/134\u001b[0m \u001b[32m━━━━━━━━━━━━━━━━━━━━\u001b[0m\u001b[37m\u001b[0m \u001b[1m1s\u001b[0m 4ms/step - loss: 8.1362e-04 - mse: 6.5233e-04 - val_loss: 0.4147 - val_mse: 0.4145\n",
      "Epoch 16/50\n",
      "\u001b[1m134/134\u001b[0m \u001b[32m━━━━━━━━━━━━━━━━━━━━\u001b[0m\u001b[37m\u001b[0m \u001b[1m1s\u001b[0m 4ms/step - loss: 7.3336e-04 - mse: 5.7290e-04 - val_loss: 0.4189 - val_mse: 0.4187\n",
      "Epoch 17/50\n",
      "\u001b[1m134/134\u001b[0m \u001b[32m━━━━━━━━━━━━━━━━━━━━\u001b[0m\u001b[37m\u001b[0m \u001b[1m1s\u001b[0m 4ms/step - loss: 5.7438e-04 - mse: 4.1493e-04 - val_loss: 0.4224 - val_mse: 0.4222\n",
      "Epoch 18/50\n",
      "\u001b[1m134/134\u001b[0m \u001b[32m━━━━━━━━━━━━━━━━━━━━\u001b[0m\u001b[37m\u001b[0m \u001b[1m1s\u001b[0m 4ms/step - loss: 5.1497e-04 - mse: 3.5658e-04 - val_loss: 0.4143 - val_mse: 0.4141\n",
      "Epoch 19/50\n",
      "\u001b[1m134/134\u001b[0m \u001b[32m━━━━━━━━━━━━━━━━━━━━\u001b[0m\u001b[37m\u001b[0m \u001b[1m1s\u001b[0m 4ms/step - loss: 5.1712e-04 - mse: 3.5975e-04 - val_loss: 0.4193 - val_mse: 0.4192\n",
      "Epoch 20/50\n",
      "\u001b[1m134/134\u001b[0m \u001b[32m━━━━━━━━━━━━━━━━━━━━\u001b[0m\u001b[37m\u001b[0m \u001b[1m1s\u001b[0m 5ms/step - loss: 4.7397e-04 - mse: 3.1748e-04 - val_loss: 0.4212 - val_mse: 0.4210\n",
      "Epoch 21/50\n",
      "\u001b[1m134/134\u001b[0m \u001b[32m━━━━━━━━━━━━━━━━━━━━\u001b[0m\u001b[37m\u001b[0m \u001b[1m1s\u001b[0m 5ms/step - loss: 5.2247e-04 - mse: 3.6681e-04 - val_loss: 0.4257 - val_mse: 0.4256\n",
      "Epoch 22/50\n",
      "\u001b[1m134/134\u001b[0m \u001b[32m━━━━━━━━━━━━━━━━━━━━\u001b[0m\u001b[37m\u001b[0m \u001b[1m1s\u001b[0m 4ms/step - loss: 5.3346e-04 - mse: 3.7857e-04 - val_loss: 0.4229 - val_mse: 0.4228\n",
      "Epoch 23/50\n",
      "\u001b[1m134/134\u001b[0m \u001b[32m━━━━━━━━━━━━━━━━━━━━\u001b[0m\u001b[37m\u001b[0m \u001b[1m1s\u001b[0m 5ms/step - loss: 4.2114e-04 - mse: 2.6687e-04 - val_loss: 0.4229 - val_mse: 0.4228\n",
      "Epoch 24/50\n",
      "\u001b[1m134/134\u001b[0m \u001b[32m━━━━━━━━━━━━━━━━━━━━\u001b[0m\u001b[37m\u001b[0m \u001b[1m1s\u001b[0m 4ms/step - loss: 3.8700e-04 - mse: 2.3343e-04 - val_loss: 0.4214 - val_mse: 0.4212\n",
      "Epoch 25/50\n",
      "\u001b[1m134/134\u001b[0m \u001b[32m━━━━━━━━━━━━━━━━━━━━\u001b[0m\u001b[37m\u001b[0m \u001b[1m1s\u001b[0m 4ms/step - loss: 4.7986e-04 - mse: 3.2690e-04 - val_loss: 0.4254 - val_mse: 0.4252\n",
      "Epoch 26/50\n",
      "\u001b[1m134/134\u001b[0m \u001b[32m━━━━━━━━━━━━━━━━━━━━\u001b[0m\u001b[37m\u001b[0m \u001b[1m1s\u001b[0m 4ms/step - loss: 3.6660e-04 - mse: 2.1418e-04 - val_loss: 0.4153 - val_mse: 0.4152\n",
      "Epoch 27/50\n",
      "\u001b[1m134/134\u001b[0m \u001b[32m━━━━━━━━━━━━━━━━━━━━\u001b[0m\u001b[37m\u001b[0m \u001b[1m1s\u001b[0m 4ms/step - loss: 5.3026e-04 - mse: 3.7823e-04 - val_loss: 0.4152 - val_mse: 0.4151\n",
      "Epoch 28/50\n",
      "\u001b[1m134/134\u001b[0m \u001b[32m━━━━━━━━━━━━━━━━━━━━\u001b[0m\u001b[37m\u001b[0m \u001b[1m1s\u001b[0m 4ms/step - loss: 4.4786e-04 - mse: 2.9634e-04 - val_loss: 0.4271 - val_mse: 0.4270\n",
      "Epoch 29/50\n",
      "\u001b[1m134/134\u001b[0m \u001b[32m━━━━━━━━━━━━━━━━━━━━\u001b[0m\u001b[37m\u001b[0m \u001b[1m1s\u001b[0m 5ms/step - loss: 3.8150e-04 - mse: 2.3056e-04 - val_loss: 0.4248 - val_mse: 0.4247\n",
      "Epoch 30/50\n",
      "\u001b[1m134/134\u001b[0m \u001b[32m━━━━━━━━━━━━━━━━━━━━\u001b[0m\u001b[37m\u001b[0m \u001b[1m1s\u001b[0m 4ms/step - loss: 4.0747e-04 - mse: 2.5704e-04 - val_loss: 0.4240 - val_mse: 0.4238\n",
      "Epoch 31/50\n",
      "\u001b[1m134/134\u001b[0m \u001b[32m━━━━━━━━━━━━━━━━━━━━\u001b[0m\u001b[37m\u001b[0m \u001b[1m1s\u001b[0m 4ms/step - loss: 4.4756e-04 - mse: 2.9758e-04 - val_loss: 0.4254 - val_mse: 0.4252\n",
      "Epoch 32/50\n",
      "\u001b[1m134/134\u001b[0m \u001b[32m━━━━━━━━━━━━━━━━━━━━\u001b[0m\u001b[37m\u001b[0m \u001b[1m1s\u001b[0m 4ms/step - loss: 9.9989e-04 - mse: 8.5017e-04 - val_loss: 0.4141 - val_mse: 0.4139\n",
      "Epoch 33/50\n",
      "\u001b[1m134/134\u001b[0m \u001b[32m━━━━━━━━━━━━━━━━━━━━\u001b[0m\u001b[37m\u001b[0m \u001b[1m1s\u001b[0m 4ms/step - loss: 3.1645e-04 - mse: 1.6665e-04 - val_loss: 0.4291 - val_mse: 0.4290\n",
      "Epoch 34/50\n",
      "\u001b[1m134/134\u001b[0m \u001b[32m━━━━━━━━━━━━━━━━━━━━\u001b[0m\u001b[37m\u001b[0m \u001b[1m1s\u001b[0m 4ms/step - loss: 3.3634e-04 - mse: 1.8702e-04 - val_loss: 0.4280 - val_mse: 0.4279\n",
      "Epoch 35/50\n",
      "\u001b[1m134/134\u001b[0m \u001b[32m━━━━━━━━━━━━━━━━━━━━\u001b[0m\u001b[37m\u001b[0m \u001b[1m1s\u001b[0m 6ms/step - loss: 3.1397e-04 - mse: 1.6512e-04 - val_loss: 0.4212 - val_mse: 0.4211\n",
      "Epoch 36/50\n",
      "\u001b[1m134/134\u001b[0m \u001b[32m━━━━━━━━━━━━━━━━━━━━\u001b[0m\u001b[37m\u001b[0m \u001b[1m1s\u001b[0m 5ms/step - loss: 3.5589e-04 - mse: 2.0748e-04 - val_loss: 0.4236 - val_mse: 0.4235\n",
      "Epoch 37/50\n",
      "\u001b[1m134/134\u001b[0m \u001b[32m━━━━━━━━━━━━━━━━━━━━\u001b[0m\u001b[37m\u001b[0m \u001b[1m1s\u001b[0m 4ms/step - loss: 3.5865e-04 - mse: 2.1073e-04 - val_loss: 0.4223 - val_mse: 0.4222\n",
      "Epoch 38/50\n",
      "\u001b[1m134/134\u001b[0m \u001b[32m━━━━━━━━━━━━━━━━━━━━\u001b[0m\u001b[37m\u001b[0m \u001b[1m1s\u001b[0m 4ms/step - loss: 5.1713e-04 - mse: 3.6954e-04 - val_loss: 0.4222 - val_mse: 0.4220\n",
      "Epoch 39/50\n",
      "\u001b[1m134/134\u001b[0m \u001b[32m━━━━━━━━━━━━━━━━━━━━\u001b[0m\u001b[37m\u001b[0m \u001b[1m1s\u001b[0m 4ms/step - loss: 4.0567e-04 - mse: 2.5835e-04 - val_loss: 0.4267 - val_mse: 0.4265\n",
      "Epoch 40/50\n",
      "\u001b[1m134/134\u001b[0m \u001b[32m━━━━━━━━━━━━━━━━━━━━\u001b[0m\u001b[37m\u001b[0m \u001b[1m1s\u001b[0m 4ms/step - loss: 4.2652e-04 - mse: 2.7965e-04 - val_loss: 0.4196 - val_mse: 0.4195\n",
      "Epoch 41/50\n",
      "\u001b[1m134/134\u001b[0m \u001b[32m━━━━━━━━━━━━━━━━━━━━\u001b[0m\u001b[37m\u001b[0m \u001b[1m1s\u001b[0m 4ms/step - loss: 4.2404e-04 - mse: 2.7754e-04 - val_loss: 0.4230 - val_mse: 0.4228\n",
      "Epoch 42/50\n",
      "\u001b[1m134/134\u001b[0m \u001b[32m━━━━━━━━━━━━━━━━━━━━\u001b[0m\u001b[37m\u001b[0m \u001b[1m1s\u001b[0m 4ms/step - loss: 4.6241e-04 - mse: 3.1618e-04 - val_loss: 0.4209 - val_mse: 0.4208\n",
      "Epoch 43/50\n",
      "\u001b[1m134/134\u001b[0m \u001b[32m━━━━━━━━━━━━━━━━━━━━\u001b[0m\u001b[37m\u001b[0m \u001b[1m1s\u001b[0m 4ms/step - loss: 3.3304e-04 - mse: 1.8720e-04 - val_loss: 0.4245 - val_mse: 0.4243\n",
      "Epoch 44/50\n",
      "\u001b[1m134/134\u001b[0m \u001b[32m━━━━━━━━━━━━━━━━━━━━\u001b[0m\u001b[37m\u001b[0m \u001b[1m1s\u001b[0m 4ms/step - loss: 5.3402e-04 - mse: 3.8858e-04 - val_loss: 0.4213 - val_mse: 0.4212\n",
      "Epoch 45/50\n",
      "\u001b[1m134/134\u001b[0m \u001b[32m━━━━━━━━━━━━━━━━━━━━\u001b[0m\u001b[37m\u001b[0m \u001b[1m1s\u001b[0m 5ms/step - loss: 3.0409e-04 - mse: 1.5900e-04 - val_loss: 0.4230 - val_mse: 0.4229\n",
      "Epoch 46/50\n",
      "\u001b[1m134/134\u001b[0m \u001b[32m━━━━━━━━━━━━━━━━━━━━\u001b[0m\u001b[37m\u001b[0m \u001b[1m1s\u001b[0m 4ms/step - loss: 3.3557e-04 - mse: 1.9082e-04 - val_loss: 0.4281 - val_mse: 0.4280\n",
      "Epoch 47/50\n",
      "\u001b[1m134/134\u001b[0m \u001b[32m━━━━━━━━━━━━━━━━━━━━\u001b[0m\u001b[37m\u001b[0m \u001b[1m1s\u001b[0m 4ms/step - loss: 4.0875e-04 - mse: 2.6430e-04 - val_loss: 0.4276 - val_mse: 0.4275\n",
      "Epoch 48/50\n",
      "\u001b[1m134/134\u001b[0m \u001b[32m━━━━━━━━━━━━━━━━━━━━\u001b[0m\u001b[37m\u001b[0m \u001b[1m1s\u001b[0m 4ms/step - loss: 3.8412e-04 - mse: 2.4002e-04 - val_loss: 0.4255 - val_mse: 0.4254\n",
      "Epoch 49/50\n",
      "\u001b[1m134/134\u001b[0m \u001b[32m━━━━━━━━━━━━━━━━━━━━\u001b[0m\u001b[37m\u001b[0m \u001b[1m1s\u001b[0m 4ms/step - loss: 5.1734e-04 - mse: 3.7345e-04 - val_loss: 0.4254 - val_mse: 0.4252\n",
      "Epoch 50/50\n",
      "\u001b[1m134/134\u001b[0m \u001b[32m━━━━━━━━━━━━━━━━━━━━\u001b[0m\u001b[37m\u001b[0m \u001b[1m1s\u001b[0m 5ms/step - loss: 4.8411e-04 - mse: 3.4035e-04 - val_loss: 0.4210 - val_mse: 0.4209\n"
     ]
    },
    {
     "data": {
      "text/html": [],
      "text/plain": [
       "<IPython.core.display.HTML object>"
      ]
     },
     "metadata": {},
     "output_type": "display_data"
    },
    {
     "data": {
      "text/html": [
       "<br>    <style><br>        .wandb-row {<br>            display: flex;<br>            flex-direction: row;<br>            flex-wrap: wrap;<br>            justify-content: flex-start;<br>            width: 100%;<br>        }<br>        .wandb-col {<br>            display: flex;<br>            flex-direction: column;<br>            flex-basis: 100%;<br>            flex: 1;<br>            padding: 10px;<br>        }<br>    </style><br><div class=\"wandb-row\"><div class=\"wandb-col\"><h3>Run history:</h3><br/><table class=\"wandb\"><tr><td>batch/batch_step</td><td>▁▁▁▁▁▂▂▂▂▂▂▃▃▃▃▃▄▄▄▄▅▅▅▅▅▅▆▆▆▆▆▆▆▆▆▇▇███</td></tr><tr><td>batch/learning_rate</td><td>▁▁▁▁▁▁▁▁▁▁▁▁▁▁▁▁▁▁▁▁▁▁▁▁▁▁▁▁▁▁▁▁▁▁▁▁▁▁▁▁</td></tr><tr><td>batch/loss</td><td>█▇▆▁▁▁▁▁▁▁▁▁▁▁▁▁▁▁▁▁▁▁▁▁▁▁▁▁▁▁▁▁▁▁▁▁▁▁▁▁</td></tr><tr><td>batch/mse</td><td>██▆▁▁▁▁▁▁▁▁▁▁▁▁▁▁▁▁▁▁▁▁▁▁▁▁▁▁▁▁▁▁▁▁▁▁▁▁▁</td></tr><tr><td>epoch/epoch</td><td>▁▁▁▁▂▂▂▂▂▂▃▃▃▃▃▄▄▄▄▄▅▅▅▅▅▅▆▆▆▆▆▆▇▇▇▇▇███</td></tr><tr><td>epoch/learning_rate</td><td>▁▁▁▁▁▁▁▁▁▁▁▁▁▁▁▁▁▁▁▁▁▁▁▁▁▁▁▁▁▁▁▁▁▁▁▁▁▁▁▁</td></tr><tr><td>epoch/loss</td><td>██▅▁▁▁▁▁▁▁▁▁▁▁▁▁▁▁▁▁▁▁▁▁▁▁▁▁▁▁▁▁▁▁▁▁▁▁▁▁</td></tr><tr><td>epoch/mse</td><td>██▅▁▁▁▁▁▁▁▁▁▁▁▁▁▁▁▁▁▁▁▁▁▁▁▁▁▁▁▁▁▁▁▁▁▁▁▁▁</td></tr><tr><td>epoch/val_loss</td><td>▁▁▅█████████████████████████████████████</td></tr><tr><td>epoch/val_mse</td><td>▁▁▅█████████████████████████████████████</td></tr></table><br/></div><div class=\"wandb-col\"><h3>Run summary:</h3><br/><table class=\"wandb\"><tr><td>batch/batch_step</td><td>6699</td></tr><tr><td>batch/learning_rate</td><td>0.005</td></tr><tr><td>batch/loss</td><td>0.00048</td></tr><tr><td>batch/mse</td><td>0.00034</td></tr><tr><td>epoch/epoch</td><td>49</td></tr><tr><td>epoch/learning_rate</td><td>0.005</td></tr><tr><td>epoch/loss</td><td>0.00048</td></tr><tr><td>epoch/mse</td><td>0.00034</td></tr><tr><td>epoch/val_loss</td><td>0.421</td></tr><tr><td>epoch/val_mse</td><td>0.42086</td></tr></table><br/></div></div>"
      ],
      "text/plain": [
       "<IPython.core.display.HTML object>"
      ]
     },
     "metadata": {},
     "output_type": "display_data"
    },
    {
     "data": {
      "text/html": [
       " View run <strong style=\"color:#cdcd00\">Mejor_Intento_3</strong> at: <a href='https://wandb.ai/luisedu04-buap/Creacion_de_regresion_lineal/runs/oh9bq4li' target=\"_blank\">https://wandb.ai/luisedu04-buap/Creacion_de_regresion_lineal/runs/oh9bq4li</a><br> View project at: <a href='https://wandb.ai/luisedu04-buap/Creacion_de_regresion_lineal' target=\"_blank\">https://wandb.ai/luisedu04-buap/Creacion_de_regresion_lineal</a><br>Synced 5 W&B file(s), 0 media file(s), 100 artifact file(s) and 0 other file(s)"
      ],
      "text/plain": [
       "<IPython.core.display.HTML object>"
      ]
     },
     "metadata": {},
     "output_type": "display_data"
    },
    {
     "data": {
      "text/html": [
       "Find logs at: <code>./wandb/run-20250927_214715-oh9bq4li/logs</code>"
      ],
      "text/plain": [
       "<IPython.core.display.HTML object>"
      ]
     },
     "metadata": {},
     "output_type": "display_data"
    }
   ],
   "source": [
    "early_stopping = EarlyStopping(monitor='val_loss', patience=5, restore_best_weights=True)\n",
    "\n",
    "history = model_sin.fit(X_train_sin, y_train_sin,\n",
    "                    batch_size = bs,\n",
    "                    epochs = epochs,\n",
    "                    verbose = 1,\n",
    "                    validation_data = (X_test_sin, X_test_sin),\n",
    "                    callbacks=[\n",
    "                        WandbMetricsLogger(log_freq=1),\n",
    "                        WandbModelCheckpoint(\"models/model_sin_data.keras\")\n",
    "                    ]\n",
    "                            )\n",
    "run.finish()"
   ]
  },
  {
   "cell_type": "markdown",
   "id": "6033ec52-0a90-487a-9a59-feb691465f84",
   "metadata": {},
   "source": [
    "# Graficamos las funciones"
   ]
  },
  {
   "cell_type": "code",
   "execution_count": 105,
   "id": "9ee10147-5ee1-4fe2-b3cf-ef237bb915ee",
   "metadata": {},
   "outputs": [
    {
     "name": "stdout",
     "output_type": "stream",
     "text": [
      "\u001b[1m32/32\u001b[0m \u001b[32m━━━━━━━━━━━━━━━━━━━━\u001b[0m\u001b[37m\u001b[0m \u001b[1m0s\u001b[0m 1ms/step \n"
     ]
    },
    {
     "data": {
      "text/plain": [
       "<function matplotlib.pyplot.show(close=None, block=None)>"
      ]
     },
     "execution_count": 105,
     "metadata": {},
     "output_type": "execute_result"
    },
    {
     "data": {
      "image/png": "[encoded data removed]",
      "text/plain": [
       "<Figure size 640x480 with 1 Axes>"
      ]
     },
     "metadata": {},
     "output_type": "display_data"
    }
   ],
   "source": [
    "x_validation = np.linspace(-1, 1, 1000).reshape(-1, 1)\n",
    "x_validation = scale_x_sin.transform(x_validation)\n",
    "prediction = model_sin.predict(x_validation)\n",
    "prediction = scale_y_sin.inverse_transform(prediction)\n",
    "x_validation = scale_x_sin.inverse_transform(x_validation)\n",
    "\n",
    "plt.plot(x_validation, prediction, label = \"Prediccón\")\n",
    "plt.plot(domain, codomain_sin, label = \"3sin(pi * x)\")\n",
    "plt.legend()\n",
    "plt.show"
   ]
  }
 ],
 "metadata": {
  "kernelspec": {
   "display_name": "Python 3 (ipykernel)",
   "language": "python",
   "name": "python3"
  },
  "language_info": {
   "codemirror_mode": {
    "name": "ipython",
    "version": 3
   },
   "file_extension": ".py",
   "mimetype": "text/x-python",
   "name": "python",
   "nbconvert_exporter": "python",
   "pygments_lexer": "ipython3",
   "version": "3.11.13"
  }
 },
 "nbformat": 4,
 "nbformat_minor": 5
}
