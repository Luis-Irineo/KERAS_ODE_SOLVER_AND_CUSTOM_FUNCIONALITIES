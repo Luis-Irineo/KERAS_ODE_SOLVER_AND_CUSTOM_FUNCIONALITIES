{
 "cells": [
  {
   "cell_type": "markdown",
   "id": "f306e2e7-4991-4d48-aaca-5ad876b0274f",
   "metadata": {},
   "source": [
    "# LIBRERIAS A USAR"
   ]
  },
  {
   "cell_type": "markdown",
   "id": "183f71f7-542e-4559-ada6-02b866535607",
   "metadata": {},
   "source": [
    "## Instalamos las dependecias necesarias"
   ]
  },
  {
   "cell_type": "code",
   "execution_count": 1,
   "id": "956c9b64-d249-4d84-886f-5a01bd128522",
   "metadata": {},
   "outputs": [],
   "source": [
    "# !pip3 install --upgrade wandb\n",
    "#!pip install scikit-learn"
   ]
  },
  {
   "cell_type": "markdown",
   "id": "ecbbd35c-f7b3-4a6f-a798-c82b5a51c788",
   "metadata": {},
   "source": [
    "## Importamos las librerias y sus submodulos"
   ]
  },
  {
   "cell_type": "code",
   "execution_count": 2,
   "id": "154007ab-b3b4-4c8f-9093-c1c39917de25",
   "metadata": {},
   "outputs": [
    {
     "name": "stderr",
     "output_type": "stream",
     "text": [
      "2025-09-26 11:04:21.698471: I tensorflow/core/util/port.cc:153] oneDNN custom operations are on. You may see slightly different numerical results due to floating-point round-off errors from different computation orders. To turn them off, set the environment variable `TF_ENABLE_ONEDNN_OPTS=0`.\n",
      "2025-09-26 11:04:21.799551: I tensorflow/core/platform/cpu_feature_guard.cc:210] This TensorFlow binary is optimized to use available CPU instructions in performance-critical operations.\n",
      "To enable the following instructions: AVX2 AVX_VNNI FMA, in other operations, rebuild TensorFlow with the appropriate compiler flags.\n",
      "2025-09-26 11:04:24.939082: I tensorflow/core/util/port.cc:153] oneDNN custom operations are on. You may see slightly different numerical results due to floating-point round-off errors from different computation orders. To turn them off, set the environment variable `TF_ENABLE_ONEDNN_OPTS=0`.\n"
     ]
    }
   ],
   "source": [
    "import warnings\n",
    "warnings.filterwarnings('ignore')\n",
    "import tensorflow as tf\n",
    "import numpy as np\n",
    "import matplotlib.pyplot as plt\n",
    "from matplotlib.image import imread\n",
    "import sklearn\n",
    "import os\n",
    "import time"
   ]
  },
  {
   "cell_type": "code",
   "execution_count": 3,
   "id": "85780d63-9e36-42fc-9c2e-359efda8fc14",
   "metadata": {},
   "outputs": [],
   "source": [
    "from tensorflow import keras\n",
    "from tensorflow.keras.models import Sequential\n",
    "from keras import layers\n",
    "from keras import initializers\n",
    "from tensorflow.keras.layers import Dense, Dropout, Activation\n",
    "from tensorflow.keras.optimizers import RMSprop, SGD, Adam\n",
    "from tensorflow.keras import regularizers\n",
    "from tensorflow.keras.models import load_model\n",
    "from sklearn.model_selection import train_test_split\n",
    "from sklearn.model_selection import train_test_split\n",
    "from sklearn.preprocessing import StandardScaler\n",
    "from tensorflow.keras.callbacks import EarlyStopping"
   ]
  },
  {
   "cell_type": "markdown",
   "id": "a4e292af-edf9-4d28-8277-52653726ddff",
   "metadata": {},
   "source": [
    "## Definimos los híper-parámetros"
   ]
  },
  {
   "cell_type": "code",
   "execution_count": 4,
   "id": "aa72d2b9-76d9-4e5a-879f-3b2b1647ea97",
   "metadata": {},
   "outputs": [],
   "source": [
    "lr = 0.005 #Learning rate\n",
    "epochs = 50\n",
    "bs = 120 #batch size\n",
    "loss = \"mse\"\n",
    "optimizer = \"ADAM\"\n",
    "regularizer = \"L2\""
   ]
  },
  {
   "cell_type": "code",
   "execution_count": 5,
   "id": "a2b045f0-b946-46a1-b8b9-88810305209b",
   "metadata": {},
   "outputs": [],
   "source": [
    "# run = wandb.init(\n",
    "#     settings=wandb.Settings(x_disable_stats=False, x_stats_sampling_interval = 1.0),\n",
    "#     # set the wandb project where this run will be logged\n",
    "#     name = \"Intento_intento_con_DO_L1L2_adam_more_data\",\n",
    "#     project = \"Creacion_de_regresion_lineal\",\n",
    "#     group = \"Pol\",\n",
    "\n",
    "#     # track hyperparameters and run metadata with wandb.config\n",
    "#     config = {\n",
    "#         \"layer_1\": 512,\n",
    "#         \"activation\": \"relu\",\n",
    "#         \"w_initializer\": \"He Initialization\",\n",
    "#         \"optimizer\": optimizer,\n",
    "#         \"loss\": loss,\n",
    "#         \"metric\": \"mse\",\n",
    "#         \"epoch\": epochs,\n",
    "#         \"batch_size\": bs,\n",
    "#         \"layer_quantity\": 1,\n",
    "#         \"regularizer\": regularizer,\n",
    "#         \"Modelo\": \"Pol\"\n",
    "#     }\n",
    "# )\n",
    "# time.sleep(3.0)"
   ]
  },
  {
   "cell_type": "markdown",
   "id": "67274534-9b5a-440e-8c48-31d058f3de06",
   "metadata": {},
   "source": [
    "# Antes de empezar"
   ]
  },
  {
   "cell_type": "markdown",
   "id": "12b93989-50fe-4814-b0e3-5d722ccdeafc",
   "metadata": {},
   "source": [
    "## Creamos el nuevo layer polinomial"
   ]
  },
  {
   "cell_type": "code",
   "execution_count": 6,
   "id": "547dee8a-4a0c-4d14-8a30-ba5626939188",
   "metadata": {},
   "outputs": [],
   "source": [
    "class PolynomialTransform(tf.keras.layers.Layer):\n",
    "    def __init__(self, degree):\n",
    "        super(PolynomialTransform,self).__init__()\n",
    "        \n",
    "        self.num_outputs = degree + 1 #Se define la cantidad de potencias con las que se trabajara (incluido el 0)\n",
    "        self.powers =  tf.range(start = 0.0, limit = self.num_outputs) #Se crea el array de potencias \n",
    "        self.kernel = self.add_weight(name = \"kernel\", shape=[self.num_outputs]) #Se crea el array de pesos\n",
    "\n",
    "    def poly_terms(self, inputs):\n",
    "        #Garantizamos que se aplique a cualquier dato, array o no\n",
    "        inputs = tf.convert_to_tensor(inputs)\n",
    "        if (inputs.shape == ()):\n",
    "            inputs=(inputs,)\n",
    "        elif (len(inputs.shape)==1):\n",
    "            inputs=tf.expand_dims(inputs, axis=1)\n",
    "       \n",
    "        #Sacamos la longitud del batch para conseguir la matriz de potencias\n",
    "        batch = tf.shape(inputs)[0]\n",
    "\n",
    "        #Expandimos los array de entrada y de potencias para que sean compatibles\n",
    "        inputs_expanded = tf.expand_dims(inputs, axis=-1)  #[batch, 1, 1]\n",
    "        powers_expanded = tf.expand_dims(self.powers, axis=0)  #[1, num_outputs]\n",
    "        powers_expanded = tf.expand_dims(powers_expanded, axis=0)  #[1, 1, num_outputs]\n",
    "    \n",
    "        poly_terms = tf.math.pow(inputs_expanded, powers_expanded)  #[batch, 1, num_outputs]\n",
    "        poly_terms = tf.squeeze(poly_terms, axis=1)  #[batch, num_outputs]\n",
    "        return poly_terms\n",
    "\n",
    "    def polynomial(self, inputs, coefficients):\n",
    "        terms = self.poly_terms(inputs)\n",
    "        coefficients = tf.convert_to_tensor(coefficients, dtype=tf.float32)\n",
    "        coefficients = tf.reshape(coefficients, [self.num_outputs])  \n",
    "        return tf.tensordot(terms, coefficients, 1) #[batch] --> batch_i = a_i*(x**i)\n",
    "    \n",
    "    def call(self, inputs):\n",
    "        terms = self.poly_terms(inputs)\n",
    "        terms = tf.tensordot(terms, self.kernel, 1) #[batch] --> batch_i = a_i*(x**i)\n",
    "        return tf.expand_dims(terms, axis = -1)"
   ]
  },
  {
   "cell_type": "markdown",
   "id": "e562854d-9377-41bb-ab11-60729dfa268f",
   "metadata": {},
   "source": [
    "### Verificamos su funcionalidad"
   ]
  },
  {
   "cell_type": "code",
   "execution_count": 7,
   "id": "13295e67-7b09-4be2-b8ed-e61476f10bb3",
   "metadata": {},
   "outputs": [],
   "source": [
    "# prueba1 = PolynomialTransform(degree = 3) #Definimos un polinomio de grado 3\n",
    "# delta = 0.01\n",
    "# x1 = tf.range(-4,4,delta = delta) #Arreglo 1D\n",
    "# print(tf.shape(x1))\n",
    "# res1 = prueba1(inputs = x)\n",
    "# plt.scatter(x,res1)"
   ]
  },
  {
   "cell_type": "code",
   "execution_count": 8,
   "id": "f2b8acbb-7a8e-4f6b-b749-f5aeb4d97b0d",
   "metadata": {},
   "outputs": [],
   "source": [
    "# prueba2 = PolynomialTransform(degree = 5)\n",
    "# x2 = tf.reshape(x1, [800,1])  # Arreglo 2D\n",
    "# print(tf.shape(x2))\n",
    "# res2 = prueba2(inputs = x2)\n",
    "# plt.scatter(x2,res2)"
   ]
  },
  {
   "cell_type": "markdown",
   "id": "b3ccc548-1fa9-4101-a97e-6f6715cb9822",
   "metadata": {},
   "source": [
    "## Creamos y preparamos los datos de entrenamiento"
   ]
  },
  {
   "cell_type": "code",
   "execution_count": 9,
   "id": "f2335a1b-db82-4728-a59c-837c5d41a039",
   "metadata": {},
   "outputs": [
    {
     "data": {
      "text/plain": [
       "<matplotlib.legend.Legend at 0x7e8c041d1b90>"
      ]
     },
     "execution_count": 9,
     "metadata": {},
     "output_type": "execute_result"
    },
    {
     "data": {
      "image/png": "[encoded data removed]",
      "text/plain": [
       "<Figure size 640x480 with 1 Axes>"
      ]
     },
     "metadata": {},
     "output_type": "display_data"
    }
   ],
   "source": [
    "batch_size = 5000\n",
    "Polynomial = PolynomialTransform(3)\n",
    "x = tf.random.uniform((batch_size,), minval=-1, maxval=1)\n",
    "y = tf.math.cos(2*x)\n",
    "plt.scatter(x,y, label = \"cos(2x)\")\n",
    "plt.legend()"
   ]
  },
  {
   "cell_type": "code",
   "execution_count": 10,
   "id": "abc60974-e371-4d98-9dfa-f7b4e3acda8e",
   "metadata": {},
   "outputs": [],
   "source": [
    "domain = tf.reshape(x,[-1,1])\n",
    "codomain_cos = tf.reshape(y,[-1,1])\n",
    "domain = domain.numpy()\n",
    "codomain_cos = codomain_cos.numpy()\n",
    "X_train, X_test, y_train, y_test = train_test_split(domain, codomain_cos, test_size=0.2, random_state=42)"
   ]
  },
  {
   "cell_type": "code",
   "execution_count": 11,
   "id": "297ec4aa-4f4d-4840-b020-325f8beda88c",
   "metadata": {},
   "outputs": [],
   "source": [
    "scale_x = StandardScaler()\n",
    "scale_y = StandardScaler()\n",
    "X_train, y_train = scale_x.fit_transform(X_train), scale_y.fit_transform(y_train)\n",
    "X_test, y_test = scale_x.transform(X_test), scale_y.transform(y_test)"
   ]
  },
  {
   "cell_type": "markdown",
   "id": "b39e6d37-60c5-4909-b210-4fe0738fd877",
   "metadata": {},
   "source": [
    "# Creamos la red neuronal"
   ]
  },
  {
   "cell_type": "markdown",
   "id": "c663fd6f-2ba3-46a6-91f7-b1b89dba1cdf",
   "metadata": {},
   "source": [
    "### Usamos Sequential"
   ]
  },
  {
   "cell_type": "code",
   "execution_count": 12,
   "id": "361a0ba5-2f03-4957-b9c2-76d771825fd2",
   "metadata": {},
   "outputs": [],
   "source": [
    "n = 3\n",
    "model = keras.Sequential([\n",
    "        PolynomialTransform(degree = n)\n",
    "]) #Arquitectura de la red neuronal"
   ]
  },
  {
   "cell_type": "code",
   "execution_count": 13,
   "id": "f2984bfa-f345-4f8b-8b9e-35224cce7db2",
   "metadata": {},
   "outputs": [
    {
     "data": {
      "text/html": [
       "<pre style=\"white-space:pre;overflow-x:auto;line-height:normal;font-family:Menlo,'DejaVu Sans Mono',consolas,'Courier New',monospace\"><span style=\"font-weight: bold\">Model: \"sequential\"</span>\n",
       "</pre>\n"
      ],
      "text/plain": [
       "\u001b[1mModel: \"sequential\"\u001b[0m\n"
      ]
     },
     "metadata": {},
     "output_type": "display_data"
    },
    {
     "data": {
      "text/html": [
       "<pre style=\"white-space:pre;overflow-x:auto;line-height:normal;font-family:Menlo,'DejaVu Sans Mono',consolas,'Courier New',monospace\">┏━━━━━━━━━━━━━━━━━━━━━━━━━━━━━━━━━┳━━━━━━━━━━━━━━━━━━━━━━━━┳━━━━━━━━━━━━━━━┓\n",
       "┃<span style=\"font-weight: bold\"> Layer (type)                    </span>┃<span style=\"font-weight: bold\"> Output Shape           </span>┃<span style=\"font-weight: bold\">       Param # </span>┃\n",
       "┡━━━━━━━━━━━━━━━━━━━━━━━━━━━━━━━━━╇━━━━━━━━━━━━━━━━━━━━━━━━╇━━━━━━━━━━━━━━━┩\n",
       "│ polynomial_transform_1          │ ?                      │   <span style=\"color: #00af00; text-decoration-color: #00af00\">0</span> (unbuilt) │\n",
       "│ (<span style=\"color: #0087ff; text-decoration-color: #0087ff\">PolynomialTransform</span>)           │                        │               │\n",
       "└─────────────────────────────────┴────────────────────────┴───────────────┘\n",
       "</pre>\n"
      ],
      "text/plain": [
       "┏━━━━━━━━━━━━━━━━━━━━━━━━━━━━━━━━━┳━━━━━━━━━━━━━━━━━━━━━━━━┳━━━━━━━━━━━━━━━┓\n",
       "┃\u001b[1m \u001b[0m\u001b[1mLayer (type)                   \u001b[0m\u001b[1m \u001b[0m┃\u001b[1m \u001b[0m\u001b[1mOutput Shape          \u001b[0m\u001b[1m \u001b[0m┃\u001b[1m \u001b[0m\u001b[1m      Param #\u001b[0m\u001b[1m \u001b[0m┃\n",
       "┡━━━━━━━━━━━━━━━━━━━━━━━━━━━━━━━━━╇━━━━━━━━━━━━━━━━━━━━━━━━╇━━━━━━━━━━━━━━━┩\n",
       "│ polynomial_transform_1          │ ?                      │   \u001b[38;5;34m0\u001b[0m (unbuilt) │\n",
       "│ (\u001b[38;5;33mPolynomialTransform\u001b[0m)           │                        │               │\n",
       "└─────────────────────────────────┴────────────────────────┴───────────────┘\n"
      ]
     },
     "metadata": {},
     "output_type": "display_data"
    },
    {
     "data": {
      "text/html": [
       "<pre style=\"white-space:pre;overflow-x:auto;line-height:normal;font-family:Menlo,'DejaVu Sans Mono',consolas,'Courier New',monospace\"><span style=\"font-weight: bold\"> Total params: </span><span style=\"color: #00af00; text-decoration-color: #00af00\">4</span> (16.00 B)\n",
       "</pre>\n"
      ],
      "text/plain": [
       "\u001b[1m Total params: \u001b[0m\u001b[38;5;34m4\u001b[0m (16.00 B)\n"
      ]
     },
     "metadata": {},
     "output_type": "display_data"
    },
    {
     "data": {
      "text/html": [
       "<pre style=\"white-space:pre;overflow-x:auto;line-height:normal;font-family:Menlo,'DejaVu Sans Mono',consolas,'Courier New',monospace\"><span style=\"font-weight: bold\"> Trainable params: </span><span style=\"color: #00af00; text-decoration-color: #00af00\">4</span> (16.00 B)\n",
       "</pre>\n"
      ],
      "text/plain": [
       "\u001b[1m Trainable params: \u001b[0m\u001b[38;5;34m4\u001b[0m (16.00 B)\n"
      ]
     },
     "metadata": {},
     "output_type": "display_data"
    },
    {
     "data": {
      "text/html": [
       "<pre style=\"white-space:pre;overflow-x:auto;line-height:normal;font-family:Menlo,'DejaVu Sans Mono',consolas,'Courier New',monospace\"><span style=\"font-weight: bold\"> Non-trainable params: </span><span style=\"color: #00af00; text-decoration-color: #00af00\">0</span> (0.00 B)\n",
       "</pre>\n"
      ],
      "text/plain": [
       "\u001b[1m Non-trainable params: \u001b[0m\u001b[38;5;34m0\u001b[0m (0.00 B)\n"
      ]
     },
     "metadata": {},
     "output_type": "display_data"
    }
   ],
   "source": [
    "model.build(input_shape = keras.Input(shape=(1,)) )\n",
    "model.compile(optimizer=SGD(learning_rate = lr), loss = 'mse')\n",
    "model.summary()"
   ]
  },
  {
   "cell_type": "code",
   "execution_count": 14,
   "id": "205f0258-e228-4924-a672-e308de5f7c61",
   "metadata": {},
   "outputs": [],
   "source": [
    "# for layer in model.layers:\n",
    "#    if hasattr(layer, 'kernel_initializer'):\n",
    "#        new_weights = layer.kernel_initializer(layer.kernel.shape)\n",
    "#        layer.kernel.assign(new_weights)\n",
    "#    if hasattr(layer, 'bias_initializer') and layer.bias is not None:\n",
    "#        new_bias = layer.bias_initializer(layer.bias.shape)\n",
    "#        layer.bias.assign(new_bias)"
   ]
  },
  {
   "cell_type": "markdown",
   "id": "0a4be6d8-a9d2-4bb6-a6b4-adae0949f54c",
   "metadata": {},
   "source": [
    "### Entrenamos la red"
   ]
  },
  {
   "cell_type": "code",
   "execution_count": 15,
   "id": "1a5aaef2-05d2-4943-bf81-a5e6393fef6d",
   "metadata": {},
   "outputs": [
    {
     "name": "stdout",
     "output_type": "stream",
     "text": [
      "Epoch 1/50\n",
      "\u001b[1m34/34\u001b[0m \u001b[32m━━━━━━━━━━━━━━━━━━━━\u001b[0m\u001b[37m\u001b[0m \u001b[1m1s\u001b[0m 8ms/step - loss: 1.2986 - val_loss: 1.0723\n",
      "Epoch 2/50\n",
      "\u001b[1m34/34\u001b[0m \u001b[32m━━━━━━━━━━━━━━━━━━━━\u001b[0m\u001b[37m\u001b[0m \u001b[1m0s\u001b[0m 4ms/step - loss: 1.0203 - val_loss: 0.8658\n",
      "Epoch 3/50\n",
      "\u001b[1m34/34\u001b[0m \u001b[32m━━━━━━━━━━━━━━━━━━━━\u001b[0m\u001b[37m\u001b[0m \u001b[1m0s\u001b[0m 3ms/step - loss: 0.8215 - val_loss: 0.7003\n",
      "Epoch 4/50\n",
      "\u001b[1m34/34\u001b[0m \u001b[32m━━━━━━━━━━━━━━━━━━━━\u001b[0m\u001b[37m\u001b[0m \u001b[1m0s\u001b[0m 3ms/step - loss: 0.6636 - val_loss: 0.5659\n",
      "Epoch 5/50\n",
      "\u001b[1m34/34\u001b[0m \u001b[32m━━━━━━━━━━━━━━━━━━━━\u001b[0m\u001b[37m\u001b[0m \u001b[1m0s\u001b[0m 3ms/step - loss: 0.5360 - val_loss: 0.4581\n",
      "Epoch 6/50\n",
      "\u001b[1m34/34\u001b[0m \u001b[32m━━━━━━━━━━━━━━━━━━━━\u001b[0m\u001b[37m\u001b[0m \u001b[1m0s\u001b[0m 3ms/step - loss: 0.4335 - val_loss: 0.3717\n",
      "Epoch 7/50\n",
      "\u001b[1m34/34\u001b[0m \u001b[32m━━━━━━━━━━━━━━━━━━━━\u001b[0m\u001b[37m\u001b[0m \u001b[1m0s\u001b[0m 4ms/step - loss: 0.3511 - val_loss: 0.3014\n",
      "Epoch 8/50\n",
      "\u001b[1m34/34\u001b[0m \u001b[32m━━━━━━━━━━━━━━━━━━━━\u001b[0m\u001b[37m\u001b[0m \u001b[1m0s\u001b[0m 4ms/step - loss: 0.2847 - val_loss: 0.2447\n",
      "Epoch 9/50\n",
      "\u001b[1m34/34\u001b[0m \u001b[32m━━━━━━━━━━━━━━━━━━━━\u001b[0m\u001b[37m\u001b[0m \u001b[1m0s\u001b[0m 4ms/step - loss: 0.2312 - val_loss: 0.1987\n",
      "Epoch 10/50\n",
      "\u001b[1m34/34\u001b[0m \u001b[32m━━━━━━━━━━━━━━━━━━━━\u001b[0m\u001b[37m\u001b[0m \u001b[1m0s\u001b[0m 4ms/step - loss: 0.1879 - val_loss: 0.1619\n",
      "Epoch 11/50\n",
      "\u001b[1m34/34\u001b[0m \u001b[32m━━━━━━━━━━━━━━━━━━━━\u001b[0m\u001b[37m\u001b[0m \u001b[1m0s\u001b[0m 3ms/step - loss: 0.1532 - val_loss: 0.1324\n",
      "Epoch 12/50\n",
      "\u001b[1m34/34\u001b[0m \u001b[32m━━━━━━━━━━━━━━━━━━━━\u001b[0m\u001b[37m\u001b[0m \u001b[1m0s\u001b[0m 5ms/step - loss: 0.1253 - val_loss: 0.1085\n",
      "Epoch 13/50\n",
      "\u001b[1m34/34\u001b[0m \u001b[32m━━━━━━━━━━━━━━━━━━━━\u001b[0m\u001b[37m\u001b[0m \u001b[1m0s\u001b[0m 3ms/step - loss: 0.1028 - val_loss: 0.0892\n",
      "Epoch 14/50\n",
      "\u001b[1m34/34\u001b[0m \u001b[32m━━━━━━━━━━━━━━━━━━━━\u001b[0m\u001b[37m\u001b[0m \u001b[1m0s\u001b[0m 4ms/step - loss: 0.0846 - val_loss: 0.0737\n",
      "Epoch 15/50\n",
      "\u001b[1m34/34\u001b[0m \u001b[32m━━━━━━━━━━━━━━━━━━━━\u001b[0m\u001b[37m\u001b[0m \u001b[1m0s\u001b[0m 5ms/step - loss: 0.0700 - val_loss: 0.0612\n",
      "Epoch 16/50\n",
      "\u001b[1m34/34\u001b[0m \u001b[32m━━━━━━━━━━━━━━━━━━━━\u001b[0m\u001b[37m\u001b[0m \u001b[1m0s\u001b[0m 4ms/step - loss: 0.0582 - val_loss: 0.0510\n",
      "Epoch 17/50\n",
      "\u001b[1m34/34\u001b[0m \u001b[32m━━━━━━━━━━━━━━━━━━━━\u001b[0m\u001b[37m\u001b[0m \u001b[1m0s\u001b[0m 3ms/step - loss: 0.0486 - val_loss: 0.0428\n",
      "Epoch 18/50\n",
      "\u001b[1m34/34\u001b[0m \u001b[32m━━━━━━━━━━━━━━━━━━━━\u001b[0m\u001b[37m\u001b[0m \u001b[1m0s\u001b[0m 3ms/step - loss: 0.0410 - val_loss: 0.0362\n",
      "Epoch 19/50\n",
      "\u001b[1m34/34\u001b[0m \u001b[32m━━━━━━━━━━━━━━━━━━━━\u001b[0m\u001b[37m\u001b[0m \u001b[1m0s\u001b[0m 3ms/step - loss: 0.0348 - val_loss: 0.0308\n",
      "Epoch 20/50\n",
      "\u001b[1m34/34\u001b[0m \u001b[32m━━━━━━━━━━━━━━━━━━━━\u001b[0m\u001b[37m\u001b[0m \u001b[1m0s\u001b[0m 4ms/step - loss: 0.0298 - val_loss: 0.0265\n",
      "Epoch 21/50\n",
      "\u001b[1m34/34\u001b[0m \u001b[32m━━━━━━━━━━━━━━━━━━━━\u001b[0m\u001b[37m\u001b[0m \u001b[1m0s\u001b[0m 4ms/step - loss: 0.0258 - val_loss: 0.0231\n",
      "Epoch 22/50\n",
      "\u001b[1m34/34\u001b[0m \u001b[32m━━━━━━━━━━━━━━━━━━━━\u001b[0m\u001b[37m\u001b[0m \u001b[1m0s\u001b[0m 2ms/step - loss: 0.0226 - val_loss: 0.0203\n",
      "Epoch 23/50\n",
      "\u001b[1m34/34\u001b[0m \u001b[32m━━━━━━━━━━━━━━━━━━━━\u001b[0m\u001b[37m\u001b[0m \u001b[1m0s\u001b[0m 5ms/step - loss: 0.0200 - val_loss: 0.0180\n",
      "Epoch 24/50\n",
      "\u001b[1m34/34\u001b[0m \u001b[32m━━━━━━━━━━━━━━━━━━━━\u001b[0m\u001b[37m\u001b[0m \u001b[1m0s\u001b[0m 3ms/step - loss: 0.0178 - val_loss: 0.0162\n",
      "Epoch 25/50\n",
      "\u001b[1m34/34\u001b[0m \u001b[32m━━━━━━━━━━━━━━━━━━━━\u001b[0m\u001b[37m\u001b[0m \u001b[1m0s\u001b[0m 5ms/step - loss: 0.0162 - val_loss: 0.0147\n",
      "Epoch 26/50\n",
      "\u001b[1m34/34\u001b[0m \u001b[32m━━━━━━━━━━━━━━━━━━━━\u001b[0m\u001b[37m\u001b[0m \u001b[1m0s\u001b[0m 4ms/step - loss: 0.0148 - val_loss: 0.0135\n",
      "Epoch 27/50\n",
      "\u001b[1m34/34\u001b[0m \u001b[32m━━━━━━━━━━━━━━━━━━━━\u001b[0m\u001b[37m\u001b[0m \u001b[1m0s\u001b[0m 3ms/step - loss: 0.0137 - val_loss: 0.0125\n",
      "Epoch 28/50\n",
      "\u001b[1m34/34\u001b[0m \u001b[32m━━━━━━━━━━━━━━━━━━━━\u001b[0m\u001b[37m\u001b[0m \u001b[1m0s\u001b[0m 4ms/step - loss: 0.0128 - val_loss: 0.0117\n",
      "Epoch 29/50\n",
      "\u001b[1m34/34\u001b[0m \u001b[32m━━━━━━━━━━━━━━━━━━━━\u001b[0m\u001b[37m\u001b[0m \u001b[1m0s\u001b[0m 4ms/step - loss: 0.0121 - val_loss: 0.0111\n",
      "Epoch 30/50\n",
      "\u001b[1m34/34\u001b[0m \u001b[32m━━━━━━━━━━━━━━━━━━━━\u001b[0m\u001b[37m\u001b[0m \u001b[1m0s\u001b[0m 5ms/step - loss: 0.0115 - val_loss: 0.0105\n",
      "Epoch 31/50\n",
      "\u001b[1m34/34\u001b[0m \u001b[32m━━━━━━━━━━━━━━━━━━━━\u001b[0m\u001b[37m\u001b[0m \u001b[1m0s\u001b[0m 4ms/step - loss: 0.0110 - val_loss: 0.0101\n",
      "Epoch 32/50\n",
      "\u001b[1m34/34\u001b[0m \u001b[32m━━━━━━━━━━━━━━━━━━━━\u001b[0m\u001b[37m\u001b[0m \u001b[1m0s\u001b[0m 2ms/step - loss: 0.0107 - val_loss: 0.0098\n",
      "Epoch 33/50\n",
      "\u001b[1m34/34\u001b[0m \u001b[32m━━━━━━━━━━━━━━━━━━━━\u001b[0m\u001b[37m\u001b[0m \u001b[1m0s\u001b[0m 3ms/step - loss: 0.0104 - val_loss: 0.0095\n",
      "Epoch 34/50\n",
      "\u001b[1m34/34\u001b[0m \u001b[32m━━━━━━━━━━━━━━━━━━━━\u001b[0m\u001b[37m\u001b[0m \u001b[1m0s\u001b[0m 4ms/step - loss: 0.0101 - val_loss: 0.0093\n",
      "Epoch 35/50\n",
      "\u001b[1m34/34\u001b[0m \u001b[32m━━━━━━━━━━━━━━━━━━━━\u001b[0m\u001b[37m\u001b[0m \u001b[1m0s\u001b[0m 4ms/step - loss: 0.0099 - val_loss: 0.0091\n",
      "Epoch 36/50\n",
      "\u001b[1m34/34\u001b[0m \u001b[32m━━━━━━━━━━━━━━━━━━━━\u001b[0m\u001b[37m\u001b[0m \u001b[1m0s\u001b[0m 4ms/step - loss: 0.0098 - val_loss: 0.0089\n",
      "Epoch 37/50\n",
      "\u001b[1m34/34\u001b[0m \u001b[32m━━━━━━━━━━━━━━━━━━━━\u001b[0m\u001b[37m\u001b[0m \u001b[1m0s\u001b[0m 2ms/step - loss: 0.0096 - val_loss: 0.0088\n",
      "Epoch 38/50\n",
      "\u001b[1m34/34\u001b[0m \u001b[32m━━━━━━━━━━━━━━━━━━━━\u001b[0m\u001b[37m\u001b[0m \u001b[1m0s\u001b[0m 2ms/step - loss: 0.0095 - val_loss: 0.0087\n",
      "Epoch 39/50\n",
      "\u001b[1m34/34\u001b[0m \u001b[32m━━━━━━━━━━━━━━━━━━━━\u001b[0m\u001b[37m\u001b[0m \u001b[1m0s\u001b[0m 2ms/step - loss: 0.0094 - val_loss: 0.0086\n",
      "Epoch 40/50\n",
      "\u001b[1m34/34\u001b[0m \u001b[32m━━━━━━━━━━━━━━━━━━━━\u001b[0m\u001b[37m\u001b[0m \u001b[1m0s\u001b[0m 4ms/step - loss: 0.0094 - val_loss: 0.0086\n",
      "Epoch 41/50\n",
      "\u001b[1m34/34\u001b[0m \u001b[32m━━━━━━━━━━━━━━━━━━━━\u001b[0m\u001b[37m\u001b[0m \u001b[1m0s\u001b[0m 3ms/step - loss: 0.0093 - val_loss: 0.0085\n",
      "Epoch 42/50\n",
      "\u001b[1m34/34\u001b[0m \u001b[32m━━━━━━━━━━━━━━━━━━━━\u001b[0m\u001b[37m\u001b[0m \u001b[1m0s\u001b[0m 4ms/step - loss: 0.0093 - val_loss: 0.0085\n",
      "Epoch 43/50\n",
      "\u001b[1m34/34\u001b[0m \u001b[32m━━━━━━━━━━━━━━━━━━━━\u001b[0m\u001b[37m\u001b[0m \u001b[1m0s\u001b[0m 2ms/step - loss: 0.0092 - val_loss: 0.0084\n",
      "Epoch 44/50\n",
      "\u001b[1m34/34\u001b[0m \u001b[32m━━━━━━━━━━━━━━━━━━━━\u001b[0m\u001b[37m\u001b[0m \u001b[1m0s\u001b[0m 4ms/step - loss: 0.0092 - val_loss: 0.0084\n",
      "Epoch 45/50\n",
      "\u001b[1m34/34\u001b[0m \u001b[32m━━━━━━━━━━━━━━━━━━━━\u001b[0m\u001b[37m\u001b[0m \u001b[1m0s\u001b[0m 4ms/step - loss: 0.0092 - val_loss: 0.0084\n",
      "Epoch 46/50\n",
      "\u001b[1m34/34\u001b[0m \u001b[32m━━━━━━━━━━━━━━━━━━━━\u001b[0m\u001b[37m\u001b[0m \u001b[1m0s\u001b[0m 4ms/step - loss: 0.0092 - val_loss: 0.0084\n",
      "Epoch 47/50\n",
      "\u001b[1m34/34\u001b[0m \u001b[32m━━━━━━━━━━━━━━━━━━━━\u001b[0m\u001b[37m\u001b[0m \u001b[1m0s\u001b[0m 3ms/step - loss: 0.0092 - val_loss: 0.0083\n",
      "Epoch 48/50\n",
      "\u001b[1m34/34\u001b[0m \u001b[32m━━━━━━━━━━━━━━━━━━━━\u001b[0m\u001b[37m\u001b[0m \u001b[1m-1s\u001b[0m -19926us/step - loss: 0.0092 - val_loss: 0.0083\n",
      "Epoch 49/50\n",
      "\u001b[1m34/34\u001b[0m \u001b[32m━━━━━━━━━━━━━━━━━━━━\u001b[0m\u001b[37m\u001b[0m \u001b[1m0s\u001b[0m 2ms/step - loss: 0.0091 - val_loss: 0.0083\n",
      "Epoch 50/50\n",
      "\u001b[1m34/34\u001b[0m \u001b[32m━━━━━━━━━━━━━━━━━━━━\u001b[0m\u001b[37m\u001b[0m \u001b[1m0s\u001b[0m 3ms/step - loss: 0.0091 - val_loss: 0.0083\n"
     ]
    }
   ],
   "source": [
    "early_stopping = EarlyStopping(monitor='val_loss', patience=5, restore_best_weights=True)\n",
    "verbose = 1\n",
    "history = model.fit(X_train, y_train,\n",
    "                    batch_size = bs,\n",
    "                    epochs = epochs,\n",
    "                    verbose = verbose,\n",
    "                    validation_data = (X_test, y_test),\n",
    "                    # callbacks=[\n",
    "                    #     WandbMetricsLogger(log_freq=1),\n",
    "                    #     WandbModelCheckpoint(\"models/model.keras\")\n",
    "                    # ]\n",
    "                            )\n",
    "#run.finish()"
   ]
  },
  {
   "cell_type": "markdown",
   "id": "643f26a6-9647-4833-a5df-de869db6676e",
   "metadata": {},
   "source": [
    "# Evaluación de la red neuronal"
   ]
  },
  {
   "cell_type": "markdown",
   "id": "0c68c753-b00f-414a-a430-39396a04e32d",
   "metadata": {},
   "source": [
    "## Evaluamos la red en el dominio [-1,1]"
   ]
  },
  {
   "cell_type": "code",
   "execution_count": 16,
   "id": "4683fc00-d088-4ca9-b3ca-30a86a9c6d4a",
   "metadata": {},
   "outputs": [
    {
     "name": "stdout",
     "output_type": "stream",
     "text": [
      "\u001b[1m32/32\u001b[0m \u001b[32m━━━━━━━━━━━━━━━━━━━━\u001b[0m\u001b[37m\u001b[0m \u001b[1m0s\u001b[0m 2ms/step\n"
     ]
    }
   ],
   "source": [
    "x_validation = np.linspace(-1, 1, 1000).reshape(-1, 1)\n",
    "x_validation = scale_x.transform(x_validation)\n",
    "prediction = model.predict(x_validation)\n",
    "prediction = scale_y.inverse_transform(prediction)\n",
    "x_validation = scale_x.inverse_transform(x_validation)\n",
    "x = x_validation\n",
    "\n",
    "polynomial_layer = model.layers[0]\n",
    "a_is = polynomial_layer.kernel.numpy()\n",
    "\n",
    "# Lo siguente nos da la función con los terminos escalados\n",
    "\n",
    "# a_round = np.round(a_is.flatten(), 2)\n",
    "# terms = []\n",
    "# for i, coef in enumerate(a_round):\n",
    "#     terms.append(f\"{coef:.2f}*x**{i}\")\n",
    "\n",
    "# closest_function = \" + \".join(reversed(terms))\n",
    "# print(closest_function)"
   ]
  },
  {
   "cell_type": "code",
   "execution_count": 17,
   "id": "a0c7ce87-d943-4059-ba53-63c9d3c27e01",
   "metadata": {},
   "outputs": [
    {
     "name": "stdout",
     "output_type": "stream",
     "text": [
      "0.002*x**3 + -1.494*x**2 + -0.024*x**1 + 0.947*x**0\n"
     ]
    }
   ],
   "source": [
    "def raw_poly_from_scaled(a, mu_x, s_x, s_y):\n",
    "    x_s = tf.reshape(-1.0,[-1,1])\n",
    "    x_s = scale_x.transform(x_s)\n",
    "    mu_y = scale_y.mean_\n",
    "    b_array = np.zeros(len(a_is))\n",
    "    for i, coef in enumerate(a_is):\n",
    "        if i==0:\n",
    "            b_array[i] = (s_y)*a_is[i] + mu_y\n",
    "        else:\n",
    "            b_array[i] =  (s_y*coef)*((x_s-mu_x)/(x_s*s_x))**i\n",
    "    return b_array\n",
    "\n",
    "\n",
    "a = a_is    \n",
    "mu_x, s_x = scale_x.mean_, scale_x.scale_ \n",
    "mu_y, s_y = scale_y.mean_, scale_y.scale_\n",
    "b = raw_poly_from_scaled(a = a, mu_x = mu_x, s_x = s_x, s_y = s_y)\n",
    "b\n",
    "\n",
    "a_round = b\n",
    "terms = []\n",
    "for i, coef in enumerate(a_round):\n",
    "    terms.append(f\"{coef:.3f}*x**{i}\")\n",
    "\n",
    "closest_function = \" + \".join(reversed(terms))\n",
    "print(closest_function)"
   ]
  },
  {
   "cell_type": "markdown",
   "id": "7141dc7f-b42b-4f88-8ffa-3c4f1a544e55",
   "metadata": {},
   "source": [
    "## Comparamos la predicción con el modelo real"
   ]
  },
  {
   "cell_type": "code",
   "execution_count": 18,
   "id": "2f7ec214-c3c6-46fb-bc52-46ccefa97224",
   "metadata": {},
   "outputs": [
    {
     "data": {
      "image/png": "[encoded data removed]",
      "text/plain": [
       "<Figure size 640x480 with 1 Axes>"
      ]
     },
     "metadata": {},
     "output_type": "display_data"
    }
   ],
   "source": [
    "plt.plot(x,eval(closest_function), label = closest_function)\n",
    "plt.plot(x_validation, prediction, label = \"Prediccón\")\n",
    "plt.plot(x_validation, np.cos(2*x_validation), label = \"cos(2x)\")\n",
    "\n",
    "plt.legend()\n",
    "plt.grid()\n",
    "plt.show()"
   ]
  },
  {
   "cell_type": "markdown",
   "id": "4a0f020c-5d2a-496e-a263-744d32c3e951",
   "metadata": {},
   "source": [
    "La aproximación por serie de taylor de cos(2*x) es  f(x) = 0x^3 + -2x^2 + 0x + 1"
   ]
  }
 ],
 "metadata": {
  "kernelspec": {
   "display_name": "Python 3 (ipykernel)",
   "language": "python",
   "name": "python3"
  },
  "language_info": {
   "codemirror_mode": {
    "name": "ipython",
    "version": 3
   },
   "file_extension": ".py",
   "mimetype": "text/x-python",
   "name": "python",
   "nbconvert_exporter": "python",
   "pygments_lexer": "ipython3",
   "version": "3.11.13"
  }
 },
 "nbformat": 4,
 "nbformat_minor": 5
}
