{
 "cells": [
  {
   "cell_type": "markdown",
   "id": "f306e2e7-4991-4d48-aaca-5ad876b0274f",
   "metadata": {},
   "source": [
    "# LIBRERIAS A USAR"
   ]
  },
  {
   "cell_type": "markdown",
   "id": "183f71f7-542e-4559-ada6-02b866535607",
   "metadata": {},
   "source": [
    "## Instalamos las dependecias necesarias"
   ]
  },
  {
   "cell_type": "code",
   "execution_count": 250,
   "id": "956c9b64-d249-4d84-886f-5a01bd128522",
   "metadata": {},
   "outputs": [],
   "source": [
    "# !pip3 install --upgrade wandb\n",
    "#!pip install scikit-learn"
   ]
  },
  {
   "cell_type": "markdown",
   "id": "ecbbd35c-f7b3-4a6f-a798-c82b5a51c788",
   "metadata": {},
   "source": [
    "## Importamos las librerias y sus submodulos"
   ]
  },
  {
   "cell_type": "code",
   "execution_count": 251,
   "id": "154007ab-b3b4-4c8f-9093-c1c39917de25",
   "metadata": {},
   "outputs": [],
   "source": [
    "import warnings\n",
    "warnings.filterwarnings('ignore')\n",
    "import tensorflow as tf\n",
    "import numpy as np\n",
    "import matplotlib.pyplot as plt\n",
    "from matplotlib.image import imread\n",
    "import sklearn\n",
    "import os\n",
    "import time"
   ]
  },
  {
   "cell_type": "code",
   "execution_count": 252,
   "id": "85780d63-9e36-42fc-9c2e-359efda8fc14",
   "metadata": {},
   "outputs": [],
   "source": [
    "from tensorflow import keras\n",
    "from tensorflow.keras.models import Sequential\n",
    "from keras import layers\n",
    "from keras import initializers\n",
    "from tensorflow.keras.layers import Dense, Dropout, Activation\n",
    "from tensorflow.keras.optimizers import RMSprop, SGD, Adam\n",
    "from tensorflow.keras import regularizers\n",
    "from tensorflow.keras.models import load_model\n",
    "from sklearn.model_selection import train_test_split\n",
    "from sklearn.model_selection import train_test_split\n",
    "from sklearn.preprocessing import StandardScaler\n",
    "from tensorflow.keras.callbacks import EarlyStopping"
   ]
  },
  {
   "cell_type": "markdown",
   "id": "a4e292af-edf9-4d28-8277-52653726ddff",
   "metadata": {},
   "source": [
    "## Definimos los híper-parámetros"
   ]
  },
  {
   "cell_type": "code",
   "execution_count": 253,
   "id": "aa72d2b9-76d9-4e5a-879f-3b2b1647ea97",
   "metadata": {},
   "outputs": [],
   "source": [
    "lr = 0.005 #Learning rate\n",
    "epochs = 50\n",
    "bs = 120 #batch size\n",
    "loss = \"mse\"\n",
    "optimizer = \"ADAM\"\n",
    "regularizer = \"L2\""
   ]
  },
  {
   "cell_type": "code",
   "execution_count": 254,
   "id": "a2b045f0-b946-46a1-b8b9-88810305209b",
   "metadata": {},
   "outputs": [],
   "source": [
    "# run = wandb.init(\n",
    "#     settings=wandb.Settings(x_disable_stats=False, x_stats_sampling_interval = 1.0),\n",
    "#     # set the wandb project where this run will be logged\n",
    "#     name = \"Intento_intento_con_DO_L1L2_adam_more_data\",\n",
    "#     project = \"Creacion_de_regresion_lineal\",\n",
    "#     group = \"Pol\",\n",
    "\n",
    "#     # track hyperparameters and run metadata with wandb.config\n",
    "#     config = {\n",
    "#         \"layer_1\": 512,\n",
    "#         \"activation\": \"relu\",\n",
    "#         \"w_initializer\": \"He Initialization\",\n",
    "#         \"optimizer\": optimizer,\n",
    "#         \"loss\": loss,\n",
    "#         \"metric\": \"mse\",\n",
    "#         \"epoch\": epochs,\n",
    "#         \"batch_size\": bs,\n",
    "#         \"layer_quantity\": 1,\n",
    "#         \"regularizer\": regularizer,\n",
    "#         \"Modelo\": \"Pol\"\n",
    "#     }\n",
    "# )\n",
    "# time.sleep(3.0)"
   ]
  },
  {
   "cell_type": "markdown",
   "id": "67274534-9b5a-440e-8c48-31d058f3de06",
   "metadata": {},
   "source": [
    "# Antes de empezar"
   ]
  },
  {
   "cell_type": "markdown",
   "id": "12b93989-50fe-4814-b0e3-5d722ccdeafc",
   "metadata": {},
   "source": [
    "## Creamos el nuevo layer polinomial"
   ]
  },
  {
   "cell_type": "code",
   "execution_count": 255,
   "id": "547dee8a-4a0c-4d14-8a30-ba5626939188",
   "metadata": {},
   "outputs": [],
   "source": [
    "class PolynomialTransform(tf.keras.layers.Layer):\n",
    "    def __init__(self, degree):\n",
    "        super(PolynomialTransform,self).__init__()\n",
    "        \n",
    "        self.num_outputs = degree + 1 #Se define la cantidad de potencias con las que se trabajara (incluido el 0)\n",
    "        self.powers =  tf.range(start = 0.0, limit = self.num_outputs) #Se crea el array de potencias \n",
    "        self.kernel = self.add_weight(name = \"kernel\", shape=[self.num_outputs]) #Se crea el array de pesos\n",
    "\n",
    "    def poly_terms(self, inputs):\n",
    "        #Garantizamos que se aplique a cualquier dato, array o no\n",
    "        inputs = tf.convert_to_tensor(inputs)\n",
    "        if (inputs.shape == ()):\n",
    "            inputs=(inputs,)\n",
    "        elif (len(inputs.shape)==1):\n",
    "            inputs=tf.expand_dims(inputs, axis=1)\n",
    "       \n",
    "        #Sacamos la longitud del batch para conseguir la matriz de potencias\n",
    "        batch = tf.shape(inputs)[0]\n",
    "\n",
    "        #Expandimos los array de entrada y de potencias para que sean compatibles\n",
    "        inputs_expanded = tf.expand_dims(inputs, axis=-1)  #[batch, 1, 1]\n",
    "        powers_expanded = tf.expand_dims(self.powers, axis=0)  #[1, num_outputs]\n",
    "        powers_expanded = tf.expand_dims(powers_expanded, axis=0)  #[1, 1, num_outputs]\n",
    "    \n",
    "        poly_terms = tf.math.pow(inputs_expanded, powers_expanded)  #[batch, 1, num_outputs]\n",
    "        poly_terms = tf.squeeze(poly_terms, axis=1)  #[batch, num_outputs]\n",
    "        return poly_terms\n",
    "\n",
    "    def polynomial(self, inputs, coefficients):\n",
    "        terms = self.poly_terms(inputs)\n",
    "        coefficients = tf.convert_to_tensor(coefficients, dtype=tf.float32)\n",
    "        coefficients = tf.reshape(coefficients, [self.num_outputs])  \n",
    "        return tf.tensordot(terms, coefficients, 1) #[batch] --> batch_i = a_i*(x**i)\n",
    "    \n",
    "    def call(self, inputs):\n",
    "        terms = self.poly_terms(inputs)\n",
    "        terms = tf.tensordot(terms, self.kernel, 1) #[batch] --> batch_i = a_i*(x**i)\n",
    "        return tf.expand_dims(terms, axis = -1)"
   ]
  },
  {
   "cell_type": "markdown",
   "id": "e562854d-9377-41bb-ab11-60729dfa268f",
   "metadata": {},
   "source": [
    "### Verificamos su funcionalidad"
   ]
  },
  {
   "cell_type": "code",
   "execution_count": 256,
   "id": "13295e67-7b09-4be2-b8ed-e61476f10bb3",
   "metadata": {},
   "outputs": [],
   "source": [
    "# prueba1 = PolynomialTransform(degree = 3) #Definimos un polinomio de grado 3\n",
    "# delta = 0.01\n",
    "# x1 = tf.range(-4,4,delta = delta) #Arreglo 1D\n",
    "# print(tf.shape(x1))\n",
    "# res1 = prueba1(inputs = x)\n",
    "# plt.scatter(x,res1)"
   ]
  },
  {
   "cell_type": "code",
   "execution_count": 257,
   "id": "f2b8acbb-7a8e-4f6b-b749-f5aeb4d97b0d",
   "metadata": {},
   "outputs": [],
   "source": [
    "# prueba2 = PolynomialTransform(degree = 5)\n",
    "# x2 = tf.reshape(x1, [800,1])  # Arreglo 2D\n",
    "# print(tf.shape(x2))\n",
    "# res2 = prueba2(inputs = x2)\n",
    "# plt.scatter(x2,res2)"
   ]
  },
  {
   "cell_type": "markdown",
   "id": "b3ccc548-1fa9-4101-a97e-6f6715cb9822",
   "metadata": {},
   "source": [
    "## Creamos y preparamos los datos de entrenamiento"
   ]
  },
  {
   "cell_type": "code",
   "execution_count": 258,
   "id": "f2335a1b-db82-4728-a59c-837c5d41a039",
   "metadata": {},
   "outputs": [
    {
     "data": {
      "text/plain": [
       "<matplotlib.legend.Legend at 0x787f9c8c4c10>"
      ]
     },
     "execution_count": 258,
     "metadata": {},
     "output_type": "execute_result"
    },
    {
     "data": {
      "image/png": "[encoded data removed]",
      "text/plain": [
       "<Figure size 640x480 with 1 Axes>"
      ]
     },
     "metadata": {},
     "output_type": "display_data"
    }
   ],
   "source": [
    "batch_size = 5000\n",
    "Polynomial = PolynomialTransform(3)\n",
    "x = tf.random.uniform((batch_size,), minval=-1, maxval=1)\n",
    "y = tf.math.cos(2*x)\n",
    "plt.scatter(x,y, label = \"cos(2x)\")\n",
    "plt.legend()"
   ]
  },
  {
   "cell_type": "code",
   "execution_count": 259,
   "id": "abc60974-e371-4d98-9dfa-f7b4e3acda8e",
   "metadata": {},
   "outputs": [],
   "source": [
    "domain = tf.reshape(x,[-1,1])\n",
    "codomain_cos = tf.reshape(y,[-1,1])\n",
    "domain = domain.numpy()\n",
    "codomain_cos = codomain_cos.numpy()\n",
    "X_train, X_test, y_train, y_test = train_test_split(domain, codomain_cos, test_size=0.2, random_state=42)"
   ]
  },
  {
   "cell_type": "code",
   "execution_count": 260,
   "id": "297ec4aa-4f4d-4840-b020-325f8beda88c",
   "metadata": {},
   "outputs": [],
   "source": [
    "scale_x = StandardScaler()\n",
    "scale_y = StandardScaler()\n",
    "X_train, y_train = scale_x.fit_transform(X_train), scale_y.fit_transform(y_train)\n",
    "X_test, y_test = scale_x.transform(X_test), scale_y.transform(y_test)"
   ]
  },
  {
   "cell_type": "markdown",
   "id": "b39e6d37-60c5-4909-b210-4fe0738fd877",
   "metadata": {},
   "source": [
    "# Creamos la red neuronal"
   ]
  },
  {
   "cell_type": "markdown",
   "id": "c663fd6f-2ba3-46a6-91f7-b1b89dba1cdf",
   "metadata": {},
   "source": [
    "### Usamos functional API"
   ]
  },
  {
   "cell_type": "code",
   "execution_count": 275,
   "id": "361a0ba5-2f03-4957-b9c2-76d771825fd2",
   "metadata": {},
   "outputs": [],
   "source": [
    "n = 3\n",
    "inputs = keras.Input(shape=(1,))\n",
    "poly_out = PolynomialTransform(degree = n)(inputs)\n",
    "# dense_out = Dense(10, activation='relu', name = \"Layer2\")(poly_out)\n",
    "dense_out = Dense(5, activation='tanh', name = \"Layer3\")(poly_out)\n",
    "final_out = Dense(1, name = \"Layer4\")(dense_out)"
   ]
  },
  {
   "cell_type": "code",
   "execution_count": 276,
   "id": "f2984bfa-f345-4f8b-8b9e-35224cce7db2",
   "metadata": {},
   "outputs": [
    {
     "data": {
      "text/html": [
       "<pre style=\"white-space:pre;overflow-x:auto;line-height:normal;font-family:Menlo,'DejaVu Sans Mono',consolas,'Courier New',monospace\"><span style=\"font-weight: bold\">Model: \"functional_23\"</span>\n",
       "</pre>\n"
      ],
      "text/plain": [
       "\u001b[1mModel: \"functional_23\"\u001b[0m\n"
      ]
     },
     "metadata": {},
     "output_type": "display_data"
    },
    {
     "data": {
      "text/html": [
       "<pre style=\"white-space:pre;overflow-x:auto;line-height:normal;font-family:Menlo,'DejaVu Sans Mono',consolas,'Courier New',monospace\">┏━━━━━━━━━━━━━━━━━━━━━━━━━━━━━━━━━┳━━━━━━━━━━━━━━━━━━━━━━━━┳━━━━━━━━━━━━━━━┓\n",
       "┃<span style=\"font-weight: bold\"> Layer (type)                    </span>┃<span style=\"font-weight: bold\"> Output Shape           </span>┃<span style=\"font-weight: bold\">       Param # </span>┃\n",
       "┡━━━━━━━━━━━━━━━━━━━━━━━━━━━━━━━━━╇━━━━━━━━━━━━━━━━━━━━━━━━╇━━━━━━━━━━━━━━━┩\n",
       "│ input_layer_44 (<span style=\"color: #0087ff; text-decoration-color: #0087ff\">InputLayer</span>)     │ (<span style=\"color: #00d7ff; text-decoration-color: #00d7ff\">None</span>, <span style=\"color: #00af00; text-decoration-color: #00af00\">1</span>)              │             <span style=\"color: #00af00; text-decoration-color: #00af00\">0</span> │\n",
       "├─────────────────────────────────┼────────────────────────┼───────────────┤\n",
       "│ polynomial_transform_63         │ (<span style=\"color: #00d7ff; text-decoration-color: #00d7ff\">None</span>, <span style=\"color: #00af00; text-decoration-color: #00af00\">1</span>)              │             <span style=\"color: #00af00; text-decoration-color: #00af00\">4</span> │\n",
       "│ (<span style=\"color: #0087ff; text-decoration-color: #0087ff\">PolynomialTransform</span>)           │                        │               │\n",
       "├─────────────────────────────────┼────────────────────────┼───────────────┤\n",
       "│ Layer3 (<span style=\"color: #0087ff; text-decoration-color: #0087ff\">Dense</span>)                  │ (<span style=\"color: #00d7ff; text-decoration-color: #00d7ff\">None</span>, <span style=\"color: #00af00; text-decoration-color: #00af00\">5</span>)              │            <span style=\"color: #00af00; text-decoration-color: #00af00\">10</span> │\n",
       "├─────────────────────────────────┼────────────────────────┼───────────────┤\n",
       "│ Layer4 (<span style=\"color: #0087ff; text-decoration-color: #0087ff\">Dense</span>)                  │ (<span style=\"color: #00d7ff; text-decoration-color: #00d7ff\">None</span>, <span style=\"color: #00af00; text-decoration-color: #00af00\">1</span>)              │             <span style=\"color: #00af00; text-decoration-color: #00af00\">6</span> │\n",
       "└─────────────────────────────────┴────────────────────────┴───────────────┘\n",
       "</pre>\n"
      ],
      "text/plain": [
       "┏━━━━━━━━━━━━━━━━━━━━━━━━━━━━━━━━━┳━━━━━━━━━━━━━━━━━━━━━━━━┳━━━━━━━━━━━━━━━┓\n",
       "┃\u001b[1m \u001b[0m\u001b[1mLayer (type)                   \u001b[0m\u001b[1m \u001b[0m┃\u001b[1m \u001b[0m\u001b[1mOutput Shape          \u001b[0m\u001b[1m \u001b[0m┃\u001b[1m \u001b[0m\u001b[1m      Param #\u001b[0m\u001b[1m \u001b[0m┃\n",
       "┡━━━━━━━━━━━━━━━━━━━━━━━━━━━━━━━━━╇━━━━━━━━━━━━━━━━━━━━━━━━╇━━━━━━━━━━━━━━━┩\n",
       "│ input_layer_44 (\u001b[38;5;33mInputLayer\u001b[0m)     │ (\u001b[38;5;45mNone\u001b[0m, \u001b[38;5;34m1\u001b[0m)              │             \u001b[38;5;34m0\u001b[0m │\n",
       "├─────────────────────────────────┼────────────────────────┼───────────────┤\n",
       "│ polynomial_transform_63         │ (\u001b[38;5;45mNone\u001b[0m, \u001b[38;5;34m1\u001b[0m)              │             \u001b[38;5;34m4\u001b[0m │\n",
       "│ (\u001b[38;5;33mPolynomialTransform\u001b[0m)           │                        │               │\n",
       "├─────────────────────────────────┼────────────────────────┼───────────────┤\n",
       "│ Layer3 (\u001b[38;5;33mDense\u001b[0m)                  │ (\u001b[38;5;45mNone\u001b[0m, \u001b[38;5;34m5\u001b[0m)              │            \u001b[38;5;34m10\u001b[0m │\n",
       "├─────────────────────────────────┼────────────────────────┼───────────────┤\n",
       "│ Layer4 (\u001b[38;5;33mDense\u001b[0m)                  │ (\u001b[38;5;45mNone\u001b[0m, \u001b[38;5;34m1\u001b[0m)              │             \u001b[38;5;34m6\u001b[0m │\n",
       "└─────────────────────────────────┴────────────────────────┴───────────────┘\n"
      ]
     },
     "metadata": {},
     "output_type": "display_data"
    },
    {
     "data": {
      "text/html": [
       "<pre style=\"white-space:pre;overflow-x:auto;line-height:normal;font-family:Menlo,'DejaVu Sans Mono',consolas,'Courier New',monospace\"><span style=\"font-weight: bold\"> Total params: </span><span style=\"color: #00af00; text-decoration-color: #00af00\">20</span> (80.00 B)\n",
       "</pre>\n"
      ],
      "text/plain": [
       "\u001b[1m Total params: \u001b[0m\u001b[38;5;34m20\u001b[0m (80.00 B)\n"
      ]
     },
     "metadata": {},
     "output_type": "display_data"
    },
    {
     "data": {
      "text/html": [
       "<pre style=\"white-space:pre;overflow-x:auto;line-height:normal;font-family:Menlo,'DejaVu Sans Mono',consolas,'Courier New',monospace\"><span style=\"font-weight: bold\"> Trainable params: </span><span style=\"color: #00af00; text-decoration-color: #00af00\">20</span> (80.00 B)\n",
       "</pre>\n"
      ],
      "text/plain": [
       "\u001b[1m Trainable params: \u001b[0m\u001b[38;5;34m20\u001b[0m (80.00 B)\n"
      ]
     },
     "metadata": {},
     "output_type": "display_data"
    },
    {
     "data": {
      "text/html": [
       "<pre style=\"white-space:pre;overflow-x:auto;line-height:normal;font-family:Menlo,'DejaVu Sans Mono',consolas,'Courier New',monospace\"><span style=\"font-weight: bold\"> Non-trainable params: </span><span style=\"color: #00af00; text-decoration-color: #00af00\">0</span> (0.00 B)\n",
       "</pre>\n"
      ],
      "text/plain": [
       "\u001b[1m Non-trainable params: \u001b[0m\u001b[38;5;34m0\u001b[0m (0.00 B)\n"
      ]
     },
     "metadata": {},
     "output_type": "display_data"
    }
   ],
   "source": [
    "model = keras.Model(inputs = inputs, outputs = final_out)\n",
    "model.build(input_shape = inputs)\n",
    "model.compile(optimizer='adam', loss='mse')\n",
    "model.summary()"
   ]
  },
  {
   "cell_type": "code",
   "execution_count": 277,
   "id": "205f0258-e228-4924-a672-e308de5f7c61",
   "metadata": {},
   "outputs": [],
   "source": [
    "# for layer in model.layers:\n",
    "#    if hasattr(layer, 'kernel_initializer'):\n",
    "#        new_weights = layer.kernel_initializer(layer.kernel.shape)\n",
    "#        layer.kernel.assign(new_weights)\n",
    "#    if hasattr(layer, 'bias_initializer') and layer.bias is not None:\n",
    "#        new_bias = layer.bias_initializer(layer.bias.shape)\n",
    "#        layer.bias.assign(new_bias)"
   ]
  },
  {
   "cell_type": "markdown",
   "id": "0a4be6d8-a9d2-4bb6-a6b4-adae0949f54c",
   "metadata": {},
   "source": [
    "### Entrenamos la red"
   ]
  },
  {
   "cell_type": "code",
   "execution_count": 278,
   "id": "1a5aaef2-05d2-4943-bf81-a5e6393fef6d",
   "metadata": {},
   "outputs": [
    {
     "name": "stdout",
     "output_type": "stream",
     "text": [
      "Epoch 1/50\n",
      "\u001b[1m34/34\u001b[0m \u001b[32m━━━━━━━━━━━━━━━━━━━━\u001b[0m\u001b[37m\u001b[0m \u001b[1m1s\u001b[0m 5ms/step - loss: 0.9115 - val_loss: 0.8305\n",
      "Epoch 2/50\n",
      "\u001b[1m34/34\u001b[0m \u001b[32m━━━━━━━━━━━━━━━━━━━━\u001b[0m\u001b[37m\u001b[0m \u001b[1m0s\u001b[0m 2ms/step - loss: 0.8443 - val_loss: 0.7646\n",
      "Epoch 3/50\n",
      "\u001b[1m34/34\u001b[0m \u001b[32m━━━━━━━━━━━━━━━━━━━━\u001b[0m\u001b[37m\u001b[0m \u001b[1m0s\u001b[0m 3ms/step - loss: 0.7689 - val_loss: 0.6741\n",
      "Epoch 4/50\n",
      "\u001b[1m34/34\u001b[0m \u001b[32m━━━━━━━━━━━━━━━━━━━━\u001b[0m\u001b[37m\u001b[0m \u001b[1m0s\u001b[0m 2ms/step - loss: 0.6478 - val_loss: 0.5308\n",
      "Epoch 5/50\n",
      "\u001b[1m34/34\u001b[0m \u001b[32m━━━━━━━━━━━━━━━━━━━━\u001b[0m\u001b[37m\u001b[0m \u001b[1m0s\u001b[0m 2ms/step - loss: 0.4787 - val_loss: 0.3662\n",
      "Epoch 6/50\n",
      "\u001b[1m34/34\u001b[0m \u001b[32m━━━━━━━━━━━━━━━━━━━━\u001b[0m\u001b[37m\u001b[0m \u001b[1m0s\u001b[0m 2ms/step - loss: 0.3130 - val_loss: 0.2301\n",
      "Epoch 7/50\n",
      "\u001b[1m34/34\u001b[0m \u001b[32m━━━━━━━━━━━━━━━━━━━━\u001b[0m\u001b[37m\u001b[0m \u001b[1m0s\u001b[0m 2ms/step - loss: 0.1900 - val_loss: 0.1371\n",
      "Epoch 8/50\n",
      "\u001b[1m34/34\u001b[0m \u001b[32m━━━━━━━━━━━━━━━━━━━━\u001b[0m\u001b[37m\u001b[0m \u001b[1m0s\u001b[0m 2ms/step - loss: 0.1124 - val_loss: 0.0844\n",
      "Epoch 9/50\n",
      "\u001b[1m34/34\u001b[0m \u001b[32m━━━━━━━━━━━━━━━━━━━━\u001b[0m\u001b[37m\u001b[0m \u001b[1m0s\u001b[0m 2ms/step - loss: 0.0703 - val_loss: 0.0571\n",
      "Epoch 10/50\n",
      "\u001b[1m34/34\u001b[0m \u001b[32m━━━━━━━━━━━━━━━━━━━━\u001b[0m\u001b[37m\u001b[0m \u001b[1m0s\u001b[0m 2ms/step - loss: 0.0493 - val_loss: 0.0438\n",
      "Epoch 11/50\n",
      "\u001b[1m34/34\u001b[0m \u001b[32m━━━━━━━━━━━━━━━━━━━━\u001b[0m\u001b[37m\u001b[0m \u001b[1m0s\u001b[0m 2ms/step - loss: 0.0391 - val_loss: 0.0372\n",
      "Epoch 12/50\n",
      "\u001b[1m34/34\u001b[0m \u001b[32m━━━━━━━━━━━━━━━━━━━━\u001b[0m\u001b[37m\u001b[0m \u001b[1m0s\u001b[0m 2ms/step - loss: 0.0339 - val_loss: 0.0336\n",
      "Epoch 13/50\n",
      "\u001b[1m34/34\u001b[0m \u001b[32m━━━━━━━━━━━━━━━━━━━━\u001b[0m\u001b[37m\u001b[0m \u001b[1m0s\u001b[0m 2ms/step - loss: 0.0309 - val_loss: 0.0311\n",
      "Epoch 14/50\n",
      "\u001b[1m34/34\u001b[0m \u001b[32m━━━━━━━━━━━━━━━━━━━━\u001b[0m\u001b[37m\u001b[0m \u001b[1m0s\u001b[0m 2ms/step - loss: 0.0288 - val_loss: 0.0291\n",
      "Epoch 15/50\n",
      "\u001b[1m34/34\u001b[0m \u001b[32m━━━━━━━━━━━━━━━━━━━━\u001b[0m\u001b[37m\u001b[0m \u001b[1m0s\u001b[0m 2ms/step - loss: 0.0270 - val_loss: 0.0273\n",
      "Epoch 16/50\n",
      "\u001b[1m34/34\u001b[0m \u001b[32m━━━━━━━━━━━━━━━━━━━━\u001b[0m\u001b[37m\u001b[0m \u001b[1m0s\u001b[0m 2ms/step - loss: 0.0254 - val_loss: 0.0257\n",
      "Epoch 17/50\n",
      "\u001b[1m34/34\u001b[0m \u001b[32m━━━━━━━━━━━━━━━━━━━━\u001b[0m\u001b[37m\u001b[0m \u001b[1m0s\u001b[0m 2ms/step - loss: 0.0238 - val_loss: 0.0242\n",
      "Epoch 18/50\n",
      "\u001b[1m34/34\u001b[0m \u001b[32m━━━━━━━━━━━━━━━━━━━━\u001b[0m\u001b[37m\u001b[0m \u001b[1m0s\u001b[0m 2ms/step - loss: 0.0224 - val_loss: 0.0227\n",
      "Epoch 19/50\n",
      "\u001b[1m34/34\u001b[0m \u001b[32m━━━━━━━━━━━━━━━━━━━━\u001b[0m\u001b[37m\u001b[0m \u001b[1m0s\u001b[0m 3ms/step - loss: 0.0211 - val_loss: 0.0214\n",
      "Epoch 20/50\n",
      "\u001b[1m34/34\u001b[0m \u001b[32m━━━━━━━━━━━━━━━━━━━━\u001b[0m\u001b[37m\u001b[0m \u001b[1m0s\u001b[0m 3ms/step - loss: 0.0198 - val_loss: 0.0201\n",
      "Epoch 21/50\n",
      "\u001b[1m34/34\u001b[0m \u001b[32m━━━━━━━━━━━━━━━━━━━━\u001b[0m\u001b[37m\u001b[0m \u001b[1m0s\u001b[0m 2ms/step - loss: 0.0187 - val_loss: 0.0189\n",
      "Epoch 22/50\n",
      "\u001b[1m34/34\u001b[0m \u001b[32m━━━━━━━━━━━━━━━━━━━━\u001b[0m\u001b[37m\u001b[0m \u001b[1m0s\u001b[0m 2ms/step - loss: 0.0176 - val_loss: 0.0178\n",
      "Epoch 23/50\n",
      "\u001b[1m34/34\u001b[0m \u001b[32m━━━━━━━━━━━━━━━━━━━━\u001b[0m\u001b[37m\u001b[0m \u001b[1m0s\u001b[0m 2ms/step - loss: 0.0165 - val_loss: 0.0168\n",
      "Epoch 24/50\n",
      "\u001b[1m34/34\u001b[0m \u001b[32m━━━━━━━━━━━━━━━━━━━━\u001b[0m\u001b[37m\u001b[0m \u001b[1m0s\u001b[0m 2ms/step - loss: 0.0156 - val_loss: 0.0158\n",
      "Epoch 25/50\n",
      "\u001b[1m34/34\u001b[0m \u001b[32m━━━━━━━━━━━━━━━━━━━━\u001b[0m\u001b[37m\u001b[0m \u001b[1m0s\u001b[0m 2ms/step - loss: 0.0147 - val_loss: 0.0149\n",
      "Epoch 26/50\n",
      "\u001b[1m34/34\u001b[0m \u001b[32m━━━━━━━━━━━━━━━━━━━━\u001b[0m\u001b[37m\u001b[0m \u001b[1m0s\u001b[0m 2ms/step - loss: 0.0138 - val_loss: 0.0140\n",
      "Epoch 27/50\n",
      "\u001b[1m34/34\u001b[0m \u001b[32m━━━━━━━━━━━━━━━━━━━━\u001b[0m\u001b[37m\u001b[0m \u001b[1m0s\u001b[0m 2ms/step - loss: 0.0130 - val_loss: 0.0132\n",
      "Epoch 28/50\n",
      "\u001b[1m34/34\u001b[0m \u001b[32m━━━━━━━━━━━━━━━━━━━━\u001b[0m\u001b[37m\u001b[0m \u001b[1m0s\u001b[0m 2ms/step - loss: 0.0123 - val_loss: 0.0125\n",
      "Epoch 29/50\n",
      "\u001b[1m34/34\u001b[0m \u001b[32m━━━━━━━━━━━━━━━━━━━━\u001b[0m\u001b[37m\u001b[0m \u001b[1m0s\u001b[0m 2ms/step - loss: 0.0116 - val_loss: 0.0118\n",
      "Epoch 30/50\n",
      "\u001b[1m34/34\u001b[0m \u001b[32m━━━━━━━━━━━━━━━━━━━━\u001b[0m\u001b[37m\u001b[0m \u001b[1m0s\u001b[0m 2ms/step - loss: 0.0109 - val_loss: 0.0111\n",
      "Epoch 31/50\n",
      "\u001b[1m34/34\u001b[0m \u001b[32m━━━━━━━━━━━━━━━━━━━━\u001b[0m\u001b[37m\u001b[0m \u001b[1m0s\u001b[0m 2ms/step - loss: 0.0103 - val_loss: 0.0105\n",
      "Epoch 32/50\n",
      "\u001b[1m34/34\u001b[0m \u001b[32m━━━━━━━━━━━━━━━━━━━━\u001b[0m\u001b[37m\u001b[0m \u001b[1m0s\u001b[0m 2ms/step - loss: 0.0097 - val_loss: 0.0099\n",
      "Epoch 33/50\n",
      "\u001b[1m34/34\u001b[0m \u001b[32m━━━━━━━━━━━━━━━━━━━━\u001b[0m\u001b[37m\u001b[0m \u001b[1m0s\u001b[0m 2ms/step - loss: 0.0092 - val_loss: 0.0094\n",
      "Epoch 34/50\n",
      "\u001b[1m34/34\u001b[0m \u001b[32m━━━━━━━━━━━━━━━━━━━━\u001b[0m\u001b[37m\u001b[0m \u001b[1m0s\u001b[0m 2ms/step - loss: 0.0087 - val_loss: 0.0088\n",
      "Epoch 35/50\n",
      "\u001b[1m34/34\u001b[0m \u001b[32m━━━━━━━━━━━━━━━━━━━━\u001b[0m\u001b[37m\u001b[0m \u001b[1m0s\u001b[0m 2ms/step - loss: 0.0082 - val_loss: 0.0083\n",
      "Epoch 36/50\n",
      "\u001b[1m34/34\u001b[0m \u001b[32m━━━━━━━━━━━━━━━━━━━━\u001b[0m\u001b[37m\u001b[0m \u001b[1m0s\u001b[0m 2ms/step - loss: 0.0077 - val_loss: 0.0079\n",
      "Epoch 37/50\n",
      "\u001b[1m34/34\u001b[0m \u001b[32m━━━━━━━━━━━━━━━━━━━━\u001b[0m\u001b[37m\u001b[0m \u001b[1m0s\u001b[0m 2ms/step - loss: 0.0073 - val_loss: 0.0075\n",
      "Epoch 38/50\n",
      "\u001b[1m34/34\u001b[0m \u001b[32m━━━━━━━━━━━━━━━━━━━━\u001b[0m\u001b[37m\u001b[0m \u001b[1m0s\u001b[0m 2ms/step - loss: 0.0069 - val_loss: 0.0071\n",
      "Epoch 39/50\n",
      "\u001b[1m34/34\u001b[0m \u001b[32m━━━━━━━━━━━━━━━━━━━━\u001b[0m\u001b[37m\u001b[0m \u001b[1m0s\u001b[0m 2ms/step - loss: 0.0066 - val_loss: 0.0067\n",
      "Epoch 40/50\n",
      "\u001b[1m34/34\u001b[0m \u001b[32m━━━━━━━━━━━━━━━━━━━━\u001b[0m\u001b[37m\u001b[0m \u001b[1m0s\u001b[0m 2ms/step - loss: 0.0062 - val_loss: 0.0064\n",
      "Epoch 41/50\n",
      "\u001b[1m34/34\u001b[0m \u001b[32m━━━━━━━━━━━━━━━━━━━━\u001b[0m\u001b[37m\u001b[0m \u001b[1m0s\u001b[0m 2ms/step - loss: 0.0059 - val_loss: 0.0061\n",
      "Epoch 42/50\n",
      "\u001b[1m34/34\u001b[0m \u001b[32m━━━━━━━━━━━━━━━━━━━━\u001b[0m\u001b[37m\u001b[0m \u001b[1m0s\u001b[0m 2ms/step - loss: 0.0056 - val_loss: 0.0058\n",
      "Epoch 43/50\n",
      "\u001b[1m34/34\u001b[0m \u001b[32m━━━━━━━━━━━━━━━━━━━━\u001b[0m\u001b[37m\u001b[0m \u001b[1m0s\u001b[0m 2ms/step - loss: 0.0054 - val_loss: 0.0055\n",
      "Epoch 44/50\n",
      "\u001b[1m34/34\u001b[0m \u001b[32m━━━━━━━━━━━━━━━━━━━━\u001b[0m\u001b[37m\u001b[0m \u001b[1m0s\u001b[0m 2ms/step - loss: 0.0051 - val_loss: 0.0052\n",
      "Epoch 45/50\n",
      "\u001b[1m34/34\u001b[0m \u001b[32m━━━━━━━━━━━━━━━━━━━━\u001b[0m\u001b[37m\u001b[0m \u001b[1m0s\u001b[0m 2ms/step - loss: 0.0049 - val_loss: 0.0050\n",
      "Epoch 46/50\n",
      "\u001b[1m34/34\u001b[0m \u001b[32m━━━━━━━━━━━━━━━━━━━━\u001b[0m\u001b[37m\u001b[0m \u001b[1m0s\u001b[0m 2ms/step - loss: 0.0047 - val_loss: 0.0048\n",
      "Epoch 47/50\n",
      "\u001b[1m34/34\u001b[0m \u001b[32m━━━━━━━━━━━━━━━━━━━━\u001b[0m\u001b[37m\u001b[0m \u001b[1m0s\u001b[0m 2ms/step - loss: 0.0045 - val_loss: 0.0046\n",
      "Epoch 48/50\n",
      "\u001b[1m34/34\u001b[0m \u001b[32m━━━━━━━━━━━━━━━━━━━━\u001b[0m\u001b[37m\u001b[0m \u001b[1m0s\u001b[0m 2ms/step - loss: 0.0043 - val_loss: 0.0044\n",
      "Epoch 49/50\n",
      "\u001b[1m34/34\u001b[0m \u001b[32m━━━━━━━━━━━━━━━━━━━━\u001b[0m\u001b[37m\u001b[0m \u001b[1m0s\u001b[0m 2ms/step - loss: 0.0041 - val_loss: 0.0042\n",
      "Epoch 50/50\n",
      "\u001b[1m34/34\u001b[0m \u001b[32m━━━━━━━━━━━━━━━━━━━━\u001b[0m\u001b[37m\u001b[0m \u001b[1m0s\u001b[0m 2ms/step - loss: 0.0040 - val_loss: 0.0041\n"
     ]
    }
   ],
   "source": [
    "early_stopping = EarlyStopping(monitor='val_loss', patience=5, restore_best_weights=True)\n",
    "verbose = 1\n",
    "\n",
    "history = model.fit(X_train, y_train,\n",
    "                    batch_size = bs,\n",
    "                    epochs = epochs,\n",
    "                    verbose = verbose,\n",
    "                    validation_data = (X_test, y_test),\n",
    "                    # callbacks=[\n",
    "                    #     WandbMetricsLogger(log_freq=1),\n",
    "                    #     WandbModelCheckpoint(\"models/model.keras\")\n",
    "                    # ]\n",
    "                            )\n",
    "# run.finish()"
   ]
  },
  {
   "cell_type": "markdown",
   "id": "643f26a6-9647-4833-a5df-de869db6676e",
   "metadata": {},
   "source": [
    "# Evaluación de la red neuronal"
   ]
  },
  {
   "cell_type": "markdown",
   "id": "0c68c753-b00f-414a-a430-39396a04e32d",
   "metadata": {},
   "source": [
    "## Evaluamos la red en el dominio [-1,1]"
   ]
  },
  {
   "cell_type": "code",
   "execution_count": 279,
   "id": "4683fc00-d088-4ca9-b3ca-30a86a9c6d4a",
   "metadata": {},
   "outputs": [
    {
     "name": "stdout",
     "output_type": "stream",
     "text": [
      "\u001b[1m32/32\u001b[0m \u001b[32m━━━━━━━━━━━━━━━━━━━━\u001b[0m\u001b[37m\u001b[0m \u001b[1m0s\u001b[0m 2ms/step \n"
     ]
    }
   ],
   "source": [
    "x_validation = np.linspace(-1,1, 1000).reshape(-1,1)\n",
    "prediction = model.predict(x_validation)\n",
    "prediction = scale_y.inverse_transform(prediction)"
   ]
  },
  {
   "cell_type": "markdown",
   "id": "7141dc7f-b42b-4f88-8ffa-3c4f1a544e55",
   "metadata": {},
   "source": [
    "## Comparamos la predicción con el modelo real"
   ]
  },
  {
   "cell_type": "code",
   "execution_count": 280,
   "id": "2f7ec214-c3c6-46fb-bc52-46ccefa97224",
   "metadata": {},
   "outputs": [
    {
     "data": {
      "image/png": "[encoded data removed]",
      "text/plain": [
       "<Figure size 640x480 with 1 Axes>"
      ]
     },
     "metadata": {},
     "output_type": "display_data"
    }
   ],
   "source": [
    "plt.plot(x_validation, prediction, label = \"Prediccón\")\n",
    "plt.plot(x_validation, np.cos(2*x_validation), label = \"cos(2x)\")\n",
    "plt.legend()\n",
    "plt.grid()\n",
    "plt.show()"
   ]
  },
  {
   "cell_type": "code",
   "execution_count": null,
   "id": "7075bff0-8c7a-4b49-9b57-eafa4442e934",
   "metadata": {},
   "outputs": [],
   "source": []
  }
 ],
 "metadata": {
  "kernelspec": {
   "display_name": "Python 3 (ipykernel)",
   "language": "python",
   "name": "python3"
  },
  "language_info": {
   "codemirror_mode": {
    "name": "ipython",
    "version": 3
   },
   "file_extension": ".py",
   "mimetype": "text/x-python",
   "name": "python",
   "nbconvert_exporter": "python",
   "pygments_lexer": "ipython3",
   "version": "3.11.13"
  }
 },
 "nbformat": 4,
 "nbformat_minor": 5
}
