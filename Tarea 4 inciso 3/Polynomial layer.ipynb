{
 "cells": [
  {
   "cell_type": "markdown",
   "id": "f306e2e7-4991-4d48-aaca-5ad876b0274f",
   "metadata": {},
   "source": [
    "# LIBRERIAS A USAR"
   ]
  },
  {
   "cell_type": "markdown",
   "id": "183f71f7-542e-4559-ada6-02b866535607",
   "metadata": {},
   "source": [
    "## Instalamos las dependecias necesarias"
   ]
  },
  {
   "cell_type": "code",
   "execution_count": 128,
   "id": "956c9b64-d249-4d84-886f-5a01bd128522",
   "metadata": {},
   "outputs": [],
   "source": [
    "# !pip3 install --upgrade wandb\n",
    "# !pip install scikit-learn"
   ]
  },
  {
   "cell_type": "markdown",
   "id": "ecbbd35c-f7b3-4a6f-a798-c82b5a51c788",
   "metadata": {},
   "source": [
    "## Importamos las librerias y sus submodulos"
   ]
  },
  {
   "cell_type": "code",
   "execution_count": 129,
   "id": "154007ab-b3b4-4c8f-9093-c1c39917de25",
   "metadata": {},
   "outputs": [],
   "source": [
    "import warnings\n",
    "warnings.filterwarnings('ignore')\n",
    "import tensorflow as tf\n",
    "import numpy as np\n",
    "import matplotlib.pyplot as plt\n",
    "from matplotlib.image import imread\n",
    "import sklearn\n",
    "import os\n",
    "import time"
   ]
  },
  {
   "cell_type": "code",
   "execution_count": 130,
   "id": "85780d63-9e36-42fc-9c2e-359efda8fc14",
   "metadata": {},
   "outputs": [],
   "source": [
    "from tensorflow import keras\n",
    "from tensorflow.keras.models import Sequential\n",
    "from keras import layers\n",
    "from keras import initializers\n",
    "from tensorflow.keras.layers import Dense, Dropout, Activation\n",
    "from tensorflow.keras.optimizers import RMSprop, SGD, Adam\n",
    "from tensorflow.keras import regularizers\n",
    "from tensorflow.keras.models import load_model\n",
    "from sklearn.model_selection import train_test_split\n",
    "from sklearn.model_selection import train_test_split\n",
    "from sklearn.preprocessing import StandardScaler\n",
    "from tensorflow.keras.callbacks import EarlyStopping"
   ]
  },
  {
   "cell_type": "code",
   "execution_count": 131,
   "id": "d0e4d95e-f3f0-4dec-8a20-dd7a903711eb",
   "metadata": {},
   "outputs": [
    {
     "data": {
      "text/plain": [
       "True"
      ]
     },
     "execution_count": 131,
     "metadata": {},
     "output_type": "execute_result"
    }
   ],
   "source": [
    "import wandb\n",
    "from wandb.integration.keras import WandbMetricsLogger, WandbModelCheckpoint\n",
    "wandb.login()"
   ]
  },
  {
   "cell_type": "markdown",
   "id": "a4e292af-edf9-4d28-8277-52653726ddff",
   "metadata": {},
   "source": [
    "## Definimos los híper-parámetros"
   ]
  },
  {
   "cell_type": "code",
   "execution_count": 132,
   "id": "aa72d2b9-76d9-4e5a-879f-3b2b1647ea97",
   "metadata": {},
   "outputs": [],
   "source": [
    "lr = 0.005 #Learning rate\n",
    "epochs = 100\n",
    "bs = 120 #batch size\n",
    "loss = \"mse\"\n",
    "optimizer = \"ADAM\"\n",
    "regularizer = \"NA\""
   ]
  },
  {
   "cell_type": "code",
   "execution_count": 133,
   "id": "a2b045f0-b946-46a1-b8b9-88810305209b",
   "metadata": {},
   "outputs": [
    {
     "data": {
      "text/html": [],
      "text/plain": [
       "<IPython.core.display.HTML object>"
      ]
     },
     "metadata": {},
     "output_type": "display_data"
    },
    {
     "data": {
      "text/html": [
       "Tracking run with wandb version 0.22.0"
      ],
      "text/plain": [
       "<IPython.core.display.HTML object>"
      ]
     },
     "metadata": {},
     "output_type": "display_data"
    },
    {
     "data": {
      "text/html": [
       "Run data is saved locally in <code>/tf/Tarea_4/Tarea 4 inciso 3/wandb/run-20250927_225627-8919jttp</code>"
      ],
      "text/plain": [
       "<IPython.core.display.HTML object>"
      ]
     },
     "metadata": {},
     "output_type": "display_data"
    },
    {
     "data": {
      "text/html": [
       "Syncing run <strong><a href='https://wandb.ai/luisedu04-buap/Creacion_de_regresion_lineal/runs/8919jttp' target=\"_blank\">Intento_con_dos_capas</a></strong> to <a href='https://wandb.ai/luisedu04-buap/Creacion_de_regresion_lineal' target=\"_blank\">Weights & Biases</a> (<a href='https://wandb.me/developer-guide' target=\"_blank\">docs</a>)<br>"
      ],
      "text/plain": [
       "<IPython.core.display.HTML object>"
      ]
     },
     "metadata": {},
     "output_type": "display_data"
    },
    {
     "data": {
      "text/html": [
       " View project at <a href='https://wandb.ai/luisedu04-buap/Creacion_de_regresion_lineal' target=\"_blank\">https://wandb.ai/luisedu04-buap/Creacion_de_regresion_lineal</a>"
      ],
      "text/plain": [
       "<IPython.core.display.HTML object>"
      ]
     },
     "metadata": {},
     "output_type": "display_data"
    },
    {
     "data": {
      "text/html": [
       " View run at <a href='https://wandb.ai/luisedu04-buap/Creacion_de_regresion_lineal/runs/8919jttp' target=\"_blank\">https://wandb.ai/luisedu04-buap/Creacion_de_regresion_lineal/runs/8919jttp</a>"
      ],
      "text/plain": [
       "<IPython.core.display.HTML object>"
      ]
     },
     "metadata": {},
     "output_type": "display_data"
    }
   ],
   "source": [
    "run = wandb.init(\n",
    "    settings=wandb.Settings(x_disable_stats=False, x_stats_sampling_interval = 1.0),\n",
    "    # set the wandb project where this run will be logged\n",
    "    name = \"Intento_con_dos_capas\",\n",
    "    project = \"Creacion_de_regresion_lineal\",\n",
    "    group = \"Capa_de_polinomio_personalizada\",\n",
    "\n",
    "    # track hyperparameters and run metadata with wandb.config\n",
    "    config = {\n",
    "        \"layer_1\": \"NA\",\n",
    "        \"activation\": \"relu\",\n",
    "        \"w_initializer\": \"He Initialization\",\n",
    "        \"optimizer\": optimizer,\n",
    "        \"loss\": loss,\n",
    "        \"metric\": \"mse\",\n",
    "        \"epoch\": epochs,\n",
    "        \"batch_size\": bs,\n",
    "        \"layer_quantity\": 1,\n",
    "        \"regularizer\": regularizer,\n",
    "        \"Modelo\": \"Pol\"\n",
    "    }\n",
    ")\n",
    "time.sleep(3.0)"
   ]
  },
  {
   "cell_type": "markdown",
   "id": "67274534-9b5a-440e-8c48-31d058f3de06",
   "metadata": {},
   "source": [
    "# Antes de empezar"
   ]
  },
  {
   "cell_type": "markdown",
   "id": "12b93989-50fe-4814-b0e3-5d722ccdeafc",
   "metadata": {},
   "source": [
    "## Creamos el nuevo layer polinomial"
   ]
  },
  {
   "cell_type": "code",
   "execution_count": 134,
   "id": "547dee8a-4a0c-4d14-8a30-ba5626939188",
   "metadata": {},
   "outputs": [],
   "source": [
    "class PolynomialTransform(tf.keras.layers.Layer):\n",
    "    def __init__(self, degree):\n",
    "        super(PolynomialTransform,self).__init__()\n",
    "        \n",
    "        self.num_outputs = degree + 1 #Se define la cantidad de potencias con las que se trabajara (incluido el 0)\n",
    "        self.powers =  tf.range(start = 0.0, limit = self.num_outputs) #Se crea el array de potencias \n",
    "        self.kernel = self.add_weight(name = \"kernel\", shape=[self.num_outputs]) #Se crea el array de pesos\n",
    "\n",
    "    def poly_terms(self, inputs):\n",
    "        #Garantizamos que se aplique a cualquier dato, array o no\n",
    "        inputs = tf.convert_to_tensor(inputs)\n",
    "        if (inputs.shape == ()):\n",
    "            inputs=(inputs,)\n",
    "        elif (len(inputs.shape)==1):\n",
    "            inputs=tf.expand_dims(inputs, axis=1)\n",
    "       \n",
    "        #Sacamos la longitud del batch para conseguir la matriz de potencias\n",
    "        batch = tf.shape(inputs)[0]\n",
    "\n",
    "        #Expandimos los array de entrada y de potencias para que sean compatibles\n",
    "        inputs_expanded = tf.expand_dims(inputs, axis=-1)  #[batch, 1, 1]\n",
    "        powers_expanded = tf.expand_dims(self.powers, axis=0)  #[1, num_outputs]\n",
    "        powers_expanded = tf.expand_dims(powers_expanded, axis=0)  #[1, 1, num_outputs]\n",
    "    \n",
    "        poly_terms = tf.math.pow(inputs_expanded, powers_expanded)  #[batch, 1, num_outputs]\n",
    "        poly_terms = tf.squeeze(poly_terms, axis=1)  #[batch, num_outputs]\n",
    "        return poly_terms\n",
    "\n",
    "    def polynomial(self, inputs, coefficients):\n",
    "        terms = self.poly_terms(inputs)\n",
    "        coefficients = tf.convert_to_tensor(coefficients, dtype=tf.float32)\n",
    "        coefficients = tf.reshape(coefficients, [self.num_outputs])  \n",
    "        return tf.tensordot(terms, coefficients, 1) #[batch] --> batch_i = a_i*(x**i)\n",
    "    \n",
    "    def call(self, inputs):\n",
    "        terms = self.poly_terms(inputs)\n",
    "        terms = tf.tensordot(terms, self.kernel, 1) #[batch] --> batch_i = a_i*(x**i)\n",
    "        return tf.expand_dims(terms, axis = -1)"
   ]
  },
  {
   "cell_type": "markdown",
   "id": "e562854d-9377-41bb-ab11-60729dfa268f",
   "metadata": {},
   "source": [
    "### Verificamos su funcionalidad"
   ]
  },
  {
   "cell_type": "code",
   "execution_count": 135,
   "id": "13295e67-7b09-4be2-b8ed-e61476f10bb3",
   "metadata": {},
   "outputs": [],
   "source": [
    "# prueba1 = PolynomialTransform(degree = 3) #Definimos un polinomio de grado 3\n",
    "# delta = 0.01\n",
    "# x1 = tf.range(-4,4,delta = delta) #Arreglo 1D\n",
    "# print(tf.shape(x1))\n",
    "# res1 = prueba1(inputs = x)\n",
    "# plt.scatter(x,res1)"
   ]
  },
  {
   "cell_type": "code",
   "execution_count": 136,
   "id": "f2b8acbb-7a8e-4f6b-b749-f5aeb4d97b0d",
   "metadata": {},
   "outputs": [],
   "source": [
    "# prueba2 = PolynomialTransform(degree = 5)\n",
    "# x2 = tf.reshape(x1, [800,1])  # Arreglo 2D\n",
    "# print(tf.shape(x2))\n",
    "# res2 = prueba2(inputs = x2)\n",
    "# plt.scatter(x2,res2)"
   ]
  },
  {
   "cell_type": "markdown",
   "id": "b3ccc548-1fa9-4101-a97e-6f6715cb9822",
   "metadata": {},
   "source": [
    "## Creamos y preparamos los datos de entrenamiento"
   ]
  },
  {
   "cell_type": "code",
   "execution_count": 137,
   "id": "f2335a1b-db82-4728-a59c-837c5d41a039",
   "metadata": {},
   "outputs": [
    {
     "data": {
      "text/plain": [
       "<matplotlib.legend.Legend at 0x7b96885de5d0>"
      ]
     },
     "execution_count": 137,
     "metadata": {},
     "output_type": "execute_result"
    },
    {
     "data": {
      "image/png": "[encoded data removed]",
      "text/plain": [
       "<Figure size 640x480 with 1 Axes>"
      ]
     },
     "metadata": {},
     "output_type": "display_data"
    }
   ],
   "source": [
    "batch_size = 5000\n",
    "Polynomial = PolynomialTransform(3)\n",
    "x = tf.random.uniform((batch_size,), minval=-1, maxval=1)\n",
    "y = tf.math.cos(2*x)\n",
    "plt.scatter(x,y, label = \"cos(2x)\")\n",
    "plt.legend()"
   ]
  },
  {
   "cell_type": "code",
   "execution_count": 138,
   "id": "abc60974-e371-4d98-9dfa-f7b4e3acda8e",
   "metadata": {},
   "outputs": [],
   "source": [
    "domain = tf.reshape(x,[-1,1])\n",
    "codomain_cos = tf.reshape(y,[-1,1])\n",
    "domain = domain.numpy()\n",
    "codomain_cos = codomain_cos.numpy()\n",
    "X_train, X_test, y_train, y_test = train_test_split(domain, codomain_cos, test_size=0.2, random_state=42)"
   ]
  },
  {
   "cell_type": "code",
   "execution_count": 139,
   "id": "297ec4aa-4f4d-4840-b020-325f8beda88c",
   "metadata": {},
   "outputs": [],
   "source": [
    "scale_x = StandardScaler()\n",
    "scale_y = StandardScaler()\n",
    "X_train, y_train = scale_x.fit_transform(X_train), scale_y.fit_transform(y_train)\n",
    "X_test, y_test = scale_x.transform(X_test), scale_y.transform(y_test)"
   ]
  },
  {
   "cell_type": "markdown",
   "id": "b39e6d37-60c5-4909-b210-4fe0738fd877",
   "metadata": {},
   "source": [
    "# Creamos la red neuronal"
   ]
  },
  {
   "cell_type": "markdown",
   "id": "c663fd6f-2ba3-46a6-91f7-b1b89dba1cdf",
   "metadata": {},
   "source": [
    "### Usamos Sequential"
   ]
  },
  {
   "cell_type": "code",
   "execution_count": 140,
   "id": "361a0ba5-2f03-4957-b9c2-76d771825fd2",
   "metadata": {},
   "outputs": [],
   "source": [
    "n = 3\n",
    "model = keras.Sequential([\n",
    "        PolynomialTransform(degree = n)\n",
    "]) #Arquitectura de la red neuronal"
   ]
  },
  {
   "cell_type": "code",
   "execution_count": 141,
   "id": "f2984bfa-f345-4f8b-8b9e-35224cce7db2",
   "metadata": {},
   "outputs": [
    {
     "data": {
      "text/html": [
       "<pre style=\"white-space:pre;overflow-x:auto;line-height:normal;font-family:Menlo,'DejaVu Sans Mono',consolas,'Courier New',monospace\"><span style=\"font-weight: bold\">Model: \"sequential_6\"</span>\n",
       "</pre>\n"
      ],
      "text/plain": [
       "\u001b[1mModel: \"sequential_6\"\u001b[0m\n"
      ]
     },
     "metadata": {},
     "output_type": "display_data"
    },
    {
     "data": {
      "text/html": [
       "<pre style=\"white-space:pre;overflow-x:auto;line-height:normal;font-family:Menlo,'DejaVu Sans Mono',consolas,'Courier New',monospace\">┏━━━━━━━━━━━━━━━━━━━━━━━━━━━━━━━━━┳━━━━━━━━━━━━━━━━━━━━━━━━┳━━━━━━━━━━━━━━━┓\n",
       "┃<span style=\"font-weight: bold\"> Layer (type)                    </span>┃<span style=\"font-weight: bold\"> Output Shape           </span>┃<span style=\"font-weight: bold\">       Param # </span>┃\n",
       "┡━━━━━━━━━━━━━━━━━━━━━━━━━━━━━━━━━╇━━━━━━━━━━━━━━━━━━━━━━━━╇━━━━━━━━━━━━━━━┩\n",
       "│ polynomial_transform_11         │ ?                      │   <span style=\"color: #00af00; text-decoration-color: #00af00\">0</span> (unbuilt) │\n",
       "│ (<span style=\"color: #0087ff; text-decoration-color: #0087ff\">PolynomialTransform</span>)           │                        │               │\n",
       "├─────────────────────────────────┼────────────────────────┼───────────────┤\n",
       "│ dense_5 (<span style=\"color: #0087ff; text-decoration-color: #0087ff\">Dense</span>)                 │ ?                      │   <span style=\"color: #00af00; text-decoration-color: #00af00\">0</span> (unbuilt) │\n",
       "├─────────────────────────────────┼────────────────────────┼───────────────┤\n",
       "│ dense_6 (<span style=\"color: #0087ff; text-decoration-color: #0087ff\">Dense</span>)                 │ ?                      │   <span style=\"color: #00af00; text-decoration-color: #00af00\">0</span> (unbuilt) │\n",
       "└─────────────────────────────────┴────────────────────────┴───────────────┘\n",
       "</pre>\n"
      ],
      "text/plain": [
       "┏━━━━━━━━━━━━━━━━━━━━━━━━━━━━━━━━━┳━━━━━━━━━━━━━━━━━━━━━━━━┳━━━━━━━━━━━━━━━┓\n",
       "┃\u001b[1m \u001b[0m\u001b[1mLayer (type)                   \u001b[0m\u001b[1m \u001b[0m┃\u001b[1m \u001b[0m\u001b[1mOutput Shape          \u001b[0m\u001b[1m \u001b[0m┃\u001b[1m \u001b[0m\u001b[1m      Param #\u001b[0m\u001b[1m \u001b[0m┃\n",
       "┡━━━━━━━━━━━━━━━━━━━━━━━━━━━━━━━━━╇━━━━━━━━━━━━━━━━━━━━━━━━╇━━━━━━━━━━━━━━━┩\n",
       "│ polynomial_transform_11         │ ?                      │   \u001b[38;5;34m0\u001b[0m (unbuilt) │\n",
       "│ (\u001b[38;5;33mPolynomialTransform\u001b[0m)           │                        │               │\n",
       "├─────────────────────────────────┼────────────────────────┼───────────────┤\n",
       "│ dense_5 (\u001b[38;5;33mDense\u001b[0m)                 │ ?                      │   \u001b[38;5;34m0\u001b[0m (unbuilt) │\n",
       "├─────────────────────────────────┼────────────────────────┼───────────────┤\n",
       "│ dense_6 (\u001b[38;5;33mDense\u001b[0m)                 │ ?                      │   \u001b[38;5;34m0\u001b[0m (unbuilt) │\n",
       "└─────────────────────────────────┴────────────────────────┴───────────────┘\n"
      ]
     },
     "metadata": {},
     "output_type": "display_data"
    },
    {
     "data": {
      "text/html": [
       "<pre style=\"white-space:pre;overflow-x:auto;line-height:normal;font-family:Menlo,'DejaVu Sans Mono',consolas,'Courier New',monospace\"><span style=\"font-weight: bold\"> Total params: </span><span style=\"color: #00af00; text-decoration-color: #00af00\">4</span> (16.00 B)\n",
       "</pre>\n"
      ],
      "text/plain": [
       "\u001b[1m Total params: \u001b[0m\u001b[38;5;34m4\u001b[0m (16.00 B)\n"
      ]
     },
     "metadata": {},
     "output_type": "display_data"
    },
    {
     "data": {
      "text/html": [
       "<pre style=\"white-space:pre;overflow-x:auto;line-height:normal;font-family:Menlo,'DejaVu Sans Mono',consolas,'Courier New',monospace\"><span style=\"font-weight: bold\"> Trainable params: </span><span style=\"color: #00af00; text-decoration-color: #00af00\">4</span> (16.00 B)\n",
       "</pre>\n"
      ],
      "text/plain": [
       "\u001b[1m Trainable params: \u001b[0m\u001b[38;5;34m4\u001b[0m (16.00 B)\n"
      ]
     },
     "metadata": {},
     "output_type": "display_data"
    },
    {
     "data": {
      "text/html": [
       "<pre style=\"white-space:pre;overflow-x:auto;line-height:normal;font-family:Menlo,'DejaVu Sans Mono',consolas,'Courier New',monospace\"><span style=\"font-weight: bold\"> Non-trainable params: </span><span style=\"color: #00af00; text-decoration-color: #00af00\">0</span> (0.00 B)\n",
       "</pre>\n"
      ],
      "text/plain": [
       "\u001b[1m Non-trainable params: \u001b[0m\u001b[38;5;34m0\u001b[0m (0.00 B)\n"
      ]
     },
     "metadata": {},
     "output_type": "display_data"
    }
   ],
   "source": [
    "model.build(input_shape = keras.Input(shape=(1,)) )\n",
    "model.compile(optimizer=SGD(learning_rate = lr), loss = 'mse')\n",
    "model.summary()"
   ]
  },
  {
   "cell_type": "code",
   "execution_count": 142,
   "id": "205f0258-e228-4924-a672-e308de5f7c61",
   "metadata": {},
   "outputs": [],
   "source": [
    "# for layer in model.layers:\n",
    "#    if hasattr(layer, 'kernel_initializer'):\n",
    "#        new_weights = layer.kernel_initializer(layer.kernel.shape)\n",
    "#        layer.kernel.assign(new_weights)\n",
    "#    if hasattr(layer, 'bias_initializer') and layer.bias is not None:\n",
    "#        new_bias = layer.bias_initializer(layer.bias.shape)\n",
    "#        layer.bias.assign(new_bias)"
   ]
  },
  {
   "cell_type": "markdown",
   "id": "0a4be6d8-a9d2-4bb6-a6b4-adae0949f54c",
   "metadata": {},
   "source": [
    "### Entrenamos la red"
   ]
  },
  {
   "cell_type": "code",
   "execution_count": 143,
   "id": "1a5aaef2-05d2-4943-bf81-a5e6393fef6d",
   "metadata": {},
   "outputs": [
    {
     "data": {
      "text/html": [],
      "text/plain": [
       "<IPython.core.display.HTML object>"
      ]
     },
     "metadata": {},
     "output_type": "display_data"
    },
    {
     "data": {
      "text/html": [
       "<br>    <style><br>        .wandb-row {<br>            display: flex;<br>            flex-direction: row;<br>            flex-wrap: wrap;<br>            justify-content: flex-start;<br>            width: 100%;<br>        }<br>        .wandb-col {<br>            display: flex;<br>            flex-direction: column;<br>            flex-basis: 100%;<br>            flex: 1;<br>            padding: 10px;<br>        }<br>    </style><br><div class=\"wandb-row\"><div class=\"wandb-col\"><h3>Run history:</h3><br/><table class=\"wandb\"><tr><td>batch/batch_step</td><td>▁▁▂▂▂▃▃▃▃▃▄▄▄▄▄▄▄▅▅▅▆▆▆▆▆▆▆▆▇▇▇▇▇▇▇▇████</td></tr><tr><td>batch/learning_rate</td><td>▁▁▁▁▁▁▁▁▁▁▁▁▁▁▁▁▁▁▁▁▁▁▁▁▁▁▁▁▁▁▁▁▁▁▁▁▁▁▁▁</td></tr><tr><td>batch/loss</td><td>███▁▁▁▁▁▁▁▁▁▁▁▁▁▁▁▁▁▁▁▁▁▁▁▁▁▁▁▁▁▁▁▁▁▁▁▁▁</td></tr><tr><td>epoch/epoch</td><td>▁▁▁▂▂▂▂▂▂▂▃▃▃▃▃▃▃▄▄▄▄▄▅▅▅▅▅▅▆▆▆▆▆▆▇▇▇▇▇█</td></tr><tr><td>epoch/learning_rate</td><td>▁▁▁▁▁▁▁▁▁▁▁▁▁▁▁▁▁▁▁▁▁▁▁▁▁▁▁▁▁▁▁▁▁▁▁▁▁▁▁▁</td></tr><tr><td>epoch/loss</td><td>█▆▃▂▁▁▁▁▁▁▁▁▁▁▁▁▁▁▁▁▁▁▁▁▁▁▁▁▁▁▁▁▁▁▁▁▁▁▁▁</td></tr><tr><td>epoch/val_loss</td><td>█▆▄▂▁▁▁▁▁▁▁▁▁▁▁▁▁▁▁▁▁▁▁▁▁▁▁▁▁▁▁▁▁▁▁▁▁▁▁▁</td></tr></table><br/></div><div class=\"wandb-col\"><h3>Run summary:</h3><br/><table class=\"wandb\"><tr><td>batch/batch_step</td><td>3399</td></tr><tr><td>batch/learning_rate</td><td>0.005</td></tr><tr><td>batch/loss</td><td>0.00892</td></tr><tr><td>epoch/epoch</td><td>99</td></tr><tr><td>epoch/learning_rate</td><td>0.005</td></tr><tr><td>epoch/loss</td><td>0.00892</td></tr><tr><td>epoch/val_loss</td><td>0.00866</td></tr></table><br/></div></div>"
      ],
      "text/plain": [
       "<IPython.core.display.HTML object>"
      ]
     },
     "metadata": {},
     "output_type": "display_data"
    },
    {
     "data": {
      "text/html": [
       " View run <strong style=\"color:#cdcd00\">Intento_con_dos_capas</strong> at: <a href='https://wandb.ai/luisedu04-buap/Creacion_de_regresion_lineal/runs/8919jttp' target=\"_blank\">https://wandb.ai/luisedu04-buap/Creacion_de_regresion_lineal/runs/8919jttp</a><br> View project at: <a href='https://wandb.ai/luisedu04-buap/Creacion_de_regresion_lineal' target=\"_blank\">https://wandb.ai/luisedu04-buap/Creacion_de_regresion_lineal</a><br>Synced 5 W&B file(s), 0 media file(s), 200 artifact file(s) and 0 other file(s)"
      ],
      "text/plain": [
       "<IPython.core.display.HTML object>"
      ]
     },
     "metadata": {},
     "output_type": "display_data"
    },
    {
     "data": {
      "text/html": [
       "Find logs at: <code>./wandb/run-20250927_225627-8919jttp/logs</code>"
      ],
      "text/plain": [
       "<IPython.core.display.HTML object>"
      ]
     },
     "metadata": {},
     "output_type": "display_data"
    }
   ],
   "source": [
    "early_stopping = EarlyStopping(monitor='val_loss', patience=5, restore_best_weights=True)\n",
    "verbose = 0\n",
    "history = model.fit(X_train, y_train,\n",
    "                    batch_size = bs,\n",
    "                    epochs = epochs,\n",
    "                    verbose = verbose,\n",
    "                    validation_data = (X_test, y_test),\n",
    "                    callbacks=[\n",
    "                        WandbMetricsLogger(log_freq=1),\n",
    "                        WandbModelCheckpoint(\"models/model.keras\")\n",
    "                    ]\n",
    "                            )\n",
    "run.finish()"
   ]
  },
  {
   "cell_type": "markdown",
   "id": "643f26a6-9647-4833-a5df-de869db6676e",
   "metadata": {},
   "source": [
    "# Evaluación de la red neuronal"
   ]
  },
  {
   "cell_type": "markdown",
   "id": "0c68c753-b00f-414a-a430-39396a04e32d",
   "metadata": {},
   "source": [
    "## Evaluamos la red en el dominio [-1,1]"
   ]
  },
  {
   "cell_type": "code",
   "execution_count": 144,
   "id": "4683fc00-d088-4ca9-b3ca-30a86a9c6d4a",
   "metadata": {},
   "outputs": [
    {
     "name": "stdout",
     "output_type": "stream",
     "text": [
      "\u001b[1m32/32\u001b[0m \u001b[32m━━━━━━━━━━━━━━━━━━━━\u001b[0m\u001b[37m\u001b[0m \u001b[1m0s\u001b[0m 2ms/step \n"
     ]
    }
   ],
   "source": [
    "vg =  np.linspace(-1, 1, 1000).reshape(-1, 1)\n",
    "x_validation = vg\n",
    "x_validation = scale_x.transform(x_validation)\n",
    "prediction = model.predict(x_validation)\n",
    "prediction = scale_y.inverse_transform(prediction)\n",
    "x_validation = vg\n",
    "x = x_validation\n",
    "polynomial_layer = model.layers[0]\n",
    "a_is = polynomial_layer.kernel.numpy()"
   ]
  },
  {
   "cell_type": "markdown",
   "id": "42e795b3-42ff-45b5-9800-b1cd18014407",
   "metadata": {},
   "source": [
    "### Consegimos la función en terminos de los valores normalizados"
   ]
  },
  {
   "cell_type": "code",
   "execution_count": 145,
   "id": "9532d29d-07ae-405f-8f2a-549f3ed9860f",
   "metadata": {},
   "outputs": [],
   "source": [
    "# a_round = np.round(a_is.flatten(), 2)\n",
    "# terms = []\n",
    "# for i, coef in enumerate(a_round):\n",
    "#     terms.append(f\"{coef:.2f}*x**{i}\")\n",
    "\n",
    "# closest_function = \" + \".join(reversed(terms))\n",
    "# print(closest_function)"
   ]
  },
  {
   "cell_type": "markdown",
   "id": "6388cbb0-3321-4cfe-afd9-1eee50a1a69b",
   "metadata": {},
   "source": [
    "### Escalamos los pesos normalizados para obtener el polinomio real"
   ]
  },
  {
   "cell_type": "code",
   "execution_count": 149,
   "id": "a0c7ce87-d943-4059-ba53-63c9d3c27e01",
   "metadata": {},
   "outputs": [
    {
     "name": "stdout",
     "output_type": "stream",
     "text": [
      "-0.00*x**3 + -1.32*x**2 + 0.01*x**1 + 0.38*x**0\n"
     ]
    }
   ],
   "source": [
    "def raw_coefficients(a, mu_x, mu_y, s_x, s_y):\n",
    "    x_s = tf.reshape(-1.0,[-1,1])\n",
    "    b_array = np.zeros(len(a_is))\n",
    "    for i, coef in enumerate(a_is):\n",
    "        b_array[i] =  (s_y*coef)*((x_s-mu_x)/(x_s*s_x))**i\n",
    "    b_array[0] = b_array[0] + mu_y\n",
    "    return b_array\n",
    "\n",
    "\n",
    "a = a_is    \n",
    "mu_x, s_x = scale_x.mean_, scale_x.scale_ \n",
    "mu_y, s_y = scale_y.mean_, scale_y.scale_\n",
    "raw_coefficients = raw_coefficients(a = a, mu_x = mu_x, mu_y = mu_y, s_x = s_x, s_y = s_y)\n",
    "terms = []\n",
    "for i, coef in enumerate(raw_coefficients):\n",
    "    terms.append(f\"{coef:.2f}*x**{i}\")\n",
    "\n",
    "closest_function = \" + \".join(reversed(terms))\n",
    "print(closest_function)"
   ]
  },
  {
   "cell_type": "markdown",
   "id": "7141dc7f-b42b-4f88-8ffa-3c4f1a544e55",
   "metadata": {},
   "source": [
    "## Comparamos la predicción con el modelo real"
   ]
  },
  {
   "cell_type": "code",
   "execution_count": 147,
   "id": "2f7ec214-c3c6-46fb-bc52-46ccefa97224",
   "metadata": {},
   "outputs": [
    {
     "data": {
      "image/png": "[encoded data removed]",
      "text/plain": [
       "<Figure size 640x480 with 1 Axes>"
      ]
     },
     "metadata": {},
     "output_type": "display_data"
    }
   ],
   "source": [
    "plt.plot(x, eval(function), label = \"predicción como polinomio: \" + function)\n",
    "plt.plot(x_validation, prediction, label = \"Prediccón de la red\")\n",
    "plt.legend()\n",
    "plt.grid()\n",
    "plt.show()"
   ]
  },
  {
   "cell_type": "code",
   "execution_count": 148,
   "id": "d4e13fba-66e6-46eb-8e0b-8bef68884f4a",
   "metadata": {},
   "outputs": [
    {
     "data": {
      "image/png": "[encoded data removed]",
      "text/plain": [
       "<Figure size 640x480 with 1 Axes>"
      ]
     },
     "metadata": {},
     "output_type": "display_data"
    }
   ],
   "source": [
    "plt.plot(x, eval(function), label = function)\n",
    "plt.plot(x_validation, np.cos(2*x_validation), label = \"cos(2x)\")\n",
    "plt.legend()\n",
    "plt.grid()\n",
    "plt.show()"
   ]
  }
 ],
 "metadata": {
  "kernelspec": {
   "display_name": "Python 3 (ipykernel)",
   "language": "python",
   "name": "python3"
  },
  "language_info": {
   "codemirror_mode": {
    "name": "ipython",
    "version": 3
   },
   "file_extension": ".py",
   "mimetype": "text/x-python",
   "name": "python",
   "nbconvert_exporter": "python",
   "pygments_lexer": "ipython3",
   "version": "3.11.13"
  }
 },
 "nbformat": 4,
 "nbformat_minor": 5
}
