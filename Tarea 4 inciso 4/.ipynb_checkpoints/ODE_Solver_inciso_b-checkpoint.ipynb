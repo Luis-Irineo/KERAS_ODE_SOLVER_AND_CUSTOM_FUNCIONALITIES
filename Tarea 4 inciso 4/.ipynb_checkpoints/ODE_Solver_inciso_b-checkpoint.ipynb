{
 "cells": [
  {
   "cell_type": "markdown",
   "id": "7990f6f7-a567-4c59-ad38-20eed40b0783",
   "metadata": {},
   "source": [
    "# Importamos las librerias a usar"
   ]
  },
  {
   "cell_type": "code",
   "execution_count": 232,
   "id": "215f6e00-25e4-42c3-b92e-5046932ddd10",
   "metadata": {},
   "outputs": [],
   "source": [
    "# !pip3 install --upgrade wandb"
   ]
  },
  {
   "cell_type": "code",
   "execution_count": 233,
   "id": "cfee9216-a0db-40e1-a3d3-cdaa92657270",
   "metadata": {},
   "outputs": [],
   "source": [
    "import warnings\n",
    "warnings.filterwarnings('ignore')\n",
    "import tensorflow as tf\n",
    "import numpy as np\n",
    "import matplotlib.pyplot as plt\n",
    "from matplotlib.image import imread\n",
    "import sklearn\n",
    "import os\n",
    "import time\n",
    "import numpy as np\n",
    "import matplotlib.pyplot as plt\n",
    "import scipy.special as special"
   ]
  },
  {
   "cell_type": "code",
   "execution_count": 234,
   "id": "e6513357-e745-4d63-b260-44a2e28773e8",
   "metadata": {},
   "outputs": [],
   "source": [
    "from tensorflow import keras\n",
    "from tensorflow.keras.models import Sequential\n",
    "from keras import layers\n",
    "from keras import initializers\n",
    "from tensorflow.keras.layers import Dense, Dropout, Activation\n",
    "from tensorflow.keras.optimizers import RMSprop, SGD, Adam\n",
    "from tensorflow.keras import regularizers\n",
    "from tensorflow.keras.models import load_model\n",
    "from sklearn.preprocessing import StandardScaler\n",
    "from tensorflow.keras.callbacks import EarlyStopping\n",
    "from scipy.special import j0, y0"
   ]
  },
  {
   "cell_type": "code",
   "execution_count": 235,
   "id": "506659fb-b52e-4f1b-b579-bcb1f700484f",
   "metadata": {},
   "outputs": [
    {
     "data": {
      "text/plain": [
       "True"
      ]
     },
     "execution_count": 235,
     "metadata": {},
     "output_type": "execute_result"
    }
   ],
   "source": [
    "import wandb\n",
    "from wandb.integration.keras import WandbMetricsLogger, WandbModelCheckpoint\n",
    "wandb.login()"
   ]
  },
  {
   "cell_type": "code",
   "execution_count": 236,
   "id": "b9e2aca4-fd04-4c82-8f60-3cd6f7205f9b",
   "metadata": {},
   "outputs": [],
   "source": [
    "# lr = \"NA\" #Learning rate\n",
    "# epochs = 500\n",
    "# bs = \"NA\" #batch size\n",
    "# loss = \"mse\"\n",
    "# optimizer = \"SDG\"\n",
    "# regularizer = \"NA\""
   ]
  },
  {
   "cell_type": "code",
   "execution_count": 237,
   "id": "e9e91cfa-0890-4fa6-9f23-ce6b87893ee8",
   "metadata": {},
   "outputs": [],
   "source": [
    "# run = wandb.init(\n",
    "#     settings=wandb.Settings(x_disable_stats=False, x_stats_sampling_interval = 25),\n",
    "#     # set the wandb project where this run will be logged\n",
    "#     name = \"Primer_Intento\",\n",
    "#     project = \"Creacion_de_regresion_lineal\",\n",
    "#     group = \"ODE_SOLVER_B\",\n",
    "\n",
    "#     # track hyperparameters and run metadata with wandb.config\n",
    "#     config = {\n",
    "#         \"layer_1\": \"100\",\n",
    "#         \"layer_2\": \"20\",\n",
    "#         \"layer_3\": \"1\",\n",
    "#         \"activation_1_2\": \"tanh\",\n",
    "#         \"activation_3\": \"linear\",\n",
    "#         \"w_initializer\": \"He Initialization\",\n",
    "#         \"optimizer\": optimizer,\n",
    "#         \"loss\": loss,\n",
    "#         \"metric\": \"mse\",\n",
    "#         \"epoch\": epochs,\n",
    "#         \"batch_size\": bs,\n",
    "#         \"layer_quantity\": 3,\n",
    "#         \"regularizer\": regularizer,\n",
    "#         \"Modelo\": \"ODE\"\n",
    "#     }\n",
    "# )\n",
    "# time.sleep(3.0)"
   ]
  },
  {
   "cell_type": "markdown",
   "id": "3e1f8577-0b6a-4d0b-ac58-7e95eac312bb",
   "metadata": {},
   "source": [
    "# Preparación"
   ]
  },
  {
   "cell_type": "markdown",
   "id": "9761b2a8-4c90-48fe-a1d1-0439c418d577",
   "metadata": {},
   "source": [
    "La solución de la ec. diferencial es y(x) = x*sen(x) - (2*sen(x))/x + 2*cos(x) + C/x, para valores muy pequeños de x tenemos y(x) = x^2 - 2x/x + 2 + C/x = x^2 + C/x si hacemos C = 0 entonces y(0) = 0 para valores pequeños de x. de otro modo en 0 la solución se va a infinito en 0. Ppor otro lado para evitar problemas de entrenamiento en la red aproximaremos el x_0<<1 y no a 0."
   ]
  },
  {
   "cell_type": "markdown",
   "id": "0759bd66-5e3e-4350-a710-b59cc72c31e0",
   "metadata": {},
   "source": [
    "## Creamos la clase para resolver la ecuación diferencial"
   ]
  },
  {
   "cell_type": "code",
   "execution_count": 238,
   "id": "42053457-2f9e-48d7-ac33-d6ad06ef5007",
   "metadata": {},
   "outputs": [],
   "source": [
    "class ODEsolver(Sequential):\n",
    "    def __init__(self, **kwargs):\n",
    "        super().__init__(**kwargs)\n",
    "        self.loss_tracker = keras.metrics.Mean(name=\"loss\")\n",
    "        self.mse = tf.keras.losses.MeanSquaredError()\n",
    "\n",
    "    @property\n",
    "    def metrics(self):\n",
    "      return [self.loss_tracker]\n",
    "\n",
    "    def train_step(self, data):\n",
    "         batch_size = tf.shape(data)[0]\n",
    "         min_val = tf.cast(tf.reduce_min(data),tf.float32)\n",
    "         max_val = tf.cast(tf.reduce_max(data),tf.float32)\n",
    "         x = tf.random.uniform((batch_size,1), minval=min_val, maxval=max_val)\n",
    "\n",
    "         with tf.GradientTape(persistent = True) as tape:\n",
    "             tape.watch(x)\n",
    "             with tf.GradientTape() as tape2:\n",
    "                 tape2.watch(x)\n",
    "                 y_pred = self(x, training=True)\n",
    "             \n",
    "             dy = tape2.gradient(y_pred, x) #derivada del modelo con respecto a entradas x\n",
    "             ddy = tape.gradient(dy, x)\n",
    "             \n",
    "             x_o = tf.zeros((batch_size,1)) #valor de x en condicion inicial x_0=0\n",
    "             y_o = self(x_o,training=True) #valor del modelo en en x_0\n",
    "        \n",
    "             with tf.GradientTape() as tape3:\n",
    "                 tape3.watch(x_o)\n",
    "                 y_o_tape = self(x_o, training = True)\n",
    "             dy_o = tape3.gradient(y_o_tape, x_o)\n",
    "             eq = x*ddy + dy/x + y_pred #Ecuacion diferencial evaluada en el modelo. Queremos que sea muy pequeno\n",
    "             ic1 = 0.1\n",
    "             ic2 = -0.5\n",
    "             loss = self.mse(0., eq) + self.mse(y_o,ic1) + self.mse(dy_o,ic2)\n",
    "\n",
    "        # Apply grads\n",
    "         trainable_vars = self.trainable_variables \n",
    "         grads = tape.gradient(loss, self.trainable_variables)\n",
    "         self.optimizer.apply_gradients(zip(grads, self.trainable_variables))\n",
    "        #update metrics\n",
    "         self.loss_tracker.update_state(loss)\n",
    "         del tape\n",
    "         return {\"loss\": self.loss_tracker.result()}"
   ]
  },
  {
   "cell_type": "markdown",
   "id": "c292252b-9093-4f87-b413-97fefe4b6407",
   "metadata": {},
   "source": [
    "# Creación de la red neuronal"
   ]
  },
  {
   "cell_type": "code",
   "execution_count": 239,
   "id": "5dfde34e-f867-4425-8d6c-afa3cec60dfb",
   "metadata": {},
   "outputs": [
    {
     "data": {
      "text/html": [
       "<pre style=\"white-space:pre;overflow-x:auto;line-height:normal;font-family:Menlo,'DejaVu Sans Mono',consolas,'Courier New',monospace\"><span style=\"font-weight: bold\">Model: \"od_esolver_14\"</span>\n",
       "</pre>\n"
      ],
      "text/plain": [
       "\u001b[1mModel: \"od_esolver_14\"\u001b[0m\n"
      ]
     },
     "metadata": {},
     "output_type": "display_data"
    },
    {
     "data": {
      "text/html": [
       "<pre style=\"white-space:pre;overflow-x:auto;line-height:normal;font-family:Menlo,'DejaVu Sans Mono',consolas,'Courier New',monospace\">┏━━━━━━━━━━━━━━━━━━━━━━━━━━━━━━━━━┳━━━━━━━━━━━━━━━━━━━━━━━━┳━━━━━━━━━━━━━━━┓\n",
       "┃<span style=\"font-weight: bold\"> Layer (type)                    </span>┃<span style=\"font-weight: bold\"> Output Shape           </span>┃<span style=\"font-weight: bold\">       Param # </span>┃\n",
       "┡━━━━━━━━━━━━━━━━━━━━━━━━━━━━━━━━━╇━━━━━━━━━━━━━━━━━━━━━━━━╇━━━━━━━━━━━━━━━┩\n",
       "│ dense_55 (<span style=\"color: #0087ff; text-decoration-color: #0087ff\">Dense</span>)                │ (<span style=\"color: #00d7ff; text-decoration-color: #00d7ff\">None</span>, <span style=\"color: #00af00; text-decoration-color: #00af00\">100</span>)            │           <span style=\"color: #00af00; text-decoration-color: #00af00\">200</span> │\n",
       "├─────────────────────────────────┼────────────────────────┼───────────────┤\n",
       "│ dense_56 (<span style=\"color: #0087ff; text-decoration-color: #0087ff\">Dense</span>)                │ (<span style=\"color: #00d7ff; text-decoration-color: #00d7ff\">None</span>, <span style=\"color: #00af00; text-decoration-color: #00af00\">100</span>)            │        <span style=\"color: #00af00; text-decoration-color: #00af00\">10,100</span> │\n",
       "├─────────────────────────────────┼────────────────────────┼───────────────┤\n",
       "│ dense_57 (<span style=\"color: #0087ff; text-decoration-color: #0087ff\">Dense</span>)                │ (<span style=\"color: #00d7ff; text-decoration-color: #00d7ff\">None</span>, <span style=\"color: #00af00; text-decoration-color: #00af00\">50</span>)             │         <span style=\"color: #00af00; text-decoration-color: #00af00\">5,050</span> │\n",
       "├─────────────────────────────────┼────────────────────────┼───────────────┤\n",
       "│ dense_58 (<span style=\"color: #0087ff; text-decoration-color: #0087ff\">Dense</span>)                │ (<span style=\"color: #00d7ff; text-decoration-color: #00d7ff\">None</span>, <span style=\"color: #00af00; text-decoration-color: #00af00\">1</span>)              │            <span style=\"color: #00af00; text-decoration-color: #00af00\">51</span> │\n",
       "└─────────────────────────────────┴────────────────────────┴───────────────┘\n",
       "</pre>\n"
      ],
      "text/plain": [
       "┏━━━━━━━━━━━━━━━━━━━━━━━━━━━━━━━━━┳━━━━━━━━━━━━━━━━━━━━━━━━┳━━━━━━━━━━━━━━━┓\n",
       "┃\u001b[1m \u001b[0m\u001b[1mLayer (type)                   \u001b[0m\u001b[1m \u001b[0m┃\u001b[1m \u001b[0m\u001b[1mOutput Shape          \u001b[0m\u001b[1m \u001b[0m┃\u001b[1m \u001b[0m\u001b[1m      Param #\u001b[0m\u001b[1m \u001b[0m┃\n",
       "┡━━━━━━━━━━━━━━━━━━━━━━━━━━━━━━━━━╇━━━━━━━━━━━━━━━━━━━━━━━━╇━━━━━━━━━━━━━━━┩\n",
       "│ dense_55 (\u001b[38;5;33mDense\u001b[0m)                │ (\u001b[38;5;45mNone\u001b[0m, \u001b[38;5;34m100\u001b[0m)            │           \u001b[38;5;34m200\u001b[0m │\n",
       "├─────────────────────────────────┼────────────────────────┼───────────────┤\n",
       "│ dense_56 (\u001b[38;5;33mDense\u001b[0m)                │ (\u001b[38;5;45mNone\u001b[0m, \u001b[38;5;34m100\u001b[0m)            │        \u001b[38;5;34m10,100\u001b[0m │\n",
       "├─────────────────────────────────┼────────────────────────┼───────────────┤\n",
       "│ dense_57 (\u001b[38;5;33mDense\u001b[0m)                │ (\u001b[38;5;45mNone\u001b[0m, \u001b[38;5;34m50\u001b[0m)             │         \u001b[38;5;34m5,050\u001b[0m │\n",
       "├─────────────────────────────────┼────────────────────────┼───────────────┤\n",
       "│ dense_58 (\u001b[38;5;33mDense\u001b[0m)                │ (\u001b[38;5;45mNone\u001b[0m, \u001b[38;5;34m1\u001b[0m)              │            \u001b[38;5;34m51\u001b[0m │\n",
       "└─────────────────────────────────┴────────────────────────┴───────────────┘\n"
      ]
     },
     "metadata": {},
     "output_type": "display_data"
    },
    {
     "data": {
      "text/html": [
       "<pre style=\"white-space:pre;overflow-x:auto;line-height:normal;font-family:Menlo,'DejaVu Sans Mono',consolas,'Courier New',monospace\"><span style=\"font-weight: bold\"> Total params: </span><span style=\"color: #00af00; text-decoration-color: #00af00\">15,401</span> (60.16 KB)\n",
       "</pre>\n"
      ],
      "text/plain": [
       "\u001b[1m Total params: \u001b[0m\u001b[38;5;34m15,401\u001b[0m (60.16 KB)\n"
      ]
     },
     "metadata": {},
     "output_type": "display_data"
    },
    {
     "data": {
      "text/html": [
       "<pre style=\"white-space:pre;overflow-x:auto;line-height:normal;font-family:Menlo,'DejaVu Sans Mono',consolas,'Courier New',monospace\"><span style=\"font-weight: bold\"> Trainable params: </span><span style=\"color: #00af00; text-decoration-color: #00af00\">15,401</span> (60.16 KB)\n",
       "</pre>\n"
      ],
      "text/plain": [
       "\u001b[1m Trainable params: \u001b[0m\u001b[38;5;34m15,401\u001b[0m (60.16 KB)\n"
      ]
     },
     "metadata": {},
     "output_type": "display_data"
    },
    {
     "data": {
      "text/html": [
       "<pre style=\"white-space:pre;overflow-x:auto;line-height:normal;font-family:Menlo,'DejaVu Sans Mono',consolas,'Courier New',monospace\"><span style=\"font-weight: bold\"> Non-trainable params: </span><span style=\"color: #00af00; text-decoration-color: #00af00\">0</span> (0.00 B)\n",
       "</pre>\n"
      ],
      "text/plain": [
       "\u001b[1m Non-trainable params: \u001b[0m\u001b[38;5;34m0\u001b[0m (0.00 B)\n"
      ]
     },
     "metadata": {},
     "output_type": "display_data"
    }
   ],
   "source": [
    "model = ODEsolver()\n",
    "model.add(Dense(100, activation='tanh', input_shape=(1,)))\n",
    "model.add(Dense(100, activation='tanh'))\n",
    "model.add(Dense((50), activation=\"tanh\"))\n",
    "model.add(Dense(1))\n",
    "model.summary()"
   ]
  },
  {
   "cell_type": "markdown",
   "id": "e1d6eff4-f34a-45d3-b97b-3ded8fd57b1b",
   "metadata": {},
   "source": [
    "## Observamos el comportamiento del loss"
   ]
  },
  {
   "cell_type": "code",
   "execution_count": null,
   "id": "9af36885-0f95-41bb-a4aa-09310166e736",
   "metadata": {},
   "outputs": [
    {
     "name": "stdout",
     "output_type": "stream",
     "text": [
      "Epoch 1/1000\n",
      "\u001b[1m313/313\u001b[0m \u001b[32m━━━━━━━━━━━━━━━━━━━━\u001b[0m\u001b[37m\u001b[0m \u001b[1m1s\u001b[0m 1ms/step - loss: 79.5459\n",
      "Epoch 2/1000\n",
      "\u001b[1m313/313\u001b[0m \u001b[32m━━━━━━━━━━━━━━━━━━━━\u001b[0m\u001b[37m\u001b[0m \u001b[1m0s\u001b[0m 1ms/step - loss: 3.1669\n",
      "Epoch 3/1000\n",
      "\u001b[1m313/313\u001b[0m \u001b[32m━━━━━━━━━━━━━━━━━━━━\u001b[0m\u001b[37m\u001b[0m \u001b[1m0s\u001b[0m 1ms/step - loss: 3.3339\n",
      "Epoch 4/1000\n",
      "\u001b[1m313/313\u001b[0m \u001b[32m━━━━━━━━━━━━━━━━━━━━\u001b[0m\u001b[37m\u001b[0m \u001b[1m0s\u001b[0m 1ms/step - loss: 2.6669\n",
      "Epoch 5/1000\n",
      "\u001b[1m313/313\u001b[0m \u001b[32m━━━━━━━━━━━━━━━━━━━━\u001b[0m\u001b[37m\u001b[0m \u001b[1m0s\u001b[0m 1ms/step - loss: 1.3200\n",
      "Epoch 6/1000\n",
      "\u001b[1m313/313\u001b[0m \u001b[32m━━━━━━━━━━━━━━━━━━━━\u001b[0m\u001b[37m\u001b[0m \u001b[1m0s\u001b[0m 1ms/step - loss: 0.4623\n",
      "Epoch 7/1000\n",
      "\u001b[1m313/313\u001b[0m \u001b[32m━━━━━━━━━━━━━━━━━━━━\u001b[0m\u001b[37m\u001b[0m \u001b[1m0s\u001b[0m 1ms/step - loss: 1.3607\n",
      "Epoch 8/1000\n",
      "\u001b[1m313/313\u001b[0m \u001b[32m━━━━━━━━━━━━━━━━━━━━\u001b[0m\u001b[37m\u001b[0m \u001b[1m0s\u001b[0m 1ms/step - loss: 0.2705\n",
      "Epoch 9/1000\n",
      "\u001b[1m313/313\u001b[0m \u001b[32m━━━━━━━━━━━━━━━━━━━━\u001b[0m\u001b[37m\u001b[0m \u001b[1m0s\u001b[0m 1ms/step - loss: 0.2800\n",
      "Epoch 10/1000\n",
      "\u001b[1m313/313\u001b[0m \u001b[32m━━━━━━━━━━━━━━━━━━━━\u001b[0m\u001b[37m\u001b[0m \u001b[1m0s\u001b[0m 1ms/step - loss: 0.2904\n",
      "Epoch 11/1000\n",
      "\u001b[1m 84/313\u001b[0m \u001b[32m━━━━━\u001b[0m\u001b[37m━━━━━━━━━━━━━━━\u001b[0m \u001b[1m0s\u001b[0m 1ms/step - loss: 0.2699"
     ]
    }
   ],
   "source": [
    "model.compile(optimizer=RMSprop(),metrics=['loss'])\n",
    "divisions = 10000\n",
    "x = tf.linspace(-5,5,divisions)\n",
    "early_stopping = keras.callbacks.EarlyStopping(monitor='loss',\n",
    "                               min_delta = 0.001,\n",
    "                               patience=150, \n",
    "                               restore_best_weights=True,\n",
    "                               mode = \"auto\",\n",
    "                               verbose = 1,\n",
    "                               baseline = None)\n",
    "history = model.fit(x, \n",
    "                    epochs = 1000, \n",
    "                    verbose = 1, \n",
    "                    callbacks=[\n",
    "                        # WandbMetricsLogger(log_freq=25),\n",
    "                        # WandbModelCheckpoint(\"models/model.keras\"),\n",
    "                        early_stopping\n",
    "                    ])\n",
    "# run.finish()\n",
    "plt.plot(history.history[\"loss\"])"
   ]
  },
  {
   "cell_type": "markdown",
   "id": "1ea5b096-8241-4496-b671-39be8ee92efb",
   "metadata": {},
   "source": [
    "## Visualizamos"
   ]
  },
  {
   "cell_type": "code",
   "execution_count": null,
   "id": "832e55ae-4466-407c-9793-1be282507a8b",
   "metadata": {},
   "outputs": [],
   "source": [
    "def y(x, C1=1.0, C2=0.0):\n",
    "    return C1 * special.j0(np.sqrt(2 * x)) + C2 * special.y0(np.sqrt(2 * x))\n",
    "\n",
    "\n",
    "x_testv = tf.linspace(-5,5,divisions)\n",
    "x = x_testv\n",
    "a=model.predict(x_testv)\n",
    "plt.scatter(x_testv,a,label=\"aprox\", s = 0.2, color = \"blue\")\n",
    "plt.plot(x_testv, y(x),label=\"exact\", color = \"red\")\n",
    "plt.legend()\n",
    "plt.show()\n"
   ]
  }
 ],
 "metadata": {
  "kernelspec": {
   "display_name": "Python 3 (ipykernel)",
   "language": "python",
   "name": "python3"
  },
  "language_info": {
   "codemirror_mode": {
    "name": "ipython",
    "version": 3
   },
   "file_extension": ".py",
   "mimetype": "text/x-python",
   "name": "python",
   "nbconvert_exporter": "python",
   "pygments_lexer": "ipython3",
   "version": "3.11.13"
  }
 },
 "nbformat": 4,
 "nbformat_minor": 5
}
